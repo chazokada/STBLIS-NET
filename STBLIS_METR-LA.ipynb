{
 "cells": [
  {
   "cell_type": "markdown",
   "id": "3d26eeb8-32d7-45ad-a30f-b19daf5c2ad0",
   "metadata": {},
   "source": [
    "# SpatioTemporal BLIS-Net Adaptation - METR-LA Dataset\n",
    "Run the cells in this notebook to train and evaluate the STBLIS-Net. \n",
    "First, import the necessary libraries and define the module classes."
   ]
  },
  {
   "cell_type": "code",
   "execution_count": 1,
   "id": "23af0df9-203c-4daf-8dd9-325b7544c551",
   "metadata": {},
   "outputs": [],
   "source": [
    "import pickle\n",
    "import numpy as np\n",
    "import pandas as pd\n",
    "import matplotlib.pyplot as plt\n",
    "import stblis_utils as stb\n",
    "from tqdm import tqdm\n",
    "import torch\n",
    "import torch.nn as nn\n",
    "import torch.optim as optim\n",
    "import torch.nn.functional as F\n",
    "import torch.multiprocessing as mp\n",
    "import torch.distributed as dist\n",
    "from torch.utils.data import DataLoader, TensorDataset\n",
    "\n",
    "# Module that does the spatiotemporal BLIS calculation\n",
    "class STBLISModule(nn.Module):\n",
    "    def __init__(self, adj_s, adj_t, K, J, wavelet_type=\"W_2\"):\n",
    "        super(STBLISModule, self).__init__()\n",
    "        if wavelet_type == \"W_2\":\n",
    "            self.s_wav = stb.get_W_2(adj_s, K, True)\n",
    "            self.t_wav = stb.get_W_2(adj_t, J, True)\n",
    "        else:\n",
    "            self.s_wav = stb.get_W_1(adj_s, K, True)\n",
    "            self.t_wav = stb.get_W_1(adj_t, J, True)\n",
    "\n",
    "    def forward(self, x):\n",
    "        if len(x.shape) == 3:  # Add dimension if input has 3 dimensions\n",
    "            x = x.unsqueeze(1)\n",
    "        new_outputs = []\n",
    "        B, C, N, T = x.shape\n",
    "        x = x.reshape(B, C, N *T)\n",
    "        kron_product = torch.kron(self.s_wav, self.t_wav)  # Kronecker product\n",
    "        D, _, _ = kron_product.shape\n",
    "        filtered_data = torch.einsum('ijk, mlk->mlij', kron_product, x)\n",
    "        filtered_data = filtered_data.reshape(B, C * D, N, T)\n",
    "        \n",
    "        new_outputs.append(F.relu(filtered_data))\n",
    "        new_outputs.append(F.relu(-filtered_data))\n",
    "        \n",
    "        output = torch.cat(new_outputs, dim=1)\n",
    "        return output\n",
    "\n",
    "# Define sum aggregation of the wavelet scattering outputs\n",
    "class SumAgg(nn.Module):\n",
    "    def forward(self, x):\n",
    "        # Aggregate features across nodes\n",
    "        aggregated_data = x.sum(dim=1, keepdim=False)\n",
    "        return aggregated_data\n",
    "\n",
    "# Define mean aggregation of the wavelet scattering outputs\n",
    "class MeanAgg(nn.Module):\n",
    "    def forward(self, x):\n",
    "        # Aggregate features across nodes\n",
    "        aggregated_data = x.mean(dim=1, keepdim=False)\n",
    "        return aggregated_data\n",
    "\n",
    "# Embedding layer for the MLP\n",
    "class EmbeddingLayer(nn.Module):\n",
    "    def __init__(self, input_dim, hidden_dim):\n",
    "        super(EmbeddingLayer, self).__init__()\n",
    "        self.fc = nn.Linear(input_dim, hidden_dim)\n",
    "        self.bn = nn.BatchNorm1d(hidden_dim)\n",
    "        self.dropout = nn.Dropout(p=0.5)\n",
    "        \n",
    "    def forward(self, x):\n",
    "        x = F.relu(self.bn(self.fc(x)))\n",
    "        out = self.dropout(x)\n",
    "        return out\n",
    "\n",
    "# Regression layer for the MLP\n",
    "class RegressionLayer(nn.Module):\n",
    "    def __init__(self, input_dim, output_dim, num_nodes):\n",
    "        super(RegressionLayer, self).__init__()\n",
    "        self.fc = nn.Linear(input_dim, num_nodes * output_dim)\n",
    "        self.num_nodes = num_nodes\n",
    "        self.output_dim = output_dim\n",
    "        \n",
    "    def forward(self, x):\n",
    "        x = self.fc(x)\n",
    "        x = x.view(-1, self.num_nodes, self.output_dim)\n",
    "        return x\n",
    "\n",
    "# Define module to precompute the spatiotemporal BLIS module on the data\n",
    "class STBLISPrecompute(nn.Module):\n",
    "    def __init__(self, adj_s, adj_t, K, J, wavelet_type=\"W_2\"):\n",
    "        super(STBLISPrecompute, self).__init__()\n",
    "        self.blis_module = STBLISModule(adj_s, adj_t, K, J, wavelet_type=wavelet_type)\n",
    "        self.moment_aggregation = MeanAgg()\n",
    "        \n",
    "    def forward(self, x_in):\n",
    "        x = self.blis_module(x_in)\n",
    "        x = self.moment_aggregation(x)\n",
    "        out = x + x_in # Because we are taking the mean, we can add in the input as a residual to retain more input information\n",
    "        return out\n",
    "\n",
    "# Defines the output network from the spatiotemporal BLIS module\n",
    "class MLPNet(nn.Module):\n",
    "    def __init__(self, input_dim, hidden_dim, output_dim, num_nodes, device):\n",
    "        super(MLPNet, self).__init__()\n",
    "        self.embedding_layer = EmbeddingLayer(input_dim, hidden_dim).to(device)\n",
    "        self.regression_layer = RegressionLayer(hidden_dim, output_dim, num_nodes).to(device)\n",
    "\n",
    "    def forward(self, x):\n",
    "        x = self.embedding_layer(x)\n",
    "        x = self.regression_layer(x)\n",
    "        return x"
   ]
  },
  {
   "cell_type": "markdown",
   "id": "064fe53e-6fa0-4e3f-a3f2-0e53b8dd48db",
   "metadata": {},
   "source": [
    "### Load the train, test, and val data\n",
    "Shape is (num_samples, num_sensors, num_timesteps)"
   ]
  },
  {
   "cell_type": "code",
   "execution_count": 2,
   "id": "c9168d52-0769-4e39-af23-45a6136cc67e",
   "metadata": {},
   "outputs": [
    {
     "name": "stdout",
     "output_type": "stream",
     "text": [
      "x_train shape: torch.Size([23974, 207, 12])\n",
      "y_train shape: torch.Size([23974, 207, 12])\n",
      "x_test shape: torch.Size([6850, 207, 12])\n",
      "y_test shape: torch.Size([6850, 207, 12])\n",
      "x_val shape: torch.Size([3425, 207, 12])\n",
      "y_val shape: torch.Size([3425, 207, 12])\n"
     ]
    }
   ],
   "source": [
    "# Define the path to the compressed training data file\n",
    "train_file_path = 'data/METR-LA/train.npz'\n",
    "\n",
    "# Load the data for training\n",
    "with np.load(train_file_path) as data:\n",
    "    # Convert to float32 and permute dimensions (0, 2, 1, 3)\n",
    "    x_train = torch.from_numpy(data['x']).permute(0, 2, 1, 3).to(torch.float32)\n",
    "    y_train = torch.from_numpy(data['y']).permute(0, 2, 1, 3).to(torch.float32)  # Apply permute to y_train as well\n",
    "    x_train_offsets = torch.from_numpy(data['x_offsets']).to(torch.float32)\n",
    "    y_train_offsets = torch.from_numpy(data['y_offsets']).to(torch.float32)\n",
    "\n",
    "x_train = x_train[..., 0]\n",
    "y_train = y_train[..., 0]\n",
    "print(\"x_train shape:\", x_train.shape)\n",
    "print(\"y_train shape:\", y_train.shape)\n",
    "\n",
    "# Define the path to the compressed test data file\n",
    "test_file_path = 'data/METR-LA/test.npz'\n",
    "\n",
    "# Load the data for testing\n",
    "with np.load(test_file_path) as data:\n",
    "    x_test = torch.from_numpy(data['x']).permute(0, 2, 1, 3).to(torch.float32)  # Permuting dimensions for x_test\n",
    "    y_test = torch.from_numpy(data['y']).permute(0, 2, 1, 3).to(torch.float32)  # Apply permute to y_test as well\n",
    "    x_test_offsets = torch.from_numpy(data['x_offsets']).to(torch.float32)\n",
    "    y_test_offsets = torch.from_numpy(data['y_offsets']).to(torch.float32)\n",
    "\n",
    "x_test= x_test[..., 0]\n",
    "y_test = y_test[..., 0]\n",
    "print(\"x_test shape:\", x_test.shape)\n",
    "print(\"y_test shape:\", y_test.shape)\n",
    "\n",
    "# Define the path to the compressed validation data file\n",
    "val_file_path = 'data/METR-LA/val.npz'\n",
    "\n",
    "# Load the data for validation\n",
    "with np.load(val_file_path) as data:\n",
    "    x_val = torch.from_numpy(data['x']).permute(0, 2, 1, 3).to(torch.float32)  # Permuting dimensions for x_val\n",
    "    y_val = torch.from_numpy(data['y']).permute(0, 2, 1, 3).to(torch.float32)  # Apply permute to y_val as well\n",
    "    x_val_offsets = torch.from_numpy(data['x_offsets']).to(torch.float32)\n",
    "    y_val_offsets = torch.from_numpy(data['y_offsets']).to(torch.float32)\n",
    "\n",
    "x_val = x_val[..., 0]\n",
    "y_val = y_val[..., 0]\n",
    "print(\"x_val shape:\", x_val.shape)\n",
    "print(\"y_val shape:\", y_val.shape)"
   ]
  },
  {
   "cell_type": "markdown",
   "id": "daf2988a-1058-4ed1-beaf-054973f34ad9",
   "metadata": {},
   "source": [
    "### Load the adjacency matrix and create the time adjacency matrix. Create dictionaries for the mean and standard deviation values of each sensor, which can be used later to plot the original data.\n",
    "Spatial adjacency matrix has shape (num_sensors, num_sensors).\n",
    "\n",
    "Temporal adjacency matrix has shape (num_timesteps, num_timesteps)."
   ]
  },
  {
   "cell_type": "code",
   "execution_count": 3,
   "id": "b92d17d4-a144-4f3d-a3f7-61a608928421",
   "metadata": {},
   "outputs": [
    {
     "name": "stdout",
     "output_type": "stream",
     "text": [
      "Spatial adjacency Matrix Shape: torch.Size([207, 207])\n",
      "Temporal Adjacency Matrix Shape: torch.Size([12, 12])\n"
     ]
    }
   ],
   "source": [
    "# File paths\n",
    "adj_file = 'adj_mx.pkl'\n",
    "data_file = \"data/METR-LA/metr-la.h5\"\n",
    "\n",
    "# Load adjacency matrix data from pickle file\n",
    "with open(adj_file, 'rb') as f:\n",
    "    sensor_ids, sensor_id_to_ind, adj_mx = pickle.load(f, encoding='latin1')\n",
    "\n",
    "# Convert adjacency matrix to a tensor and set its dtype to float32\n",
    "adj_mx = torch.from_numpy(adj_mx).to(torch.float32)\n",
    "print(f\"Spatial adjacency Matrix Shape: {adj_mx.shape}\")\n",
    "\n",
    "# Generate time adjacency matrix\n",
    "tadj_mx = stb.get_time_adj(x_train.shape[2])\n",
    "print(f\"Temporal Adjacency Matrix Shape: {tadj_mx.shape}\")\n",
    "\n",
    "# Load dataset\n",
    "df = pd.read_hdf(data_file)\n",
    "\n",
    "# Compute mean and standard deviation for each sensor, store in dict\n",
    "mean_values = df.mean().to_dict()\n",
    "std_values = df.std().to_dict()\n",
    "\n",
    "# Map mean and std values to the corresponding sensor indices\n",
    "mean_ind_dict = {\n",
    "    sensor_id_to_ind[sensor_id]: mean_values[sensor_id]\n",
    "    for sensor_id in mean_values if sensor_id in sensor_id_to_ind\n",
    "}\n",
    "\n",
    "std_ind_dict = {\n",
    "    sensor_id_to_ind[sensor_id]: std_values[sensor_id]\n",
    "    for sensor_id in std_values if sensor_id in sensor_id_to_ind\n",
    "}"
   ]
  },
  {
   "cell_type": "markdown",
   "id": "e21acad5-d002-4da6-9ce6-fdaf9b31a7f0",
   "metadata": {},
   "source": [
    "### Set model hyperparameters"
   ]
  },
  {
   "cell_type": "code",
   "execution_count": 4,
   "id": "105d0f8e-d024-4521-89e1-9e03dcd29686",
   "metadata": {},
   "outputs": [
    {
     "name": "stdout",
     "output_type": "stream",
     "text": [
      "Device detected: cuda\n"
     ]
    }
   ],
   "source": [
    "# BLIS module parameters\n",
    "# K specifies the number of spatial wavelet filters in the frame. Total spatial filters = K+2\n",
    "# J specifies the number of temporal wavelet filters in the frame. Total temporal filters = J+2\n",
    "K = 4\n",
    "J = 2\n",
    "\n",
    "# MLP Parameters\n",
    "_, num_nodes, num_timesteps = x_train.shape\n",
    "mlp_input_dim = num_nodes * num_timesteps\n",
    "embedding_dim = int(mlp_input_dim / 4)\n",
    "output_dim = 12\n",
    "\n",
    "# Training parameters\n",
    "batch_size = 64\n",
    "num_epochs = 50\n",
    "patience, trigger_times = 10, 0  # Patience of 10 epochs\n",
    "learning_rate = 0.001\n",
    "num_trainings = 3\n",
    "\n",
    "device = torch.device(\"cuda\" if torch.cuda.is_available() else \"cpu\")\n",
    "print(f\"Device detected: {device}\")"
   ]
  },
  {
   "cell_type": "markdown",
   "id": "33460ff5-10c3-4964-a823-cce57a7e9497",
   "metadata": {},
   "source": [
    "### Precompute STBLIS module\n",
    "This does not need to be done over each training iteration because it is deterministic. Thus, we save the precomputed outputs for later."
   ]
  },
  {
   "cell_type": "code",
   "execution_count": 5,
   "id": "9235fb56-7d94-40a9-979b-2f47835cce1d",
   "metadata": {},
   "outputs": [
    {
     "name": "stdout",
     "output_type": "stream",
     "text": [
      "Precomputing Train!\n",
      "Precomputing Val!\n",
      "Precomputing Test!\n"
     ]
    }
   ],
   "source": [
    "# Instantiate model\n",
    "blis_precomp = STBLISPrecompute(adj_mx, tadj_mx, K, J)\n",
    "\n",
    "with torch.no_grad():\n",
    "    print(\"Precomputing Train!\")\n",
    "    precomputed_train = blis_precomp(x_train)\n",
    "    print(\"Precomputing Val!\")\n",
    "    precomputed_val = blis_precomp(x_val)\n",
    "    print(\"Precomputing Test!\")\n",
    "    precomputed_test = blis_precomp(x_test)\n",
    "\n",
    "# Save precomputed tensors\n",
    "torch.save(precomputed_train, 'precomputed_train.pt')\n",
    "torch.save(precomputed_val, 'precomputed_val.pt')\n",
    "torch.save(precomputed_test, 'precomputed_test.pt')"
   ]
  },
  {
   "cell_type": "markdown",
   "id": "33997c3b-bbfd-4875-a8e2-f4d5e7cb7e6f",
   "metadata": {},
   "source": [
    "### Load precomputed data"
   ]
  },
  {
   "cell_type": "code",
   "execution_count": 5,
   "id": "7feef392-1fc8-4211-bf64-404e43ea2b4a",
   "metadata": {},
   "outputs": [],
   "source": [
    "precomputed_train = torch.load('precomputed_train.pt')\n",
    "precomputed_val = torch.load('precomputed_val.pt')\n",
    "precomputed_test = torch.load('precomputed_test.pt')\n",
    "\n",
    "# Create new DataLoaders for precomputed data\n",
    "precomputed_train_loader = DataLoader(TensorDataset(precomputed_train, y_train), batch_size=batch_size, shuffle=True)\n",
    "precomputed_val_loader = DataLoader(TensorDataset(precomputed_val, y_val), batch_size=batch_size, shuffle=False)\n",
    "precomputed_test_loader = DataLoader(TensorDataset(precomputed_test, y_test), batch_size=batch_size, shuffle=False)"
   ]
  },
  {
   "cell_type": "markdown",
   "id": "cd6a1dc3-ed87-4bf7-b8ba-66cedf1a9b3d",
   "metadata": {},
   "source": [
    "### Train the model multiple times"
   ]
  },
  {
   "cell_type": "code",
   "execution_count": 7,
   "id": "2998cb9c-6617-480c-aebe-6ca26c7f547b",
   "metadata": {
    "scrolled": true
   },
   "outputs": [
    {
     "name": "stdout",
     "output_type": "stream",
     "text": [
      "\n",
      "\n",
      "TRAINING MODEL 1\n",
      "\n",
      "\n"
     ]
    },
    {
     "name": "stderr",
     "output_type": "stream",
     "text": [
      "Train Epoch 1: 100%|██████████████████████████████████████████████████████████████████| 375/375 [00:06<00:00, 56.54it/s]\n",
      "Validation Epoch 1: 100%|██████████████████████████████████████████████████████████████| 54/54 [00:00<00:00, 300.45it/s]\n"
     ]
    },
    {
     "name": "stdout",
     "output_type": "stream",
     "text": [
      "Model 1: Epoch 1/50, Train Loss: 0.4223, Validation Loss: 0.3331\n"
     ]
    },
    {
     "name": "stderr",
     "output_type": "stream",
     "text": [
      "Train Epoch 2: 100%|█████████████████████████████████████████████████████████████████| 375/375 [00:02<00:00, 165.49it/s]\n",
      "Validation Epoch 2: 100%|██████████████████████████████████████████████████████████████| 54/54 [00:00<00:00, 301.24it/s]\n"
     ]
    },
    {
     "name": "stdout",
     "output_type": "stream",
     "text": [
      "Model 1: Epoch 2/50, Train Loss: 0.3543, Validation Loss: 0.3231\n"
     ]
    },
    {
     "name": "stderr",
     "output_type": "stream",
     "text": [
      "Train Epoch 3: 100%|█████████████████████████████████████████████████████████████████| 375/375 [00:02<00:00, 168.17it/s]\n",
      "Validation Epoch 3: 100%|██████████████████████████████████████████████████████████████| 54/54 [00:00<00:00, 298.49it/s]\n"
     ]
    },
    {
     "name": "stdout",
     "output_type": "stream",
     "text": [
      "Model 1: Epoch 3/50, Train Loss: 0.3404, Validation Loss: 0.2998\n"
     ]
    },
    {
     "name": "stderr",
     "output_type": "stream",
     "text": [
      "Train Epoch 4: 100%|█████████████████████████████████████████████████████████████████| 375/375 [00:02<00:00, 165.15it/s]\n",
      "Validation Epoch 4: 100%|██████████████████████████████████████████████████████████████| 54/54 [00:00<00:00, 306.17it/s]\n"
     ]
    },
    {
     "name": "stdout",
     "output_type": "stream",
     "text": [
      "Model 1: Epoch 4/50, Train Loss: 0.3298, Validation Loss: 0.2956\n"
     ]
    },
    {
     "name": "stderr",
     "output_type": "stream",
     "text": [
      "Train Epoch 5: 100%|█████████████████████████████████████████████████████████████████| 375/375 [00:02<00:00, 164.27it/s]\n",
      "Validation Epoch 5: 100%|██████████████████████████████████████████████████████████████| 54/54 [00:00<00:00, 306.62it/s]\n"
     ]
    },
    {
     "name": "stdout",
     "output_type": "stream",
     "text": [
      "Model 1: Epoch 5/50, Train Loss: 0.3243, Validation Loss: 0.2938\n"
     ]
    },
    {
     "name": "stderr",
     "output_type": "stream",
     "text": [
      "Train Epoch 6: 100%|█████████████████████████████████████████████████████████████████| 375/375 [00:02<00:00, 165.13it/s]\n",
      "Validation Epoch 6: 100%|██████████████████████████████████████████████████████████████| 54/54 [00:00<00:00, 301.61it/s]\n"
     ]
    },
    {
     "name": "stdout",
     "output_type": "stream",
     "text": [
      "Model 1: Epoch 6/50, Train Loss: 0.3197, Validation Loss: 0.2877\n"
     ]
    },
    {
     "name": "stderr",
     "output_type": "stream",
     "text": [
      "Train Epoch 7: 100%|█████████████████████████████████████████████████████████████████| 375/375 [00:02<00:00, 167.35it/s]\n",
      "Validation Epoch 7: 100%|██████████████████████████████████████████████████████████████| 54/54 [00:00<00:00, 298.95it/s]\n"
     ]
    },
    {
     "name": "stdout",
     "output_type": "stream",
     "text": [
      "Model 1: Epoch 7/50, Train Loss: 0.3173, Validation Loss: 0.2933\n"
     ]
    },
    {
     "name": "stderr",
     "output_type": "stream",
     "text": [
      "Train Epoch 8: 100%|█████████████████████████████████████████████████████████████████| 375/375 [00:02<00:00, 167.61it/s]\n",
      "Validation Epoch 8: 100%|██████████████████████████████████████████████████████████████| 54/54 [00:00<00:00, 299.80it/s]\n"
     ]
    },
    {
     "name": "stdout",
     "output_type": "stream",
     "text": [
      "Model 1: Epoch 8/50, Train Loss: 0.3127, Validation Loss: 0.2867\n"
     ]
    },
    {
     "name": "stderr",
     "output_type": "stream",
     "text": [
      "Train Epoch 9: 100%|█████████████████████████████████████████████████████████████████| 375/375 [00:02<00:00, 167.05it/s]\n",
      "Validation Epoch 9: 100%|██████████████████████████████████████████████████████████████| 54/54 [00:00<00:00, 301.35it/s]\n"
     ]
    },
    {
     "name": "stdout",
     "output_type": "stream",
     "text": [
      "Model 1: Epoch 9/50, Train Loss: 0.3134, Validation Loss: 0.2847\n"
     ]
    },
    {
     "name": "stderr",
     "output_type": "stream",
     "text": [
      "Train Epoch 10: 100%|████████████████████████████████████████████████████████████████| 375/375 [00:02<00:00, 164.76it/s]\n",
      "Validation Epoch 10: 100%|█████████████████████████████████████████████████████████████| 54/54 [00:00<00:00, 297.26it/s]\n"
     ]
    },
    {
     "name": "stdout",
     "output_type": "stream",
     "text": [
      "Model 1: Epoch 10/50, Train Loss: 0.3106, Validation Loss: 0.3097\n"
     ]
    },
    {
     "name": "stderr",
     "output_type": "stream",
     "text": [
      "Train Epoch 11: 100%|████████████████████████████████████████████████████████████████| 375/375 [00:02<00:00, 164.94it/s]\n",
      "Validation Epoch 11: 100%|█████████████████████████████████████████████████████████████| 54/54 [00:00<00:00, 304.07it/s]\n"
     ]
    },
    {
     "name": "stdout",
     "output_type": "stream",
     "text": [
      "Model 1: Epoch 11/50, Train Loss: 0.3069, Validation Loss: 0.2962\n"
     ]
    },
    {
     "name": "stderr",
     "output_type": "stream",
     "text": [
      "Train Epoch 12: 100%|████████████████████████████████████████████████████████████████| 375/375 [00:02<00:00, 163.74it/s]\n",
      "Validation Epoch 12: 100%|█████████████████████████████████████████████████████████████| 54/54 [00:00<00:00, 300.88it/s]\n"
     ]
    },
    {
     "name": "stdout",
     "output_type": "stream",
     "text": [
      "Model 1: Epoch 12/50, Train Loss: 0.3067, Validation Loss: 0.2771\n"
     ]
    },
    {
     "name": "stderr",
     "output_type": "stream",
     "text": [
      "Train Epoch 13: 100%|████████████████████████████████████████████████████████████████| 375/375 [00:02<00:00, 163.95it/s]\n",
      "Validation Epoch 13: 100%|█████████████████████████████████████████████████████████████| 54/54 [00:00<00:00, 304.77it/s]\n"
     ]
    },
    {
     "name": "stdout",
     "output_type": "stream",
     "text": [
      "Model 1: Epoch 13/50, Train Loss: 0.3041, Validation Loss: 0.2890\n"
     ]
    },
    {
     "name": "stderr",
     "output_type": "stream",
     "text": [
      "Train Epoch 14: 100%|████████████████████████████████████████████████████████████████| 375/375 [00:02<00:00, 164.18it/s]\n",
      "Validation Epoch 14: 100%|█████████████████████████████████████████████████████████████| 54/54 [00:00<00:00, 293.91it/s]\n"
     ]
    },
    {
     "name": "stdout",
     "output_type": "stream",
     "text": [
      "Model 1: Epoch 14/50, Train Loss: 0.3018, Validation Loss: 0.2868\n"
     ]
    },
    {
     "name": "stderr",
     "output_type": "stream",
     "text": [
      "Train Epoch 15: 100%|████████████████████████████████████████████████████████████████| 375/375 [00:02<00:00, 167.29it/s]\n",
      "Validation Epoch 15: 100%|█████████████████████████████████████████████████████████████| 54/54 [00:00<00:00, 291.92it/s]\n"
     ]
    },
    {
     "name": "stdout",
     "output_type": "stream",
     "text": [
      "Model 1: Epoch 15/50, Train Loss: 0.3021, Validation Loss: 0.2740\n"
     ]
    },
    {
     "name": "stderr",
     "output_type": "stream",
     "text": [
      "Train Epoch 16: 100%|████████████████████████████████████████████████████████████████| 375/375 [00:02<00:00, 165.14it/s]\n",
      "Validation Epoch 16: 100%|█████████████████████████████████████████████████████████████| 54/54 [00:00<00:00, 295.46it/s]\n"
     ]
    },
    {
     "name": "stdout",
     "output_type": "stream",
     "text": [
      "Model 1: Epoch 16/50, Train Loss: 0.3026, Validation Loss: 0.2885\n"
     ]
    },
    {
     "name": "stderr",
     "output_type": "stream",
     "text": [
      "Train Epoch 17: 100%|████████████████████████████████████████████████████████████████| 375/375 [00:02<00:00, 165.83it/s]\n",
      "Validation Epoch 17: 100%|█████████████████████████████████████████████████████████████| 54/54 [00:00<00:00, 297.37it/s]\n"
     ]
    },
    {
     "name": "stdout",
     "output_type": "stream",
     "text": [
      "Model 1: Epoch 17/50, Train Loss: 0.3000, Validation Loss: 0.3084\n"
     ]
    },
    {
     "name": "stderr",
     "output_type": "stream",
     "text": [
      "Train Epoch 18: 100%|████████████████████████████████████████████████████████████████| 375/375 [00:02<00:00, 164.57it/s]\n",
      "Validation Epoch 18: 100%|█████████████████████████████████████████████████████████████| 54/54 [00:00<00:00, 300.37it/s]\n"
     ]
    },
    {
     "name": "stdout",
     "output_type": "stream",
     "text": [
      "Model 1: Epoch 18/50, Train Loss: 0.3005, Validation Loss: 0.2707\n"
     ]
    },
    {
     "name": "stderr",
     "output_type": "stream",
     "text": [
      "Train Epoch 19: 100%|████████████████████████████████████████████████████████████████| 375/375 [00:02<00:00, 166.07it/s]\n",
      "Validation Epoch 19: 100%|█████████████████████████████████████████████████████████████| 54/54 [00:00<00:00, 300.42it/s]\n"
     ]
    },
    {
     "name": "stdout",
     "output_type": "stream",
     "text": [
      "Model 1: Epoch 19/50, Train Loss: 0.3007, Validation Loss: 0.2820\n"
     ]
    },
    {
     "name": "stderr",
     "output_type": "stream",
     "text": [
      "Train Epoch 20: 100%|████████████████████████████████████████████████████████████████| 375/375 [00:02<00:00, 164.50it/s]\n",
      "Validation Epoch 20: 100%|█████████████████████████████████████████████████████████████| 54/54 [00:00<00:00, 301.11it/s]\n"
     ]
    },
    {
     "name": "stdout",
     "output_type": "stream",
     "text": [
      "Model 1: Epoch 20/50, Train Loss: 0.2979, Validation Loss: 0.2763\n"
     ]
    },
    {
     "name": "stderr",
     "output_type": "stream",
     "text": [
      "Train Epoch 21: 100%|████████████████████████████████████████████████████████████████| 375/375 [00:02<00:00, 164.88it/s]\n",
      "Validation Epoch 21: 100%|█████████████████████████████████████████████████████████████| 54/54 [00:00<00:00, 301.65it/s]\n"
     ]
    },
    {
     "name": "stdout",
     "output_type": "stream",
     "text": [
      "Model 1: Epoch 21/50, Train Loss: 0.2964, Validation Loss: 0.2893\n"
     ]
    },
    {
     "name": "stderr",
     "output_type": "stream",
     "text": [
      "Train Epoch 22: 100%|████████████████████████████████████████████████████████████████| 375/375 [00:02<00:00, 164.47it/s]\n",
      "Validation Epoch 22: 100%|█████████████████████████████████████████████████████████████| 54/54 [00:00<00:00, 295.93it/s]\n"
     ]
    },
    {
     "name": "stdout",
     "output_type": "stream",
     "text": [
      "Model 1: Epoch 22/50, Train Loss: 0.2952, Validation Loss: 0.2894\n"
     ]
    },
    {
     "name": "stderr",
     "output_type": "stream",
     "text": [
      "Train Epoch 23: 100%|████████████████████████████████████████████████████████████████| 375/375 [00:02<00:00, 165.57it/s]\n",
      "Validation Epoch 23: 100%|█████████████████████████████████████████████████████████████| 54/54 [00:00<00:00, 301.57it/s]\n"
     ]
    },
    {
     "name": "stdout",
     "output_type": "stream",
     "text": [
      "Model 1: Epoch 23/50, Train Loss: 0.2957, Validation Loss: 0.2987\n"
     ]
    },
    {
     "name": "stderr",
     "output_type": "stream",
     "text": [
      "Train Epoch 24: 100%|████████████████████████████████████████████████████████████████| 375/375 [00:02<00:00, 164.58it/s]\n",
      "Validation Epoch 24: 100%|█████████████████████████████████████████████████████████████| 54/54 [00:00<00:00, 305.46it/s]\n"
     ]
    },
    {
     "name": "stdout",
     "output_type": "stream",
     "text": [
      "Model 1: Epoch 24/50, Train Loss: 0.2947, Validation Loss: 0.2782\n"
     ]
    },
    {
     "name": "stderr",
     "output_type": "stream",
     "text": [
      "Train Epoch 25: 100%|████████████████████████████████████████████████████████████████| 375/375 [00:02<00:00, 166.69it/s]\n",
      "Validation Epoch 25: 100%|█████████████████████████████████████████████████████████████| 54/54 [00:00<00:00, 302.90it/s]\n"
     ]
    },
    {
     "name": "stdout",
     "output_type": "stream",
     "text": [
      "Model 1: Epoch 25/50, Train Loss: 0.2937, Validation Loss: 0.2937\n"
     ]
    },
    {
     "name": "stderr",
     "output_type": "stream",
     "text": [
      "Train Epoch 26: 100%|████████████████████████████████████████████████████████████████| 375/375 [00:02<00:00, 164.03it/s]\n",
      "Validation Epoch 26: 100%|█████████████████████████████████████████████████████████████| 54/54 [00:00<00:00, 304.34it/s]\n"
     ]
    },
    {
     "name": "stdout",
     "output_type": "stream",
     "text": [
      "Model 1: Epoch 26/50, Train Loss: 0.2920, Validation Loss: 0.2707\n"
     ]
    },
    {
     "name": "stderr",
     "output_type": "stream",
     "text": [
      "Train Epoch 27: 100%|████████████████████████████████████████████████████████████████| 375/375 [00:02<00:00, 165.70it/s]\n",
      "Validation Epoch 27: 100%|█████████████████████████████████████████████████████████████| 54/54 [00:00<00:00, 299.83it/s]\n"
     ]
    },
    {
     "name": "stdout",
     "output_type": "stream",
     "text": [
      "Model 1: Epoch 27/50, Train Loss: 0.2938, Validation Loss: 0.2789\n"
     ]
    },
    {
     "name": "stderr",
     "output_type": "stream",
     "text": [
      "Train Epoch 28: 100%|████████████████████████████████████████████████████████████████| 375/375 [00:02<00:00, 164.56it/s]\n",
      "Validation Epoch 28: 100%|█████████████████████████████████████████████████████████████| 54/54 [00:00<00:00, 303.03it/s]\n"
     ]
    },
    {
     "name": "stdout",
     "output_type": "stream",
     "text": [
      "Model 1: Epoch 28/50, Train Loss: 0.2924, Validation Loss: 0.2806\n"
     ]
    },
    {
     "name": "stderr",
     "output_type": "stream",
     "text": [
      "Train Epoch 29: 100%|████████████████████████████████████████████████████████████████| 375/375 [00:02<00:00, 166.81it/s]\n",
      "Validation Epoch 29: 100%|█████████████████████████████████████████████████████████████| 54/54 [00:00<00:00, 302.87it/s]\n"
     ]
    },
    {
     "name": "stdout",
     "output_type": "stream",
     "text": [
      "Model 1: Epoch 29/50, Train Loss: 0.2908, Validation Loss: 0.2748\n"
     ]
    },
    {
     "name": "stderr",
     "output_type": "stream",
     "text": [
      "Train Epoch 30: 100%|████████████████████████████████████████████████████████████████| 375/375 [00:02<00:00, 167.28it/s]\n",
      "Validation Epoch 30: 100%|█████████████████████████████████████████████████████████████| 54/54 [00:00<00:00, 302.33it/s]\n"
     ]
    },
    {
     "name": "stdout",
     "output_type": "stream",
     "text": [
      "Model 1: Epoch 30/50, Train Loss: 0.2912, Validation Loss: 0.2754\n"
     ]
    },
    {
     "name": "stderr",
     "output_type": "stream",
     "text": [
      "Train Epoch 31: 100%|████████████████████████████████████████████████████████████████| 375/375 [00:02<00:00, 167.13it/s]\n",
      "Validation Epoch 31: 100%|█████████████████████████████████████████████████████████████| 54/54 [00:00<00:00, 298.85it/s]\n"
     ]
    },
    {
     "name": "stdout",
     "output_type": "stream",
     "text": [
      "Model 1: Epoch 31/50, Train Loss: 0.2889, Validation Loss: 0.2716\n"
     ]
    },
    {
     "name": "stderr",
     "output_type": "stream",
     "text": [
      "Train Epoch 32: 100%|████████████████████████████████████████████████████████████████| 375/375 [00:02<00:00, 167.44it/s]\n",
      "Validation Epoch 32: 100%|█████████████████████████████████████████████████████████████| 54/54 [00:00<00:00, 305.24it/s]\n"
     ]
    },
    {
     "name": "stdout",
     "output_type": "stream",
     "text": [
      "Model 1: Epoch 32/50, Train Loss: 0.2883, Validation Loss: 0.2833\n"
     ]
    },
    {
     "name": "stderr",
     "output_type": "stream",
     "text": [
      "Train Epoch 33: 100%|████████████████████████████████████████████████████████████████| 375/375 [00:02<00:00, 168.32it/s]\n",
      "Validation Epoch 33: 100%|█████████████████████████████████████████████████████████████| 54/54 [00:00<00:00, 302.92it/s]\n"
     ]
    },
    {
     "name": "stdout",
     "output_type": "stream",
     "text": [
      "Model 1: Epoch 33/50, Train Loss: 0.2892, Validation Loss: 0.2830\n"
     ]
    },
    {
     "name": "stderr",
     "output_type": "stream",
     "text": [
      "Train Epoch 34: 100%|████████████████████████████████████████████████████████████████| 375/375 [00:02<00:00, 167.54it/s]\n",
      "Validation Epoch 34: 100%|█████████████████████████████████████████████████████████████| 54/54 [00:00<00:00, 300.65it/s]\n"
     ]
    },
    {
     "name": "stdout",
     "output_type": "stream",
     "text": [
      "Model 1: Epoch 34/50, Train Loss: 0.2880, Validation Loss: 0.2745\n"
     ]
    },
    {
     "name": "stderr",
     "output_type": "stream",
     "text": [
      "Train Epoch 35: 100%|████████████████████████████████████████████████████████████████| 375/375 [00:02<00:00, 168.42it/s]\n",
      "Validation Epoch 35: 100%|█████████████████████████████████████████████████████████████| 54/54 [00:00<00:00, 298.25it/s]\n"
     ]
    },
    {
     "name": "stdout",
     "output_type": "stream",
     "text": [
      "Model 1: Epoch 35/50, Train Loss: 0.2874, Validation Loss: 0.2707\n"
     ]
    },
    {
     "name": "stderr",
     "output_type": "stream",
     "text": [
      "Train Epoch 36: 100%|████████████████████████████████████████████████████████████████| 375/375 [00:02<00:00, 166.90it/s]\n",
      "Validation Epoch 36: 100%|█████████████████████████████████████████████████████████████| 54/54 [00:00<00:00, 299.56it/s]\n"
     ]
    },
    {
     "name": "stdout",
     "output_type": "stream",
     "text": [
      "Model 1: Early stopping!\n",
      "\n",
      "\n",
      "TRAINING MODEL 2\n",
      "\n",
      "\n"
     ]
    },
    {
     "name": "stderr",
     "output_type": "stream",
     "text": [
      "Train Epoch 1: 100%|█████████████████████████████████████████████████████████████████| 375/375 [00:02<00:00, 168.32it/s]\n",
      "Validation Epoch 1: 100%|██████████████████████████████████████████████████████████████| 54/54 [00:00<00:00, 299.98it/s]\n"
     ]
    },
    {
     "name": "stdout",
     "output_type": "stream",
     "text": [
      "Model 2: Epoch 1/50, Train Loss: 0.4225, Validation Loss: 0.3195\n"
     ]
    },
    {
     "name": "stderr",
     "output_type": "stream",
     "text": [
      "Train Epoch 2: 100%|█████████████████████████████████████████████████████████████████| 375/375 [00:02<00:00, 166.96it/s]\n",
      "Validation Epoch 2: 100%|██████████████████████████████████████████████████████████████| 54/54 [00:00<00:00, 305.29it/s]\n"
     ]
    },
    {
     "name": "stdout",
     "output_type": "stream",
     "text": [
      "Model 2: Epoch 2/50, Train Loss: 0.3534, Validation Loss: 0.3085\n"
     ]
    },
    {
     "name": "stderr",
     "output_type": "stream",
     "text": [
      "Train Epoch 3: 100%|█████████████████████████████████████████████████████████████████| 375/375 [00:02<00:00, 168.79it/s]\n",
      "Validation Epoch 3: 100%|██████████████████████████████████████████████████████████████| 54/54 [00:00<00:00, 300.41it/s]\n"
     ]
    },
    {
     "name": "stdout",
     "output_type": "stream",
     "text": [
      "Model 2: Epoch 3/50, Train Loss: 0.3409, Validation Loss: 0.3050\n"
     ]
    },
    {
     "name": "stderr",
     "output_type": "stream",
     "text": [
      "Train Epoch 4: 100%|█████████████████████████████████████████████████████████████████| 375/375 [00:02<00:00, 167.84it/s]\n",
      "Validation Epoch 4: 100%|██████████████████████████████████████████████████████████████| 54/54 [00:00<00:00, 298.57it/s]\n"
     ]
    },
    {
     "name": "stdout",
     "output_type": "stream",
     "text": [
      "Model 2: Epoch 4/50, Train Loss: 0.3307, Validation Loss: 0.2924\n"
     ]
    },
    {
     "name": "stderr",
     "output_type": "stream",
     "text": [
      "Train Epoch 5: 100%|█████████████████████████████████████████████████████████████████| 375/375 [00:02<00:00, 166.24it/s]\n",
      "Validation Epoch 5: 100%|██████████████████████████████████████████████████████████████| 54/54 [00:00<00:00, 298.96it/s]\n"
     ]
    },
    {
     "name": "stdout",
     "output_type": "stream",
     "text": [
      "Model 2: Epoch 5/50, Train Loss: 0.3258, Validation Loss: 0.2964\n"
     ]
    },
    {
     "name": "stderr",
     "output_type": "stream",
     "text": [
      "Train Epoch 6: 100%|█████████████████████████████████████████████████████████████████| 375/375 [00:02<00:00, 166.79it/s]\n",
      "Validation Epoch 6: 100%|██████████████████████████████████████████████████████████████| 54/54 [00:00<00:00, 290.50it/s]\n"
     ]
    },
    {
     "name": "stdout",
     "output_type": "stream",
     "text": [
      "Model 2: Epoch 6/50, Train Loss: 0.3231, Validation Loss: 0.3035\n"
     ]
    },
    {
     "name": "stderr",
     "output_type": "stream",
     "text": [
      "Train Epoch 7: 100%|█████████████████████████████████████████████████████████████████| 375/375 [00:02<00:00, 164.61it/s]\n",
      "Validation Epoch 7: 100%|██████████████████████████████████████████████████████████████| 54/54 [00:00<00:00, 295.48it/s]\n"
     ]
    },
    {
     "name": "stdout",
     "output_type": "stream",
     "text": [
      "Model 2: Epoch 7/50, Train Loss: 0.3182, Validation Loss: 0.3011\n"
     ]
    },
    {
     "name": "stderr",
     "output_type": "stream",
     "text": [
      "Train Epoch 8: 100%|█████████████████████████████████████████████████████████████████| 375/375 [00:02<00:00, 164.48it/s]\n",
      "Validation Epoch 8: 100%|██████████████████████████████████████████████████████████████| 54/54 [00:00<00:00, 291.85it/s]\n"
     ]
    },
    {
     "name": "stdout",
     "output_type": "stream",
     "text": [
      "Model 2: Epoch 8/50, Train Loss: 0.3142, Validation Loss: 0.2860\n"
     ]
    },
    {
     "name": "stderr",
     "output_type": "stream",
     "text": [
      "Train Epoch 9: 100%|█████████████████████████████████████████████████████████████████| 375/375 [00:02<00:00, 165.34it/s]\n",
      "Validation Epoch 9: 100%|██████████████████████████████████████████████████████████████| 54/54 [00:00<00:00, 293.39it/s]\n"
     ]
    },
    {
     "name": "stdout",
     "output_type": "stream",
     "text": [
      "Model 2: Epoch 9/50, Train Loss: 0.3118, Validation Loss: 0.2843\n"
     ]
    },
    {
     "name": "stderr",
     "output_type": "stream",
     "text": [
      "Train Epoch 10: 100%|████████████████████████████████████████████████████████████████| 375/375 [00:02<00:00, 163.45it/s]\n",
      "Validation Epoch 10: 100%|█████████████████████████████████████████████████████████████| 54/54 [00:00<00:00, 293.21it/s]\n"
     ]
    },
    {
     "name": "stdout",
     "output_type": "stream",
     "text": [
      "Model 2: Epoch 10/50, Train Loss: 0.3098, Validation Loss: 0.3039\n"
     ]
    },
    {
     "name": "stderr",
     "output_type": "stream",
     "text": [
      "Train Epoch 11: 100%|████████████████████████████████████████████████████████████████| 375/375 [00:02<00:00, 162.00it/s]\n",
      "Validation Epoch 11: 100%|█████████████████████████████████████████████████████████████| 54/54 [00:00<00:00, 279.62it/s]\n"
     ]
    },
    {
     "name": "stdout",
     "output_type": "stream",
     "text": [
      "Model 2: Epoch 11/50, Train Loss: 0.3073, Validation Loss: 0.2821\n"
     ]
    },
    {
     "name": "stderr",
     "output_type": "stream",
     "text": [
      "Train Epoch 12: 100%|████████████████████████████████████████████████████████████████| 375/375 [00:02<00:00, 164.74it/s]\n",
      "Validation Epoch 12: 100%|█████████████████████████████████████████████████████████████| 54/54 [00:00<00:00, 298.96it/s]\n"
     ]
    },
    {
     "name": "stdout",
     "output_type": "stream",
     "text": [
      "Model 2: Epoch 12/50, Train Loss: 0.3067, Validation Loss: 0.2779\n"
     ]
    },
    {
     "name": "stderr",
     "output_type": "stream",
     "text": [
      "Train Epoch 13: 100%|████████████████████████████████████████████████████████████████| 375/375 [00:02<00:00, 164.81it/s]\n",
      "Validation Epoch 13: 100%|█████████████████████████████████████████████████████████████| 54/54 [00:00<00:00, 303.51it/s]\n"
     ]
    },
    {
     "name": "stdout",
     "output_type": "stream",
     "text": [
      "Model 2: Epoch 13/50, Train Loss: 0.3054, Validation Loss: 0.2870\n"
     ]
    },
    {
     "name": "stderr",
     "output_type": "stream",
     "text": [
      "Train Epoch 14: 100%|████████████████████████████████████████████████████████████████| 375/375 [00:02<00:00, 164.66it/s]\n",
      "Validation Epoch 14: 100%|█████████████████████████████████████████████████████████████| 54/54 [00:00<00:00, 306.84it/s]\n"
     ]
    },
    {
     "name": "stdout",
     "output_type": "stream",
     "text": [
      "Model 2: Epoch 14/50, Train Loss: 0.3062, Validation Loss: 0.2970\n"
     ]
    },
    {
     "name": "stderr",
     "output_type": "stream",
     "text": [
      "Train Epoch 15: 100%|████████████████████████████████████████████████████████████████| 375/375 [00:02<00:00, 165.23it/s]\n",
      "Validation Epoch 15: 100%|█████████████████████████████████████████████████████████████| 54/54 [00:00<00:00, 301.21it/s]\n"
     ]
    },
    {
     "name": "stdout",
     "output_type": "stream",
     "text": [
      "Model 2: Epoch 15/50, Train Loss: 0.3042, Validation Loss: 0.2741\n"
     ]
    },
    {
     "name": "stderr",
     "output_type": "stream",
     "text": [
      "Train Epoch 16: 100%|████████████████████████████████████████████████████████████████| 375/375 [00:02<00:00, 163.99it/s]\n",
      "Validation Epoch 16: 100%|█████████████████████████████████████████████████████████████| 54/54 [00:00<00:00, 300.39it/s]\n"
     ]
    },
    {
     "name": "stdout",
     "output_type": "stream",
     "text": [
      "Model 2: Epoch 16/50, Train Loss: 0.3020, Validation Loss: 0.2869\n"
     ]
    },
    {
     "name": "stderr",
     "output_type": "stream",
     "text": [
      "Train Epoch 17: 100%|████████████████████████████████████████████████████████████████| 375/375 [00:02<00:00, 164.24it/s]\n",
      "Validation Epoch 17: 100%|█████████████████████████████████████████████████████████████| 54/54 [00:00<00:00, 297.21it/s]\n"
     ]
    },
    {
     "name": "stdout",
     "output_type": "stream",
     "text": [
      "Model 2: Epoch 17/50, Train Loss: 0.2991, Validation Loss: 0.2696\n"
     ]
    },
    {
     "name": "stderr",
     "output_type": "stream",
     "text": [
      "Train Epoch 18: 100%|████████████████████████████████████████████████████████████████| 375/375 [00:02<00:00, 164.99it/s]\n",
      "Validation Epoch 18: 100%|█████████████████████████████████████████████████████████████| 54/54 [00:00<00:00, 301.92it/s]\n"
     ]
    },
    {
     "name": "stdout",
     "output_type": "stream",
     "text": [
      "Model 2: Epoch 18/50, Train Loss: 0.2992, Validation Loss: 0.3069\n"
     ]
    },
    {
     "name": "stderr",
     "output_type": "stream",
     "text": [
      "Train Epoch 19: 100%|████████████████████████████████████████████████████████████████| 375/375 [00:02<00:00, 167.45it/s]\n",
      "Validation Epoch 19: 100%|█████████████████████████████████████████████████████████████| 54/54 [00:00<00:00, 299.08it/s]\n"
     ]
    },
    {
     "name": "stdout",
     "output_type": "stream",
     "text": [
      "Model 2: Epoch 19/50, Train Loss: 0.2997, Validation Loss: 0.2823\n"
     ]
    },
    {
     "name": "stderr",
     "output_type": "stream",
     "text": [
      "Train Epoch 20: 100%|████████████████████████████████████████████████████████████████| 375/375 [00:02<00:00, 167.76it/s]\n",
      "Validation Epoch 20: 100%|█████████████████████████████████████████████████████████████| 54/54 [00:00<00:00, 303.68it/s]\n"
     ]
    },
    {
     "name": "stdout",
     "output_type": "stream",
     "text": [
      "Model 2: Epoch 20/50, Train Loss: 0.2977, Validation Loss: 0.2863\n"
     ]
    },
    {
     "name": "stderr",
     "output_type": "stream",
     "text": [
      "Train Epoch 21: 100%|████████████████████████████████████████████████████████████████| 375/375 [00:02<00:00, 165.48it/s]\n",
      "Validation Epoch 21: 100%|█████████████████████████████████████████████████████████████| 54/54 [00:00<00:00, 300.87it/s]\n"
     ]
    },
    {
     "name": "stdout",
     "output_type": "stream",
     "text": [
      "Model 2: Epoch 21/50, Train Loss: 0.2946, Validation Loss: 0.2822\n"
     ]
    },
    {
     "name": "stderr",
     "output_type": "stream",
     "text": [
      "Train Epoch 22: 100%|████████████████████████████████████████████████████████████████| 375/375 [00:02<00:00, 165.13it/s]\n",
      "Validation Epoch 22: 100%|█████████████████████████████████████████████████████████████| 54/54 [00:00<00:00, 301.17it/s]\n"
     ]
    },
    {
     "name": "stdout",
     "output_type": "stream",
     "text": [
      "Model 2: Epoch 22/50, Train Loss: 0.2954, Validation Loss: 0.2726\n"
     ]
    },
    {
     "name": "stderr",
     "output_type": "stream",
     "text": [
      "Train Epoch 23: 100%|████████████████████████████████████████████████████████████████| 375/375 [00:02<00:00, 163.89it/s]\n",
      "Validation Epoch 23: 100%|█████████████████████████████████████████████████████████████| 54/54 [00:00<00:00, 296.84it/s]\n"
     ]
    },
    {
     "name": "stdout",
     "output_type": "stream",
     "text": [
      "Model 2: Epoch 23/50, Train Loss: 0.2961, Validation Loss: 0.2758\n"
     ]
    },
    {
     "name": "stderr",
     "output_type": "stream",
     "text": [
      "Train Epoch 24: 100%|████████████████████████████████████████████████████████████████| 375/375 [00:02<00:00, 167.08it/s]\n",
      "Validation Epoch 24: 100%|█████████████████████████████████████████████████████████████| 54/54 [00:00<00:00, 299.32it/s]\n"
     ]
    },
    {
     "name": "stdout",
     "output_type": "stream",
     "text": [
      "Model 2: Epoch 24/50, Train Loss: 0.2941, Validation Loss: 0.3220\n"
     ]
    },
    {
     "name": "stderr",
     "output_type": "stream",
     "text": [
      "Train Epoch 25: 100%|████████████████████████████████████████████████████████████████| 375/375 [00:02<00:00, 166.76it/s]\n",
      "Validation Epoch 25: 100%|█████████████████████████████████████████████████████████████| 54/54 [00:00<00:00, 300.57it/s]\n"
     ]
    },
    {
     "name": "stdout",
     "output_type": "stream",
     "text": [
      "Model 2: Epoch 25/50, Train Loss: 0.2928, Validation Loss: 0.2740\n"
     ]
    },
    {
     "name": "stderr",
     "output_type": "stream",
     "text": [
      "Train Epoch 26: 100%|████████████████████████████████████████████████████████████████| 375/375 [00:02<00:00, 164.24it/s]\n",
      "Validation Epoch 26: 100%|█████████████████████████████████████████████████████████████| 54/54 [00:00<00:00, 299.09it/s]\n"
     ]
    },
    {
     "name": "stdout",
     "output_type": "stream",
     "text": [
      "Model 2: Epoch 26/50, Train Loss: 0.2913, Validation Loss: 0.2947\n"
     ]
    },
    {
     "name": "stderr",
     "output_type": "stream",
     "text": [
      "Train Epoch 27: 100%|████████████████████████████████████████████████████████████████| 375/375 [00:02<00:00, 163.89it/s]\n",
      "Validation Epoch 27: 100%|█████████████████████████████████████████████████████████████| 54/54 [00:00<00:00, 297.34it/s]\n"
     ]
    },
    {
     "name": "stdout",
     "output_type": "stream",
     "text": [
      "Model 2: Early stopping!\n",
      "\n",
      "\n",
      "TRAINING MODEL 3\n",
      "\n",
      "\n"
     ]
    },
    {
     "name": "stderr",
     "output_type": "stream",
     "text": [
      "Train Epoch 1: 100%|█████████████████████████████████████████████████████████████████| 375/375 [00:02<00:00, 164.42it/s]\n",
      "Validation Epoch 1: 100%|██████████████████████████████████████████████████████████████| 54/54 [00:00<00:00, 301.72it/s]\n"
     ]
    },
    {
     "name": "stdout",
     "output_type": "stream",
     "text": [
      "Model 3: Epoch 1/50, Train Loss: 0.4228, Validation Loss: 0.3204\n"
     ]
    },
    {
     "name": "stderr",
     "output_type": "stream",
     "text": [
      "Train Epoch 2: 100%|█████████████████████████████████████████████████████████████████| 375/375 [00:02<00:00, 164.91it/s]\n",
      "Validation Epoch 2: 100%|██████████████████████████████████████████████████████████████| 54/54 [00:00<00:00, 300.53it/s]\n"
     ]
    },
    {
     "name": "stdout",
     "output_type": "stream",
     "text": [
      "Model 3: Epoch 2/50, Train Loss: 0.3591, Validation Loss: 0.3151\n"
     ]
    },
    {
     "name": "stderr",
     "output_type": "stream",
     "text": [
      "Train Epoch 3: 100%|█████████████████████████████████████████████████████████████████| 375/375 [00:02<00:00, 166.26it/s]\n",
      "Validation Epoch 3: 100%|██████████████████████████████████████████████████████████████| 54/54 [00:00<00:00, 301.01it/s]\n"
     ]
    },
    {
     "name": "stdout",
     "output_type": "stream",
     "text": [
      "Model 3: Epoch 3/50, Train Loss: 0.3398, Validation Loss: 0.3105\n"
     ]
    },
    {
     "name": "stderr",
     "output_type": "stream",
     "text": [
      "Train Epoch 4: 100%|█████████████████████████████████████████████████████████████████| 375/375 [00:02<00:00, 167.19it/s]\n",
      "Validation Epoch 4: 100%|██████████████████████████████████████████████████████████████| 54/54 [00:00<00:00, 298.03it/s]\n"
     ]
    },
    {
     "name": "stdout",
     "output_type": "stream",
     "text": [
      "Model 3: Epoch 4/50, Train Loss: 0.3305, Validation Loss: 0.3424\n"
     ]
    },
    {
     "name": "stderr",
     "output_type": "stream",
     "text": [
      "Train Epoch 5: 100%|█████████████████████████████████████████████████████████████████| 375/375 [00:02<00:00, 165.23it/s]\n",
      "Validation Epoch 5: 100%|██████████████████████████████████████████████████████████████| 54/54 [00:00<00:00, 294.63it/s]\n"
     ]
    },
    {
     "name": "stdout",
     "output_type": "stream",
     "text": [
      "Model 3: Epoch 5/50, Train Loss: 0.3247, Validation Loss: 0.3034\n"
     ]
    },
    {
     "name": "stderr",
     "output_type": "stream",
     "text": [
      "Train Epoch 6: 100%|█████████████████████████████████████████████████████████████████| 375/375 [00:02<00:00, 165.52it/s]\n",
      "Validation Epoch 6: 100%|██████████████████████████████████████████████████████████████| 54/54 [00:00<00:00, 300.13it/s]\n"
     ]
    },
    {
     "name": "stdout",
     "output_type": "stream",
     "text": [
      "Model 3: Epoch 6/50, Train Loss: 0.3218, Validation Loss: 0.2906\n"
     ]
    },
    {
     "name": "stderr",
     "output_type": "stream",
     "text": [
      "Train Epoch 7: 100%|█████████████████████████████████████████████████████████████████| 375/375 [00:02<00:00, 170.23it/s]\n",
      "Validation Epoch 7: 100%|██████████████████████████████████████████████████████████████| 54/54 [00:00<00:00, 296.82it/s]\n"
     ]
    },
    {
     "name": "stdout",
     "output_type": "stream",
     "text": [
      "Model 3: Epoch 7/50, Train Loss: 0.3157, Validation Loss: 0.2883\n"
     ]
    },
    {
     "name": "stderr",
     "output_type": "stream",
     "text": [
      "Train Epoch 8: 100%|█████████████████████████████████████████████████████████████████| 375/375 [00:02<00:00, 167.80it/s]\n",
      "Validation Epoch 8: 100%|██████████████████████████████████████████████████████████████| 54/54 [00:00<00:00, 297.61it/s]\n"
     ]
    },
    {
     "name": "stdout",
     "output_type": "stream",
     "text": [
      "Model 3: Epoch 8/50, Train Loss: 0.3154, Validation Loss: 0.2914\n"
     ]
    },
    {
     "name": "stderr",
     "output_type": "stream",
     "text": [
      "Train Epoch 9: 100%|█████████████████████████████████████████████████████████████████| 375/375 [00:02<00:00, 169.14it/s]\n",
      "Validation Epoch 9: 100%|██████████████████████████████████████████████████████████████| 54/54 [00:00<00:00, 299.22it/s]\n"
     ]
    },
    {
     "name": "stdout",
     "output_type": "stream",
     "text": [
      "Model 3: Epoch 9/50, Train Loss: 0.3114, Validation Loss: 0.2868\n"
     ]
    },
    {
     "name": "stderr",
     "output_type": "stream",
     "text": [
      "Train Epoch 10: 100%|████████████████████████████████████████████████████████████████| 375/375 [00:02<00:00, 168.05it/s]\n",
      "Validation Epoch 10: 100%|█████████████████████████████████████████████████████████████| 54/54 [00:00<00:00, 296.34it/s]\n"
     ]
    },
    {
     "name": "stdout",
     "output_type": "stream",
     "text": [
      "Model 3: Epoch 10/50, Train Loss: 0.3071, Validation Loss: 0.3076\n"
     ]
    },
    {
     "name": "stderr",
     "output_type": "stream",
     "text": [
      "Train Epoch 11: 100%|████████████████████████████████████████████████████████████████| 375/375 [00:02<00:00, 166.32it/s]\n",
      "Validation Epoch 11: 100%|█████████████████████████████████████████████████████████████| 54/54 [00:00<00:00, 297.72it/s]\n"
     ]
    },
    {
     "name": "stdout",
     "output_type": "stream",
     "text": [
      "Model 3: Epoch 11/50, Train Loss: 0.3076, Validation Loss: 0.3130\n"
     ]
    },
    {
     "name": "stderr",
     "output_type": "stream",
     "text": [
      "Train Epoch 12: 100%|████████████████████████████████████████████████████████████████| 375/375 [00:02<00:00, 167.50it/s]\n",
      "Validation Epoch 12: 100%|█████████████████████████████████████████████████████████████| 54/54 [00:00<00:00, 298.06it/s]\n"
     ]
    },
    {
     "name": "stdout",
     "output_type": "stream",
     "text": [
      "Model 3: Epoch 12/50, Train Loss: 0.3056, Validation Loss: 0.3259\n"
     ]
    },
    {
     "name": "stderr",
     "output_type": "stream",
     "text": [
      "Train Epoch 13: 100%|████████████████████████████████████████████████████████████████| 375/375 [00:02<00:00, 169.11it/s]\n",
      "Validation Epoch 13: 100%|█████████████████████████████████████████████████████████████| 54/54 [00:00<00:00, 297.52it/s]\n"
     ]
    },
    {
     "name": "stdout",
     "output_type": "stream",
     "text": [
      "Model 3: Epoch 13/50, Train Loss: 0.3063, Validation Loss: 0.2844\n"
     ]
    },
    {
     "name": "stderr",
     "output_type": "stream",
     "text": [
      "Train Epoch 14: 100%|████████████████████████████████████████████████████████████████| 375/375 [00:02<00:00, 168.28it/s]\n",
      "Validation Epoch 14: 100%|█████████████████████████████████████████████████████████████| 54/54 [00:00<00:00, 300.53it/s]\n"
     ]
    },
    {
     "name": "stdout",
     "output_type": "stream",
     "text": [
      "Model 3: Epoch 14/50, Train Loss: 0.3033, Validation Loss: 0.2914\n"
     ]
    },
    {
     "name": "stderr",
     "output_type": "stream",
     "text": [
      "Train Epoch 15: 100%|████████████████████████████████████████████████████████████████| 375/375 [00:02<00:00, 167.42it/s]\n",
      "Validation Epoch 15: 100%|█████████████████████████████████████████████████████████████| 54/54 [00:00<00:00, 299.56it/s]\n"
     ]
    },
    {
     "name": "stdout",
     "output_type": "stream",
     "text": [
      "Model 3: Epoch 15/50, Train Loss: 0.3041, Validation Loss: 0.2753\n"
     ]
    },
    {
     "name": "stderr",
     "output_type": "stream",
     "text": [
      "Train Epoch 16: 100%|████████████████████████████████████████████████████████████████| 375/375 [00:02<00:00, 167.99it/s]\n",
      "Validation Epoch 16: 100%|█████████████████████████████████████████████████████████████| 54/54 [00:00<00:00, 299.30it/s]\n"
     ]
    },
    {
     "name": "stdout",
     "output_type": "stream",
     "text": [
      "Model 3: Epoch 16/50, Train Loss: 0.3024, Validation Loss: 0.3027\n"
     ]
    },
    {
     "name": "stderr",
     "output_type": "stream",
     "text": [
      "Train Epoch 17: 100%|████████████████████████████████████████████████████████████████| 375/375 [00:02<00:00, 167.53it/s]\n",
      "Validation Epoch 17: 100%|█████████████████████████████████████████████████████████████| 54/54 [00:00<00:00, 289.98it/s]\n"
     ]
    },
    {
     "name": "stdout",
     "output_type": "stream",
     "text": [
      "Model 3: Epoch 17/50, Train Loss: 0.3003, Validation Loss: 0.3044\n"
     ]
    },
    {
     "name": "stderr",
     "output_type": "stream",
     "text": [
      "Train Epoch 18: 100%|████████████████████████████████████████████████████████████████| 375/375 [00:02<00:00, 161.96it/s]\n",
      "Validation Epoch 18: 100%|█████████████████████████████████████████████████████████████| 54/54 [00:00<00:00, 288.44it/s]\n"
     ]
    },
    {
     "name": "stdout",
     "output_type": "stream",
     "text": [
      "Model 3: Epoch 18/50, Train Loss: 0.2981, Validation Loss: 0.2989\n"
     ]
    },
    {
     "name": "stderr",
     "output_type": "stream",
     "text": [
      "Train Epoch 19: 100%|████████████████████████████████████████████████████████████████| 375/375 [00:02<00:00, 163.70it/s]\n",
      "Validation Epoch 19: 100%|█████████████████████████████████████████████████████████████| 54/54 [00:00<00:00, 291.50it/s]\n"
     ]
    },
    {
     "name": "stdout",
     "output_type": "stream",
     "text": [
      "Model 3: Epoch 19/50, Train Loss: 0.2973, Validation Loss: 0.2862\n"
     ]
    },
    {
     "name": "stderr",
     "output_type": "stream",
     "text": [
      "Train Epoch 20: 100%|████████████████████████████████████████████████████████████████| 375/375 [00:02<00:00, 163.27it/s]\n",
      "Validation Epoch 20: 100%|█████████████████████████████████████████████████████████████| 54/54 [00:00<00:00, 286.54it/s]\n"
     ]
    },
    {
     "name": "stdout",
     "output_type": "stream",
     "text": [
      "Model 3: Epoch 20/50, Train Loss: 0.2959, Validation Loss: 0.2877\n"
     ]
    },
    {
     "name": "stderr",
     "output_type": "stream",
     "text": [
      "Train Epoch 21: 100%|████████████████████████████████████████████████████████████████| 375/375 [00:02<00:00, 164.33it/s]\n",
      "Validation Epoch 21: 100%|█████████████████████████████████████████████████████████████| 54/54 [00:00<00:00, 298.12it/s]\n"
     ]
    },
    {
     "name": "stdout",
     "output_type": "stream",
     "text": [
      "Model 3: Epoch 21/50, Train Loss: 0.2957, Validation Loss: 0.2910\n"
     ]
    },
    {
     "name": "stderr",
     "output_type": "stream",
     "text": [
      "Train Epoch 22: 100%|████████████████████████████████████████████████████████████████| 375/375 [00:02<00:00, 167.59it/s]\n",
      "Validation Epoch 22: 100%|█████████████████████████████████████████████████████████████| 54/54 [00:00<00:00, 305.71it/s]\n"
     ]
    },
    {
     "name": "stdout",
     "output_type": "stream",
     "text": [
      "Model 3: Epoch 22/50, Train Loss: 0.2963, Validation Loss: 0.2829\n"
     ]
    },
    {
     "name": "stderr",
     "output_type": "stream",
     "text": [
      "Train Epoch 23: 100%|████████████████████████████████████████████████████████████████| 375/375 [00:02<00:00, 167.05it/s]\n",
      "Validation Epoch 23: 100%|█████████████████████████████████████████████████████████████| 54/54 [00:00<00:00, 307.71it/s]\n"
     ]
    },
    {
     "name": "stdout",
     "output_type": "stream",
     "text": [
      "Model 3: Epoch 23/50, Train Loss: 0.2959, Validation Loss: 0.3213\n"
     ]
    },
    {
     "name": "stderr",
     "output_type": "stream",
     "text": [
      "Train Epoch 24: 100%|████████████████████████████████████████████████████████████████| 375/375 [00:02<00:00, 169.01it/s]\n",
      "Validation Epoch 24: 100%|█████████████████████████████████████████████████████████████| 54/54 [00:00<00:00, 301.68it/s]\n"
     ]
    },
    {
     "name": "stdout",
     "output_type": "stream",
     "text": [
      "Model 3: Epoch 24/50, Train Loss: 0.2927, Validation Loss: 0.2840\n"
     ]
    },
    {
     "name": "stderr",
     "output_type": "stream",
     "text": [
      "Train Epoch 25: 100%|████████████████████████████████████████████████████████████████| 375/375 [00:02<00:00, 169.59it/s]\n",
      "Validation Epoch 25: 100%|█████████████████████████████████████████████████████████████| 54/54 [00:00<00:00, 300.93it/s]"
     ]
    },
    {
     "name": "stdout",
     "output_type": "stream",
     "text": [
      "Model 3: Early stopping!\n"
     ]
    },
    {
     "name": "stderr",
     "output_type": "stream",
     "text": [
      "\n"
     ]
    }
   ],
   "source": [
    "for train_iter in range(num_trainings):\n",
    "    print(f\"\\n\\nTRAINING MODEL {train_iter+1}\\n\\n\")\n",
    "        \n",
    "    # Define model save name\n",
    "    model_save_name = f'best_STBLIS_model_{train_iter+1}.pth'\n",
    "    \n",
    "    # Define a new model for each training iteration\n",
    "    mlp_model = MLPNet(mlp_input_dim, embedding_dim, output_dim, num_nodes, device).to(device)\n",
    "                                                                                      \n",
    "    # Wrap model with DataParallel to utilize all GPU resources\n",
    "    if torch.cuda.device_count() > 1:\n",
    "        mlp_model = nn.DataParallel(mlp_model)\n",
    "    \n",
    "    # Defien loss function and optimizer\n",
    "    criterion = nn.L1Loss()\n",
    "    optimizer = optim.Adam(mlp_model.parameters(), lr=learning_rate)\n",
    "    \n",
    "    best_val_loss = float('inf')\n",
    "    \n",
    "    # Training loop\n",
    "    for epoch in range(num_epochs):\n",
    "        mlp_model.train()\n",
    "        train_loss = 0.0\n",
    "        \n",
    "        for x_batch, y_batch in tqdm(precomputed_train_loader, desc=f\"Train Epoch {epoch + 1}\"):\n",
    "            x_b, y_b = x_batch.to(device), y_batch.to(device)\n",
    "            optimizer.zero_grad()\n",
    "\n",
    "            # Pad batch with zeros on last batch\n",
    "            A, B, C = x_b.shape\n",
    "            if A != batch_size:\n",
    "                x_b = stb.pad_tensor(x_b, batch_size)\n",
    "                y_b = stb.pad_tensor(y_b, batch_size)\n",
    "                A, B, C = x_b.shape\n",
    "                        \n",
    "            x_b = x_b.reshape(A, B*C)\n",
    "            \n",
    "            output = mlp_model(x_b)\n",
    "            loss = criterion(output, y_b)\n",
    "            loss.backward()\n",
    "            optimizer.step()\n",
    "            train_loss += loss.item() * x_b.size(0)\n",
    "        \n",
    "        train_loss /= len(precomputed_train_loader.dataset)\n",
    "    \n",
    "        # Validation loop\n",
    "        mlp_model.eval()\n",
    "        val_loss = 0.0\n",
    "        with torch.no_grad():\n",
    "            for x_val_batch, y_val_batch in tqdm(precomputed_val_loader, desc=f\"Validation Epoch {epoch + 1}\"):\n",
    "                x_b, y_b = x_val_batch.to(device), y_val_batch.to(device)\n",
    "\n",
    "                # Pad batch with zeros on last batch\n",
    "                A, B, C = x_b.shape\n",
    "                if A != batch_size:\n",
    "                    x_b = stb.pad_tensor(x_b, batch_size)\n",
    "                    y_b = stb.pad_tensor(y_b, batch_size)\n",
    "                    A, B, C = x_b.shape\n",
    "                    \n",
    "                x_b = x_b.reshape(A, B*C)\n",
    "                \n",
    "                output = mlp_model(x_b)\n",
    "                loss = criterion(output, y_b)\n",
    "                val_loss += loss.item() * x_b.size(0)\n",
    "        \n",
    "        val_loss /= len(precomputed_val_loader.dataset)\n",
    "    \n",
    "        # Save the best model\n",
    "        if val_loss < best_val_loss:\n",
    "            best_val_loss = val_loss\n",
    "            trigger_times = 0\n",
    "            torch.save(mlp_model.state_dict(), model_save_name)\n",
    "        else:\n",
    "            trigger_times += 1\n",
    "            if trigger_times >= patience:\n",
    "                print(f'Model {train_iter+1}: Early stopping!')\n",
    "                break\n",
    "    \n",
    "        print(f'Model {train_iter+1}: Epoch {epoch + 1}/{num_epochs}, Train Loss: {train_loss:.4f}, Validation Loss: {val_loss:.4f}')"
   ]
  },
  {
   "cell_type": "markdown",
   "id": "0fd3e842-de27-4fae-9580-d128a34d661a",
   "metadata": {},
   "source": [
    "### Evaluate the trained models\n",
    "We will generate the predicted outputs and store them in a dictionary, allowing us to plot them later"
   ]
  },
  {
   "cell_type": "code",
   "execution_count": 10,
   "id": "cd70fa0c-63b0-4c1d-a5df-d387b08b8b6c",
   "metadata": {},
   "outputs": [
    {
     "name": "stderr",
     "output_type": "stream",
     "text": [
      "Evaluating on Test Data: 100%|██████████████████████████████████████████████████████| 108/108 [00:00<00:00, 1067.32it/s]\n"
     ]
    },
    {
     "name": "stdout",
     "output_type": "stream",
     "text": [
      "Model 1: Test Loss: 0.3329\n"
     ]
    },
    {
     "name": "stderr",
     "output_type": "stream",
     "text": [
      "Evaluating on Test Data: 100%|██████████████████████████████████████████████████████| 108/108 [00:00<00:00, 1037.42it/s]\n"
     ]
    },
    {
     "name": "stdout",
     "output_type": "stream",
     "text": [
      "Model 2: Test Loss: 0.3290\n"
     ]
    },
    {
     "name": "stderr",
     "output_type": "stream",
     "text": [
      "Evaluating on Test Data: 100%|███████████████████████████████████████████████████████| 108/108 [00:00<00:00, 996.09it/s]"
     ]
    },
    {
     "name": "stdout",
     "output_type": "stream",
     "text": [
      "Model 3: Test Loss: 0.3316\n"
     ]
    },
    {
     "name": "stderr",
     "output_type": "stream",
     "text": [
      "\n"
     ]
    }
   ],
   "source": [
    "model_preds_dict = {}\n",
    "model_actuals_dict = {}\n",
    "for test_iter in range(num_trainings):\n",
    "\n",
    "    # Load model for testing\n",
    "    model_save_name = f'best_STBLIS_model_{test_iter+1}.pth'\n",
    "    \n",
    "    # Load the trained model's state dictionary\n",
    "    state_dict = torch.load(model_save_name)\n",
    "    \n",
    "    # Remove 'module.' prefix if present\n",
    "    state_dict = stb.remove_module_prefix(state_dict)\n",
    "\n",
    "    # Load model parameters\n",
    "    mlp_model = MLPNet(mlp_input_dim, embedding_dim, output_dim, num_nodes, device).to(device)\n",
    "    mlp_model.load_state_dict(state_dict)\n",
    "    \n",
    "    # Define loss function and optimizer\n",
    "    criterion = nn.L1Loss()\n",
    "    optimizer = optim.Adam(mlp_model.parameters(), lr=learning_rate)\n",
    "    \n",
    "    # Testing loop\n",
    "    mlp_model.eval()\n",
    "    test_loss = 0.0\n",
    "\n",
    "    all_test_preds = []\n",
    "    all_test_actuals = []\n",
    "    with torch.no_grad():\n",
    "        for x_batch, y_batch in tqdm(precomputed_test_loader, desc=f\"Evaluating on Test Data\"):\n",
    "            x_b, y_b = x_batch.to(device), y_batch.to(device)\n",
    "\n",
    "            # Pad batch_size on last batch so that it is the same as the other batch sizes\n",
    "            A, B, C = x_b.shape\n",
    "            if A != batch_size:\n",
    "                x_b = stb.pad_tensor(x_b, batch_size)\n",
    "                y_b = stb.pad_tensor(y_b, batch_size)\n",
    "                A, B, C = x_b.shape\n",
    "        \n",
    "            x_b = x_b.reshape(A, B*C)\n",
    "            \n",
    "            output = mlp_model(x_b)\n",
    "            loss = criterion(output, y_b)\n",
    "            test_loss += loss.item() * x_b.size(0)\n",
    "            all_test_preds.append(output.cpu())\n",
    "            all_test_actuals.append(y_b.cpu())\n",
    "    \n",
    "    all_test_preds = torch.cat(all_test_preds, dim=0)\n",
    "    all_test_actuals = torch.cat(all_test_actuals, dim=0)\n",
    "    \n",
    "    test_loss /= len(precomputed_test_loader.dataset)\n",
    "    print(f'Model {test_iter+1}: Test Loss: {test_loss:.4f}')\n",
    "\n",
    "    # Save predictions and actuals in a dictionary for easy access later\n",
    "    model_preds_dict[test_iter+1] = all_test_preds\n",
    "    model_actuals_dict[test_iter+1] = all_test_actuals"
   ]
  },
  {
   "cell_type": "markdown",
   "id": "8ef4d2c5-9886-493a-a728-310dfc1a9bac",
   "metadata": {},
   "source": [
    "### Generate sample plots of the predicted outputs"
   ]
  },
  {
   "cell_type": "code",
   "execution_count": 11,
   "id": "1fab3b42-1d77-4528-b876-c29e9a866d95",
   "metadata": {},
   "outputs": [
    {
     "data": {
      "image/png": "[encoded data removed]",
      "text/plain": [
       "<Figure size 1000x600 with 1 Axes>"
      ]
     },
     "metadata": {},
     "output_type": "display_data"
    }
   ],
   "source": [
    "model_num = 3 # Specify the model you want to plot. This is 1-indexed\n",
    "sample_index = 0  # Specify the sample index you want to plot\n",
    "node_index = 0 # Specify the node index you want to plot\n",
    "model_test_preds = model_preds_dict[model_num]\n",
    "model_test_actuals = model_actuals_dict[model_num]\n",
    "\n",
    "# Call helper function to plot the predicted vs actual output\n",
    "stb.plot_time_series(sample_index, node_index, x_test, model_test_actuals, model_test_preds, num_timesteps, num_nodes, output_dim, mean_ind_dict, std_ind_dict, zscore=False)"
   ]
  },
  {
   "cell_type": "markdown",
   "id": "458bf48f-dc4f-43b7-a7b8-d8d774545903",
   "metadata": {},
   "source": [
    "### Calculate metrics for model evaluation"
   ]
  },
  {
   "cell_type": "code",
   "execution_count": 12,
   "id": "af1b45f1-1f86-4171-a741-d960ad5633eb",
   "metadata": {},
   "outputs": [
    {
     "name": "stdout",
     "output_type": "stream",
     "text": [
      "Average metrics over 3 training samples:\n",
      "Time Prediction 15 mins: Average MAE: 0.2868, Average RMSE: 0.6167, Average MAPE: 1.6158\n",
      "Time Prediction 30 mins: Average MAE: 0.3256, Average RMSE: 0.7028, Average MAPE: 1.8097\n",
      "Time Prediction 60 mins: Average MAE: 0.3871, Average RMSE: 0.8095, Average MAPE: 1.9148\n"
     ]
    }
   ],
   "source": [
    "# Initialize empty dictionaries to hold the sum of metrics\n",
    "avg_metrics = {}\n",
    "indices=[2, 5, 11]\n",
    "for idx in indices:\n",
    "    avg_metrics[idx] ={'MAE': 0, 'RMSE': 0, 'MAPE': 0}\n",
    "\n",
    "\n",
    "# Loop over each training/trial\n",
    "for model_num in range(num_trainings):\n",
    "    model_test_preds = model_preds_dict[model_num + 1]\n",
    "    model_test_actuals = model_actuals_dict[model_num + 1]\n",
    "    \n",
    "    # Get metrics for this trial\n",
    "    metrics = stb.calculate_metrics_per_index(model_test_preds, model_test_actuals, indices)\n",
    "    # Accumulate the metrics for averaging later\n",
    "    for idx in metrics:\n",
    "        for metric in metrics[idx]:\n",
    "            avg_metrics[idx][metric] += metrics[idx][metric]\n",
    "\n",
    "# Average the metrics across all trials\n",
    "for idx in avg_metrics:\n",
    "    for metric in avg_metrics[idx]:\n",
    "        avg_metrics[idx][metric] /= num_trainings\n",
    "\n",
    "# Print the averaged metrics for each index\n",
    "print(f\"Average metrics over {num_trainings} training samples:\")\n",
    "for idx in avg_metrics:\n",
    "    print(f\"Time Prediction {(idx+1) * 5} mins: \"\n",
    "          f\"Average MAE: {avg_metrics[idx]['MAE']:.4f}, \"\n",
    "          f\"Average RMSE: {avg_metrics[idx]['RMSE']:.4f}, \"\n",
    "          f\"Average MAPE: {avg_metrics[idx]['MAPE']:.4f}\")\n"
   ]
  },
  {
   "cell_type": "code",
   "execution_count": null,
   "id": "ea51d0cd-4911-458a-9ddb-466b6f4e54a9",
   "metadata": {},
   "outputs": [],
   "source": []
  }
 ],
 "metadata": {
  "kernelspec": {
   "display_name": "Python 3 (ipykernel)",
   "language": "python",
   "name": "python3"
  },
  "language_info": {
   "codemirror_mode": {
    "name": "ipython",
    "version": 3
   },
   "file_extension": ".py",
   "mimetype": "text/x-python",
   "name": "python",
   "nbconvert_exporter": "python",
   "pygments_lexer": "ipython3",
   "version": "3.9.18"
  }
 },
 "nbformat": 4,
 "nbformat_minor": 5
}
