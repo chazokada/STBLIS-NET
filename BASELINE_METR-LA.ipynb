{
 "cells": [
  {
   "cell_type": "markdown",
   "id": "3d26eeb8-32d7-45ad-a30f-b19daf5c2ad0",
   "metadata": {},
   "source": [
    "# Baseline Models - METR-LA Dataset\n",
    "Run the cells in this notebook to train and evaluate the baseline MLP and KDE models.\n",
    "First, import the necessary libraries."
   ]
  },
  {
   "cell_type": "code",
   "execution_count": 1,
   "id": "23af0df9-203c-4daf-8dd9-325b7544c551",
   "metadata": {},
   "outputs": [],
   "source": [
    "import pickle\n",
    "import numpy as np\n",
    "import pandas as pd\n",
    "import matplotlib.pyplot as plt\n",
    "import stblis_utils as stb\n",
    "from stblis_classes import MLPNet\n",
    "from scipy.stats import gaussian_kde\n",
    "from tqdm import tqdm\n",
    "import torch\n",
    "import torch.nn as nn\n",
    "import torch.optim as optim\n",
    "import torch.nn.functional as F\n",
    "from torch.utils.data import DataLoader, TensorDataset"
   ]
  },
  {
   "cell_type": "markdown",
   "id": "064fe53e-6fa0-4e3f-a3f2-0e53b8dd48db",
   "metadata": {},
   "source": [
    "### Load the train, test, and val data\n",
    "Shape is (num_samples, num_sensors, num_timesteps)"
   ]
  },
  {
   "cell_type": "code",
   "execution_count": 2,
   "id": "c9168d52-0769-4e39-af23-45a6136cc67e",
   "metadata": {},
   "outputs": [
    {
     "name": "stdout",
     "output_type": "stream",
     "text": [
      "x_train shape: torch.Size([23974, 207, 12])\n",
      "y_train shape: torch.Size([23974, 207, 12])\n",
      "x_test shape: torch.Size([6850, 207, 12])\n",
      "y_test shape: torch.Size([6850, 207, 12])\n",
      "x_val shape: torch.Size([3425, 207, 12])\n",
      "y_val shape: torch.Size([3425, 207, 12])\n"
     ]
    }
   ],
   "source": [
    "# Define the path to the compressed training data file\n",
    "train_file_path = 'data/METR-LA/train.npz'\n",
    "\n",
    "# Load the data for training\n",
    "with np.load(train_file_path) as data:\n",
    "    # Convert to float32 and permute dimensions (0, 2, 1, 3)\n",
    "    x_train = torch.from_numpy(data['x']).permute(0, 2, 1, 3).to(torch.float32)\n",
    "    y_train = torch.from_numpy(data['y']).permute(0, 2, 1, 3).to(torch.float32)  # Apply permute to y_train as well\n",
    "\n",
    "x_train = x_train[..., 0]\n",
    "y_train = y_train[..., 0]\n",
    "print(\"x_train shape:\", x_train.shape)\n",
    "print(\"y_train shape:\", y_train.shape)\n",
    "\n",
    "# Define the path to the compressed test data file\n",
    "test_file_path = 'data/METR-LA/test.npz'\n",
    "\n",
    "# Load the data for testing\n",
    "with np.load(test_file_path) as data:\n",
    "    x_test = torch.from_numpy(data['x']).permute(0, 2, 1, 3).to(torch.float32)  # Permuting dimensions for x_test\n",
    "    y_test = torch.from_numpy(data['y']).permute(0, 2, 1, 3).to(torch.float32)  # Apply permute to y_test as well\n",
    "\n",
    "x_test= x_test[..., 0]\n",
    "y_test = y_test[..., 0]\n",
    "print(\"x_test shape:\", x_test.shape)\n",
    "print(\"y_test shape:\", y_test.shape)\n",
    "\n",
    "# Define the path to the compressed validation data file\n",
    "val_file_path = 'data/METR-LA/val.npz'\n",
    "\n",
    "# Load the data for validation\n",
    "with np.load(val_file_path) as data:\n",
    "    x_val = torch.from_numpy(data['x']).permute(0, 2, 1, 3).to(torch.float32)  # Permuting dimensions for x_val\n",
    "    y_val = torch.from_numpy(data['y']).permute(0, 2, 1, 3).to(torch.float32)  # Apply permute to y_val as well\n",
    "\n",
    "x_val = x_val[..., 0]\n",
    "y_val = y_val[..., 0]\n",
    "print(\"x_val shape:\", x_val.shape)\n",
    "print(\"y_val shape:\", y_val.shape)"
   ]
  },
  {
   "cell_type": "markdown",
   "id": "daf2988a-1058-4ed1-beaf-054973f34ad9",
   "metadata": {},
   "source": [
    "### Load the adjacency matrix and create the time adjacency matrix. Create dictionaries for the mean and standard deviation values of each sensor, which can be used later to plot the original data.\n",
    "Spatial adjacency matrix has shape (num_sensors, num_sensors).\n",
    "\n",
    "Temporal adjacency matrix has shape (num_timesteps, num_timesteps)."
   ]
  },
  {
   "cell_type": "code",
   "execution_count": 3,
   "id": "b92d17d4-a144-4f3d-a3f7-61a608928421",
   "metadata": {},
   "outputs": [
    {
     "name": "stdout",
     "output_type": "stream",
     "text": [
      "Spatial adjacency Matrix Shape: torch.Size([207, 207])\n",
      "Temporal Adjacency Matrix Shape: torch.Size([12, 12])\n"
     ]
    }
   ],
   "source": [
    "# File paths\n",
    "adj_file = 'adj_mx.pkl'\n",
    "data_file = \"data/METR-LA/metr-la.h5\"\n",
    "\n",
    "# Load adjacency matrix data from pickle file\n",
    "with open(adj_file, 'rb') as f:\n",
    "    sensor_ids, sensor_id_to_ind, adj_mx = pickle.load(f, encoding='latin1')\n",
    "\n",
    "# Convert adjacency matrix to a tensor and set its dtype to float32\n",
    "adj_mx = torch.from_numpy(adj_mx).to(torch.float32)\n",
    "print(f\"Spatial adjacency Matrix Shape: {adj_mx.shape}\")\n",
    "\n",
    "# Generate time adjacency matrix\n",
    "tadj_mx = stb.get_time_adj(x_train.shape[2])\n",
    "print(f\"Temporal Adjacency Matrix Shape: {tadj_mx.shape}\")\n",
    "\n",
    "# Load dataset\n",
    "df = pd.read_hdf(data_file)\n",
    "\n",
    "# Compute mean and standard deviation for each sensor, store in dict\n",
    "mean_values = df.mean().to_dict()\n",
    "std_values = df.std().to_dict()\n",
    "\n",
    "# Map mean and std values to the corresponding sensor indices\n",
    "mean_ind_dict = {\n",
    "    sensor_id_to_ind[sensor_id]: mean_values[sensor_id]\n",
    "    for sensor_id in mean_values if sensor_id in sensor_id_to_ind\n",
    "}\n",
    "\n",
    "std_ind_dict = {\n",
    "    sensor_id_to_ind[sensor_id]: std_values[sensor_id]\n",
    "    for sensor_id in std_values if sensor_id in sensor_id_to_ind\n",
    "}"
   ]
  },
  {
   "cell_type": "markdown",
   "id": "e21acad5-d002-4da6-9ce6-fdaf9b31a7f0",
   "metadata": {},
   "source": [
    "### Set model hyperparameters"
   ]
  },
  {
   "cell_type": "code",
   "execution_count": 4,
   "id": "105d0f8e-d024-4521-89e1-9e03dcd29686",
   "metadata": {},
   "outputs": [
    {
     "name": "stdout",
     "output_type": "stream",
     "text": [
      "Device detected: cuda\n"
     ]
    }
   ],
   "source": [
    "# MLP Parameters\n",
    "_, num_nodes, num_timesteps = x_train.shape\n",
    "mlp_input_dim = num_nodes * num_timesteps\n",
    "embedding_dim = int(mlp_input_dim / 4)\n",
    "output_dim = 12\n",
    "\n",
    "# Training parameters\n",
    "batch_size = 64\n",
    "num_epochs = 50\n",
    "patience, trigger_times = 10, 0  # Patience of 10 epochs\n",
    "learning_rate = 0.001\n",
    "num_trainings = 3\n",
    "\n",
    "device = torch.device(\"cuda\" if torch.cuda.is_available() else \"cpu\")\n",
    "print(f\"Device detected: {device}\")"
   ]
  },
  {
   "cell_type": "markdown",
   "id": "33997c3b-bbfd-4875-a8e2-f4d5e7cb7e6f",
   "metadata": {},
   "source": [
    "### Load original data into dataloaders"
   ]
  },
  {
   "cell_type": "code",
   "execution_count": 5,
   "id": "7feef392-1fc8-4211-bf64-404e43ea2b4a",
   "metadata": {},
   "outputs": [],
   "source": [
    "# Create new DataLoaders for precomputed data\n",
    "train_loader = DataLoader(TensorDataset(x_train, y_train), batch_size=batch_size, shuffle=True)\n",
    "val_loader = DataLoader(TensorDataset(x_val, y_val), batch_size=batch_size, shuffle=False)\n",
    "test_loader = DataLoader(TensorDataset(x_test, y_test), batch_size=batch_size, shuffle=False)"
   ]
  },
  {
   "cell_type": "markdown",
   "id": "cd6a1dc3-ed87-4bf7-b8ba-66cedf1a9b3d",
   "metadata": {},
   "source": [
    "### Train the model multiple times"
   ]
  },
  {
   "cell_type": "code",
   "execution_count": 6,
   "id": "2998cb9c-6617-480c-aebe-6ca26c7f547b",
   "metadata": {
    "scrolled": true
   },
   "outputs": [
    {
     "name": "stdout",
     "output_type": "stream",
     "text": [
      "\n",
      "\n",
      "TRAINING MODEL 1\n",
      "\n",
      "\n"
     ]
    },
    {
     "name": "stderr",
     "output_type": "stream",
     "text": [
      "Train Epoch 1: 100%|██████████████████████████████████████████████████████████████████| 375/375 [00:06<00:00, 55.94it/s]\n",
      "Validation Epoch 1: 100%|██████████████████████████████████████████████████████████████| 54/54 [00:00<00:00, 288.39it/s]\n"
     ]
    },
    {
     "name": "stdout",
     "output_type": "stream",
     "text": [
      "Model 1: Epoch 1/50, Train Loss: 0.4255, Validation Loss: 0.3355\n"
     ]
    },
    {
     "name": "stderr",
     "output_type": "stream",
     "text": [
      "Train Epoch 2: 100%|█████████████████████████████████████████████████████████████████| 375/375 [00:02<00:00, 164.27it/s]\n",
      "Validation Epoch 2: 100%|██████████████████████████████████████████████████████████████| 54/54 [00:00<00:00, 294.65it/s]\n"
     ]
    },
    {
     "name": "stdout",
     "output_type": "stream",
     "text": [
      "Model 1: Epoch 2/50, Train Loss: 0.3570, Validation Loss: 0.3281\n"
     ]
    },
    {
     "name": "stderr",
     "output_type": "stream",
     "text": [
      "Train Epoch 3: 100%|█████████████████████████████████████████████████████████████████| 375/375 [00:02<00:00, 163.87it/s]\n",
      "Validation Epoch 3: 100%|██████████████████████████████████████████████████████████████| 54/54 [00:00<00:00, 288.21it/s]\n"
     ]
    },
    {
     "name": "stdout",
     "output_type": "stream",
     "text": [
      "Model 1: Epoch 3/50, Train Loss: 0.3413, Validation Loss: 0.3315\n"
     ]
    },
    {
     "name": "stderr",
     "output_type": "stream",
     "text": [
      "Train Epoch 4: 100%|█████████████████████████████████████████████████████████████████| 375/375 [00:02<00:00, 162.53it/s]\n",
      "Validation Epoch 4: 100%|██████████████████████████████████████████████████████████████| 54/54 [00:00<00:00, 292.62it/s]\n"
     ]
    },
    {
     "name": "stdout",
     "output_type": "stream",
     "text": [
      "Model 1: Epoch 4/50, Train Loss: 0.3291, Validation Loss: 0.3155\n"
     ]
    },
    {
     "name": "stderr",
     "output_type": "stream",
     "text": [
      "Train Epoch 5: 100%|█████████████████████████████████████████████████████████████████| 375/375 [00:02<00:00, 160.63it/s]\n",
      "Validation Epoch 5: 100%|██████████████████████████████████████████████████████████████| 54/54 [00:00<00:00, 281.85it/s]\n"
     ]
    },
    {
     "name": "stdout",
     "output_type": "stream",
     "text": [
      "Model 1: Epoch 5/50, Train Loss: 0.3264, Validation Loss: 0.3076\n"
     ]
    },
    {
     "name": "stderr",
     "output_type": "stream",
     "text": [
      "Train Epoch 6: 100%|█████████████████████████████████████████████████████████████████| 375/375 [00:02<00:00, 165.49it/s]\n",
      "Validation Epoch 6: 100%|██████████████████████████████████████████████████████████████| 54/54 [00:00<00:00, 277.05it/s]\n"
     ]
    },
    {
     "name": "stdout",
     "output_type": "stream",
     "text": [
      "Model 1: Epoch 6/50, Train Loss: 0.3227, Validation Loss: 0.2862\n"
     ]
    },
    {
     "name": "stderr",
     "output_type": "stream",
     "text": [
      "Train Epoch 7: 100%|█████████████████████████████████████████████████████████████████| 375/375 [00:02<00:00, 166.56it/s]\n",
      "Validation Epoch 7: 100%|██████████████████████████████████████████████████████████████| 54/54 [00:00<00:00, 290.83it/s]\n"
     ]
    },
    {
     "name": "stdout",
     "output_type": "stream",
     "text": [
      "Model 1: Epoch 7/50, Train Loss: 0.3170, Validation Loss: 0.2859\n"
     ]
    },
    {
     "name": "stderr",
     "output_type": "stream",
     "text": [
      "Train Epoch 8: 100%|█████████████████████████████████████████████████████████████████| 375/375 [00:02<00:00, 166.13it/s]\n",
      "Validation Epoch 8: 100%|██████████████████████████████████████████████████████████████| 54/54 [00:00<00:00, 280.17it/s]\n"
     ]
    },
    {
     "name": "stdout",
     "output_type": "stream",
     "text": [
      "Model 1: Epoch 8/50, Train Loss: 0.3153, Validation Loss: 0.3120\n"
     ]
    },
    {
     "name": "stderr",
     "output_type": "stream",
     "text": [
      "Train Epoch 9: 100%|█████████████████████████████████████████████████████████████████| 375/375 [00:02<00:00, 165.85it/s]\n",
      "Validation Epoch 9: 100%|██████████████████████████████████████████████████████████████| 54/54 [00:00<00:00, 287.12it/s]\n"
     ]
    },
    {
     "name": "stdout",
     "output_type": "stream",
     "text": [
      "Model 1: Epoch 9/50, Train Loss: 0.3125, Validation Loss: 0.2831\n"
     ]
    },
    {
     "name": "stderr",
     "output_type": "stream",
     "text": [
      "Train Epoch 10: 100%|████████████████████████████████████████████████████████████████| 375/375 [00:02<00:00, 165.62it/s]\n",
      "Validation Epoch 10: 100%|█████████████████████████████████████████████████████████████| 54/54 [00:00<00:00, 290.20it/s]\n"
     ]
    },
    {
     "name": "stdout",
     "output_type": "stream",
     "text": [
      "Model 1: Epoch 10/50, Train Loss: 0.3098, Validation Loss: 0.2865\n"
     ]
    },
    {
     "name": "stderr",
     "output_type": "stream",
     "text": [
      "Train Epoch 11: 100%|████████████████████████████████████████████████████████████████| 375/375 [00:02<00:00, 165.01it/s]\n",
      "Validation Epoch 11: 100%|█████████████████████████████████████████████████████████████| 54/54 [00:00<00:00, 291.37it/s]\n"
     ]
    },
    {
     "name": "stdout",
     "output_type": "stream",
     "text": [
      "Model 1: Epoch 11/50, Train Loss: 0.3087, Validation Loss: 0.2759\n"
     ]
    },
    {
     "name": "stderr",
     "output_type": "stream",
     "text": [
      "Train Epoch 12: 100%|████████████████████████████████████████████████████████████████| 375/375 [00:02<00:00, 164.86it/s]\n",
      "Validation Epoch 12: 100%|█████████████████████████████████████████████████████████████| 54/54 [00:00<00:00, 288.10it/s]\n"
     ]
    },
    {
     "name": "stdout",
     "output_type": "stream",
     "text": [
      "Model 1: Epoch 12/50, Train Loss: 0.3065, Validation Loss: 0.2767\n"
     ]
    },
    {
     "name": "stderr",
     "output_type": "stream",
     "text": [
      "Train Epoch 13: 100%|████████████████████████████████████████████████████████████████| 375/375 [00:02<00:00, 164.63it/s]\n",
      "Validation Epoch 13: 100%|█████████████████████████████████████████████████████████████| 54/54 [00:00<00:00, 289.21it/s]\n"
     ]
    },
    {
     "name": "stdout",
     "output_type": "stream",
     "text": [
      "Model 1: Epoch 13/50, Train Loss: 0.3078, Validation Loss: 0.3028\n"
     ]
    },
    {
     "name": "stderr",
     "output_type": "stream",
     "text": [
      "Train Epoch 14: 100%|████████████████████████████████████████████████████████████████| 375/375 [00:02<00:00, 164.91it/s]\n",
      "Validation Epoch 14: 100%|█████████████████████████████████████████████████████████████| 54/54 [00:00<00:00, 286.25it/s]\n"
     ]
    },
    {
     "name": "stdout",
     "output_type": "stream",
     "text": [
      "Model 1: Epoch 14/50, Train Loss: 0.3017, Validation Loss: 0.2771\n"
     ]
    },
    {
     "name": "stderr",
     "output_type": "stream",
     "text": [
      "Train Epoch 15: 100%|████████████████████████████████████████████████████████████████| 375/375 [00:02<00:00, 165.35it/s]\n",
      "Validation Epoch 15: 100%|█████████████████████████████████████████████████████████████| 54/54 [00:00<00:00, 289.34it/s]\n"
     ]
    },
    {
     "name": "stdout",
     "output_type": "stream",
     "text": [
      "Model 1: Epoch 15/50, Train Loss: 0.3027, Validation Loss: 0.2763\n"
     ]
    },
    {
     "name": "stderr",
     "output_type": "stream",
     "text": [
      "Train Epoch 16: 100%|████████████████████████████████████████████████████████████████| 375/375 [00:02<00:00, 166.47it/s]\n",
      "Validation Epoch 16: 100%|█████████████████████████████████████████████████████████████| 54/54 [00:00<00:00, 292.57it/s]\n"
     ]
    },
    {
     "name": "stdout",
     "output_type": "stream",
     "text": [
      "Model 1: Epoch 16/50, Train Loss: 0.3004, Validation Loss: 0.2774\n"
     ]
    },
    {
     "name": "stderr",
     "output_type": "stream",
     "text": [
      "Train Epoch 17: 100%|████████████████████████████████████████████████████████████████| 375/375 [00:02<00:00, 166.45it/s]\n",
      "Validation Epoch 17: 100%|█████████████████████████████████████████████████████████████| 54/54 [00:00<00:00, 290.60it/s]\n"
     ]
    },
    {
     "name": "stdout",
     "output_type": "stream",
     "text": [
      "Model 1: Epoch 17/50, Train Loss: 0.2980, Validation Loss: 0.2958\n"
     ]
    },
    {
     "name": "stderr",
     "output_type": "stream",
     "text": [
      "Train Epoch 18: 100%|████████████████████████████████████████████████████████████████| 375/375 [00:02<00:00, 167.76it/s]\n",
      "Validation Epoch 18: 100%|█████████████████████████████████████████████████████████████| 54/54 [00:00<00:00, 295.71it/s]\n"
     ]
    },
    {
     "name": "stdout",
     "output_type": "stream",
     "text": [
      "Model 1: Epoch 18/50, Train Loss: 0.2975, Validation Loss: 0.2755\n"
     ]
    },
    {
     "name": "stderr",
     "output_type": "stream",
     "text": [
      "Train Epoch 19: 100%|████████████████████████████████████████████████████████████████| 375/375 [00:02<00:00, 166.38it/s]\n",
      "Validation Epoch 19: 100%|█████████████████████████████████████████████████████████████| 54/54 [00:00<00:00, 284.88it/s]\n"
     ]
    },
    {
     "name": "stdout",
     "output_type": "stream",
     "text": [
      "Model 1: Epoch 19/50, Train Loss: 0.2947, Validation Loss: 0.2704\n"
     ]
    },
    {
     "name": "stderr",
     "output_type": "stream",
     "text": [
      "Train Epoch 20: 100%|████████████████████████████████████████████████████████████████| 375/375 [00:02<00:00, 164.58it/s]\n",
      "Validation Epoch 20: 100%|█████████████████████████████████████████████████████████████| 54/54 [00:00<00:00, 296.15it/s]\n"
     ]
    },
    {
     "name": "stdout",
     "output_type": "stream",
     "text": [
      "Model 1: Epoch 20/50, Train Loss: 0.2943, Validation Loss: 0.2704\n"
     ]
    },
    {
     "name": "stderr",
     "output_type": "stream",
     "text": [
      "Train Epoch 21: 100%|████████████████████████████████████████████████████████████████| 375/375 [00:02<00:00, 165.22it/s]\n",
      "Validation Epoch 21: 100%|█████████████████████████████████████████████████████████████| 54/54 [00:00<00:00, 290.47it/s]\n"
     ]
    },
    {
     "name": "stdout",
     "output_type": "stream",
     "text": [
      "Model 1: Epoch 21/50, Train Loss: 0.2939, Validation Loss: 0.2888\n"
     ]
    },
    {
     "name": "stderr",
     "output_type": "stream",
     "text": [
      "Train Epoch 22: 100%|████████████████████████████████████████████████████████████████| 375/375 [00:02<00:00, 164.41it/s]\n",
      "Validation Epoch 22: 100%|█████████████████████████████████████████████████████████████| 54/54 [00:00<00:00, 292.12it/s]\n"
     ]
    },
    {
     "name": "stdout",
     "output_type": "stream",
     "text": [
      "Model 1: Epoch 22/50, Train Loss: 0.2930, Validation Loss: 0.2809\n"
     ]
    },
    {
     "name": "stderr",
     "output_type": "stream",
     "text": [
      "Train Epoch 23: 100%|████████████████████████████████████████████████████████████████| 375/375 [00:02<00:00, 164.96it/s]\n",
      "Validation Epoch 23: 100%|█████████████████████████████████████████████████████████████| 54/54 [00:00<00:00, 291.42it/s]\n"
     ]
    },
    {
     "name": "stdout",
     "output_type": "stream",
     "text": [
      "Model 1: Epoch 23/50, Train Loss: 0.2927, Validation Loss: 0.2833\n"
     ]
    },
    {
     "name": "stderr",
     "output_type": "stream",
     "text": [
      "Train Epoch 24: 100%|████████████████████████████████████████████████████████████████| 375/375 [00:02<00:00, 165.09it/s]\n",
      "Validation Epoch 24: 100%|█████████████████████████████████████████████████████████████| 54/54 [00:00<00:00, 284.99it/s]\n"
     ]
    },
    {
     "name": "stdout",
     "output_type": "stream",
     "text": [
      "Model 1: Epoch 24/50, Train Loss: 0.2942, Validation Loss: 0.2730\n"
     ]
    },
    {
     "name": "stderr",
     "output_type": "stream",
     "text": [
      "Train Epoch 25: 100%|████████████████████████████████████████████████████████████████| 375/375 [00:02<00:00, 164.35it/s]\n",
      "Validation Epoch 25: 100%|█████████████████████████████████████████████████████████████| 54/54 [00:00<00:00, 283.50it/s]\n"
     ]
    },
    {
     "name": "stdout",
     "output_type": "stream",
     "text": [
      "Model 1: Epoch 25/50, Train Loss: 0.2918, Validation Loss: 0.2716\n"
     ]
    },
    {
     "name": "stderr",
     "output_type": "stream",
     "text": [
      "Train Epoch 26: 100%|████████████████████████████████████████████████████████████████| 375/375 [00:02<00:00, 164.15it/s]\n",
      "Validation Epoch 26: 100%|█████████████████████████████████████████████████████████████| 54/54 [00:00<00:00, 289.14it/s]\n"
     ]
    },
    {
     "name": "stdout",
     "output_type": "stream",
     "text": [
      "Model 1: Epoch 26/50, Train Loss: 0.2914, Validation Loss: 0.2704\n"
     ]
    },
    {
     "name": "stderr",
     "output_type": "stream",
     "text": [
      "Train Epoch 27: 100%|████████████████████████████████████████████████████████████████| 375/375 [00:02<00:00, 166.56it/s]\n",
      "Validation Epoch 27: 100%|█████████████████████████████████████████████████████████████| 54/54 [00:00<00:00, 293.58it/s]\n"
     ]
    },
    {
     "name": "stdout",
     "output_type": "stream",
     "text": [
      "Model 1: Epoch 27/50, Train Loss: 0.2910, Validation Loss: 0.2831\n"
     ]
    },
    {
     "name": "stderr",
     "output_type": "stream",
     "text": [
      "Train Epoch 28: 100%|████████████████████████████████████████████████████████████████| 375/375 [00:02<00:00, 161.18it/s]\n",
      "Validation Epoch 28: 100%|█████████████████████████████████████████████████████████████| 54/54 [00:00<00:00, 279.59it/s]\n"
     ]
    },
    {
     "name": "stdout",
     "output_type": "stream",
     "text": [
      "Model 1: Epoch 28/50, Train Loss: 0.2906, Validation Loss: 0.2813\n"
     ]
    },
    {
     "name": "stderr",
     "output_type": "stream",
     "text": [
      "Train Epoch 29: 100%|████████████████████████████████████████████████████████████████| 375/375 [00:02<00:00, 162.30it/s]\n",
      "Validation Epoch 29: 100%|█████████████████████████████████████████████████████████████| 54/54 [00:00<00:00, 287.13it/s]\n"
     ]
    },
    {
     "name": "stdout",
     "output_type": "stream",
     "text": [
      "Model 1: Epoch 29/50, Train Loss: 0.2894, Validation Loss: 0.2901\n"
     ]
    },
    {
     "name": "stderr",
     "output_type": "stream",
     "text": [
      "Train Epoch 30: 100%|████████████████████████████████████████████████████████████████| 375/375 [00:02<00:00, 164.04it/s]\n",
      "Validation Epoch 30: 100%|█████████████████████████████████████████████████████████████| 54/54 [00:00<00:00, 283.29it/s]\n"
     ]
    },
    {
     "name": "stdout",
     "output_type": "stream",
     "text": [
      "Model 1: Epoch 30/50, Train Loss: 0.2895, Validation Loss: 0.2807\n"
     ]
    },
    {
     "name": "stderr",
     "output_type": "stream",
     "text": [
      "Train Epoch 31: 100%|████████████████████████████████████████████████████████████████| 375/375 [00:02<00:00, 163.01it/s]\n",
      "Validation Epoch 31: 100%|█████████████████████████████████████████████████████████████| 54/54 [00:00<00:00, 283.43it/s]\n"
     ]
    },
    {
     "name": "stdout",
     "output_type": "stream",
     "text": [
      "Model 1: Epoch 31/50, Train Loss: 0.2902, Validation Loss: 0.2733\n"
     ]
    },
    {
     "name": "stderr",
     "output_type": "stream",
     "text": [
      "Train Epoch 32: 100%|████████████████████████████████████████████████████████████████| 375/375 [00:02<00:00, 163.29it/s]\n",
      "Validation Epoch 32: 100%|█████████████████████████████████████████████████████████████| 54/54 [00:00<00:00, 285.58it/s]\n"
     ]
    },
    {
     "name": "stdout",
     "output_type": "stream",
     "text": [
      "Model 1: Epoch 32/50, Train Loss: 0.2906, Validation Loss: 0.2808\n"
     ]
    },
    {
     "name": "stderr",
     "output_type": "stream",
     "text": [
      "Train Epoch 33: 100%|████████████████████████████████████████████████████████████████| 375/375 [00:02<00:00, 161.16it/s]\n",
      "Validation Epoch 33: 100%|█████████████████████████████████████████████████████████████| 54/54 [00:00<00:00, 273.16it/s]\n"
     ]
    },
    {
     "name": "stdout",
     "output_type": "stream",
     "text": [
      "Model 1: Epoch 33/50, Train Loss: 0.2868, Validation Loss: 0.2842\n"
     ]
    },
    {
     "name": "stderr",
     "output_type": "stream",
     "text": [
      "Train Epoch 34: 100%|████████████████████████████████████████████████████████████████| 375/375 [00:02<00:00, 160.16it/s]\n",
      "Validation Epoch 34: 100%|█████████████████████████████████████████████████████████████| 54/54 [00:00<00:00, 270.81it/s]\n"
     ]
    },
    {
     "name": "stdout",
     "output_type": "stream",
     "text": [
      "Model 1: Epoch 34/50, Train Loss: 0.2863, Validation Loss: 0.2733\n"
     ]
    },
    {
     "name": "stderr",
     "output_type": "stream",
     "text": [
      "Train Epoch 35: 100%|████████████████████████████████████████████████████████████████| 375/375 [00:02<00:00, 159.65it/s]\n",
      "Validation Epoch 35: 100%|█████████████████████████████████████████████████████████████| 54/54 [00:00<00:00, 273.77it/s]\n"
     ]
    },
    {
     "name": "stdout",
     "output_type": "stream",
     "text": [
      "Model 1: Epoch 35/50, Train Loss: 0.2873, Validation Loss: 0.2918\n"
     ]
    },
    {
     "name": "stderr",
     "output_type": "stream",
     "text": [
      "Train Epoch 36: 100%|████████████████████████████████████████████████████████████████| 375/375 [00:02<00:00, 160.18it/s]\n",
      "Validation Epoch 36: 100%|█████████████████████████████████████████████████████████████| 54/54 [00:00<00:00, 267.42it/s]\n"
     ]
    },
    {
     "name": "stdout",
     "output_type": "stream",
     "text": [
      "Model 1: Epoch 36/50, Train Loss: 0.2863, Validation Loss: 0.2662\n"
     ]
    },
    {
     "name": "stderr",
     "output_type": "stream",
     "text": [
      "Train Epoch 37: 100%|████████████████████████████████████████████████████████████████| 375/375 [00:02<00:00, 157.52it/s]\n",
      "Validation Epoch 37: 100%|█████████████████████████████████████████████████████████████| 54/54 [00:00<00:00, 279.49it/s]\n"
     ]
    },
    {
     "name": "stdout",
     "output_type": "stream",
     "text": [
      "Model 1: Epoch 37/50, Train Loss: 0.2878, Validation Loss: 0.2677\n"
     ]
    },
    {
     "name": "stderr",
     "output_type": "stream",
     "text": [
      "Train Epoch 38: 100%|████████████████████████████████████████████████████████████████| 375/375 [00:02<00:00, 159.59it/s]\n",
      "Validation Epoch 38: 100%|█████████████████████████████████████████████████████████████| 54/54 [00:00<00:00, 283.12it/s]\n"
     ]
    },
    {
     "name": "stdout",
     "output_type": "stream",
     "text": [
      "Model 1: Epoch 38/50, Train Loss: 0.2856, Validation Loss: 0.2695\n"
     ]
    },
    {
     "name": "stderr",
     "output_type": "stream",
     "text": [
      "Train Epoch 39: 100%|████████████████████████████████████████████████████████████████| 375/375 [00:02<00:00, 160.25it/s]\n",
      "Validation Epoch 39: 100%|█████████████████████████████████████████████████████████████| 54/54 [00:00<00:00, 280.78it/s]\n"
     ]
    },
    {
     "name": "stdout",
     "output_type": "stream",
     "text": [
      "Model 1: Epoch 39/50, Train Loss: 0.2867, Validation Loss: 0.2835\n"
     ]
    },
    {
     "name": "stderr",
     "output_type": "stream",
     "text": [
      "Train Epoch 40: 100%|████████████████████████████████████████████████████████████████| 375/375 [00:02<00:00, 164.76it/s]\n",
      "Validation Epoch 40: 100%|█████████████████████████████████████████████████████████████| 54/54 [00:00<00:00, 282.32it/s]\n"
     ]
    },
    {
     "name": "stdout",
     "output_type": "stream",
     "text": [
      "Model 1: Epoch 40/50, Train Loss: 0.2836, Validation Loss: 0.2729\n"
     ]
    },
    {
     "name": "stderr",
     "output_type": "stream",
     "text": [
      "Train Epoch 41: 100%|████████████████████████████████████████████████████████████████| 375/375 [00:02<00:00, 163.74it/s]\n",
      "Validation Epoch 41: 100%|█████████████████████████████████████████████████████████████| 54/54 [00:00<00:00, 284.05it/s]\n"
     ]
    },
    {
     "name": "stdout",
     "output_type": "stream",
     "text": [
      "Model 1: Epoch 41/50, Train Loss: 0.2848, Validation Loss: 0.2875\n"
     ]
    },
    {
     "name": "stderr",
     "output_type": "stream",
     "text": [
      "Train Epoch 42: 100%|████████████████████████████████████████████████████████████████| 375/375 [00:02<00:00, 163.71it/s]\n",
      "Validation Epoch 42: 100%|█████████████████████████████████████████████████████████████| 54/54 [00:00<00:00, 282.35it/s]\n"
     ]
    },
    {
     "name": "stdout",
     "output_type": "stream",
     "text": [
      "Model 1: Epoch 42/50, Train Loss: 0.2861, Validation Loss: 0.2984\n"
     ]
    },
    {
     "name": "stderr",
     "output_type": "stream",
     "text": [
      "Train Epoch 43: 100%|████████████████████████████████████████████████████████████████| 375/375 [00:02<00:00, 163.99it/s]\n",
      "Validation Epoch 43: 100%|█████████████████████████████████████████████████████████████| 54/54 [00:00<00:00, 281.87it/s]\n"
     ]
    },
    {
     "name": "stdout",
     "output_type": "stream",
     "text": [
      "Model 1: Epoch 43/50, Train Loss: 0.2844, Validation Loss: 0.2694\n"
     ]
    },
    {
     "name": "stderr",
     "output_type": "stream",
     "text": [
      "Train Epoch 44: 100%|████████████████████████████████████████████████████████████████| 375/375 [00:02<00:00, 162.72it/s]\n",
      "Validation Epoch 44: 100%|█████████████████████████████████████████████████████████████| 54/54 [00:00<00:00, 286.49it/s]\n"
     ]
    },
    {
     "name": "stdout",
     "output_type": "stream",
     "text": [
      "Model 1: Epoch 44/50, Train Loss: 0.2846, Validation Loss: 0.2757\n"
     ]
    },
    {
     "name": "stderr",
     "output_type": "stream",
     "text": [
      "Train Epoch 45: 100%|████████████████████████████████████████████████████████████████| 375/375 [00:02<00:00, 163.69it/s]\n",
      "Validation Epoch 45: 100%|█████████████████████████████████████████████████████████████| 54/54 [00:00<00:00, 279.55it/s]\n"
     ]
    },
    {
     "name": "stdout",
     "output_type": "stream",
     "text": [
      "Model 1: Epoch 45/50, Train Loss: 0.2831, Validation Loss: 0.2845\n"
     ]
    },
    {
     "name": "stderr",
     "output_type": "stream",
     "text": [
      "Train Epoch 46: 100%|████████████████████████████████████████████████████████████████| 375/375 [00:02<00:00, 164.89it/s]\n",
      "Validation Epoch 46: 100%|█████████████████████████████████████████████████████████████| 54/54 [00:00<00:00, 279.94it/s]\n"
     ]
    },
    {
     "name": "stdout",
     "output_type": "stream",
     "text": [
      "Model 1: Early stopping!\n",
      "\n",
      "\n",
      "TRAINING MODEL 2\n",
      "\n",
      "\n"
     ]
    },
    {
     "name": "stderr",
     "output_type": "stream",
     "text": [
      "Train Epoch 1: 100%|█████████████████████████████████████████████████████████████████| 375/375 [00:02<00:00, 164.62it/s]\n",
      "Validation Epoch 1: 100%|██████████████████████████████████████████████████████████████| 54/54 [00:00<00:00, 282.40it/s]\n"
     ]
    },
    {
     "name": "stdout",
     "output_type": "stream",
     "text": [
      "Model 2: Epoch 1/50, Train Loss: 0.4262, Validation Loss: 0.3295\n"
     ]
    },
    {
     "name": "stderr",
     "output_type": "stream",
     "text": [
      "Train Epoch 2: 100%|█████████████████████████████████████████████████████████████████| 375/375 [00:02<00:00, 164.45it/s]\n",
      "Validation Epoch 2: 100%|██████████████████████████████████████████████████████████████| 54/54 [00:00<00:00, 279.42it/s]\n"
     ]
    },
    {
     "name": "stdout",
     "output_type": "stream",
     "text": [
      "Model 2: Epoch 2/50, Train Loss: 0.3583, Validation Loss: 0.3061\n"
     ]
    },
    {
     "name": "stderr",
     "output_type": "stream",
     "text": [
      "Train Epoch 3: 100%|█████████████████████████████████████████████████████████████████| 375/375 [00:02<00:00, 164.60it/s]\n",
      "Validation Epoch 3: 100%|██████████████████████████████████████████████████████████████| 54/54 [00:00<00:00, 287.79it/s]\n"
     ]
    },
    {
     "name": "stdout",
     "output_type": "stream",
     "text": [
      "Model 2: Epoch 3/50, Train Loss: 0.3419, Validation Loss: 0.3098\n"
     ]
    },
    {
     "name": "stderr",
     "output_type": "stream",
     "text": [
      "Train Epoch 4: 100%|█████████████████████████████████████████████████████████████████| 375/375 [00:02<00:00, 164.30it/s]\n",
      "Validation Epoch 4: 100%|██████████████████████████████████████████████████████████████| 54/54 [00:00<00:00, 285.96it/s]\n"
     ]
    },
    {
     "name": "stdout",
     "output_type": "stream",
     "text": [
      "Model 2: Epoch 4/50, Train Loss: 0.3340, Validation Loss: 0.3093\n"
     ]
    },
    {
     "name": "stderr",
     "output_type": "stream",
     "text": [
      "Train Epoch 5: 100%|█████████████████████████████████████████████████████████████████| 375/375 [00:02<00:00, 163.96it/s]\n",
      "Validation Epoch 5: 100%|██████████████████████████████████████████████████████████████| 54/54 [00:00<00:00, 272.25it/s]\n"
     ]
    },
    {
     "name": "stdout",
     "output_type": "stream",
     "text": [
      "Model 2: Epoch 5/50, Train Loss: 0.3257, Validation Loss: 0.3258\n"
     ]
    },
    {
     "name": "stderr",
     "output_type": "stream",
     "text": [
      "Train Epoch 6: 100%|█████████████████████████████████████████████████████████████████| 375/375 [00:02<00:00, 162.90it/s]\n",
      "Validation Epoch 6: 100%|██████████████████████████████████████████████████████████████| 54/54 [00:00<00:00, 283.32it/s]\n"
     ]
    },
    {
     "name": "stdout",
     "output_type": "stream",
     "text": [
      "Model 2: Epoch 6/50, Train Loss: 0.3207, Validation Loss: 0.2859\n"
     ]
    },
    {
     "name": "stderr",
     "output_type": "stream",
     "text": [
      "Train Epoch 7: 100%|█████████████████████████████████████████████████████████████████| 375/375 [00:02<00:00, 163.59it/s]\n",
      "Validation Epoch 7: 100%|██████████████████████████████████████████████████████████████| 54/54 [00:00<00:00, 281.61it/s]\n"
     ]
    },
    {
     "name": "stdout",
     "output_type": "stream",
     "text": [
      "Model 2: Epoch 7/50, Train Loss: 0.3176, Validation Loss: 0.3075\n"
     ]
    },
    {
     "name": "stderr",
     "output_type": "stream",
     "text": [
      "Train Epoch 8: 100%|█████████████████████████████████████████████████████████████████| 375/375 [00:02<00:00, 164.54it/s]\n",
      "Validation Epoch 8: 100%|██████████████████████████████████████████████████████████████| 54/54 [00:00<00:00, 286.91it/s]\n"
     ]
    },
    {
     "name": "stdout",
     "output_type": "stream",
     "text": [
      "Model 2: Epoch 8/50, Train Loss: 0.3145, Validation Loss: 0.2969\n"
     ]
    },
    {
     "name": "stderr",
     "output_type": "stream",
     "text": [
      "Train Epoch 9: 100%|█████████████████████████████████████████████████████████████████| 375/375 [00:02<00:00, 163.81it/s]\n",
      "Validation Epoch 9: 100%|██████████████████████████████████████████████████████████████| 54/54 [00:00<00:00, 284.65it/s]\n"
     ]
    },
    {
     "name": "stdout",
     "output_type": "stream",
     "text": [
      "Model 2: Epoch 9/50, Train Loss: 0.3147, Validation Loss: 0.2835\n"
     ]
    },
    {
     "name": "stderr",
     "output_type": "stream",
     "text": [
      "Train Epoch 10: 100%|████████████████████████████████████████████████████████████████| 375/375 [00:02<00:00, 163.49it/s]\n",
      "Validation Epoch 10: 100%|█████████████████████████████████████████████████████████████| 54/54 [00:00<00:00, 279.79it/s]\n"
     ]
    },
    {
     "name": "stdout",
     "output_type": "stream",
     "text": [
      "Model 2: Epoch 10/50, Train Loss: 0.3101, Validation Loss: 0.3129\n"
     ]
    },
    {
     "name": "stderr",
     "output_type": "stream",
     "text": [
      "Train Epoch 11: 100%|████████████████████████████████████████████████████████████████| 375/375 [00:02<00:00, 165.27it/s]\n",
      "Validation Epoch 11: 100%|█████████████████████████████████████████████████████████████| 54/54 [00:00<00:00, 287.51it/s]\n"
     ]
    },
    {
     "name": "stdout",
     "output_type": "stream",
     "text": [
      "Model 2: Epoch 11/50, Train Loss: 0.3103, Validation Loss: 0.2790\n"
     ]
    },
    {
     "name": "stderr",
     "output_type": "stream",
     "text": [
      "Train Epoch 12: 100%|████████████████████████████████████████████████████████████████| 375/375 [00:02<00:00, 164.02it/s]\n",
      "Validation Epoch 12: 100%|█████████████████████████████████████████████████████████████| 54/54 [00:00<00:00, 268.44it/s]\n"
     ]
    },
    {
     "name": "stdout",
     "output_type": "stream",
     "text": [
      "Model 2: Epoch 12/50, Train Loss: 0.3085, Validation Loss: 0.2884\n"
     ]
    },
    {
     "name": "stderr",
     "output_type": "stream",
     "text": [
      "Train Epoch 13: 100%|████████████████████████████████████████████████████████████████| 375/375 [00:02<00:00, 164.02it/s]\n",
      "Validation Epoch 13: 100%|█████████████████████████████████████████████████████████████| 54/54 [00:00<00:00, 280.75it/s]\n"
     ]
    },
    {
     "name": "stdout",
     "output_type": "stream",
     "text": [
      "Model 2: Epoch 13/50, Train Loss: 0.3063, Validation Loss: 0.2752\n"
     ]
    },
    {
     "name": "stderr",
     "output_type": "stream",
     "text": [
      "Train Epoch 14: 100%|████████████████████████████████████████████████████████████████| 375/375 [00:02<00:00, 163.70it/s]\n",
      "Validation Epoch 14: 100%|█████████████████████████████████████████████████████████████| 54/54 [00:00<00:00, 283.43it/s]\n"
     ]
    },
    {
     "name": "stdout",
     "output_type": "stream",
     "text": [
      "Model 2: Epoch 14/50, Train Loss: 0.3045, Validation Loss: 0.3039\n"
     ]
    },
    {
     "name": "stderr",
     "output_type": "stream",
     "text": [
      "Train Epoch 15: 100%|████████████████████████████████████████████████████████████████| 375/375 [00:02<00:00, 163.71it/s]\n",
      "Validation Epoch 15: 100%|█████████████████████████████████████████████████████████████| 54/54 [00:00<00:00, 279.68it/s]\n"
     ]
    },
    {
     "name": "stdout",
     "output_type": "stream",
     "text": [
      "Model 2: Epoch 15/50, Train Loss: 0.3037, Validation Loss: 0.2912\n"
     ]
    },
    {
     "name": "stderr",
     "output_type": "stream",
     "text": [
      "Train Epoch 16: 100%|████████████████████████████████████████████████████████████████| 375/375 [00:02<00:00, 163.95it/s]\n",
      "Validation Epoch 16: 100%|█████████████████████████████████████████████████████████████| 54/54 [00:00<00:00, 281.34it/s]\n"
     ]
    },
    {
     "name": "stdout",
     "output_type": "stream",
     "text": [
      "Model 2: Epoch 16/50, Train Loss: 0.3027, Validation Loss: 0.3043\n"
     ]
    },
    {
     "name": "stderr",
     "output_type": "stream",
     "text": [
      "Train Epoch 17: 100%|████████████████████████████████████████████████████████████████| 375/375 [00:02<00:00, 163.46it/s]\n",
      "Validation Epoch 17: 100%|█████████████████████████████████████████████████████████████| 54/54 [00:00<00:00, 270.72it/s]\n"
     ]
    },
    {
     "name": "stdout",
     "output_type": "stream",
     "text": [
      "Model 2: Epoch 17/50, Train Loss: 0.3017, Validation Loss: 0.2969\n"
     ]
    },
    {
     "name": "stderr",
     "output_type": "stream",
     "text": [
      "Train Epoch 18: 100%|████████████████████████████████████████████████████████████████| 375/375 [00:02<00:00, 162.39it/s]\n",
      "Validation Epoch 18: 100%|█████████████████████████████████████████████████████████████| 54/54 [00:00<00:00, 273.62it/s]\n"
     ]
    },
    {
     "name": "stdout",
     "output_type": "stream",
     "text": [
      "Model 2: Epoch 18/50, Train Loss: 0.3007, Validation Loss: 0.2905\n"
     ]
    },
    {
     "name": "stderr",
     "output_type": "stream",
     "text": [
      "Train Epoch 19: 100%|████████████████████████████████████████████████████████████████| 375/375 [00:02<00:00, 162.87it/s]\n",
      "Validation Epoch 19: 100%|█████████████████████████████████████████████████████████████| 54/54 [00:00<00:00, 266.22it/s]\n"
     ]
    },
    {
     "name": "stdout",
     "output_type": "stream",
     "text": [
      "Model 2: Epoch 19/50, Train Loss: 0.2974, Validation Loss: 0.2726\n"
     ]
    },
    {
     "name": "stderr",
     "output_type": "stream",
     "text": [
      "Train Epoch 20: 100%|████████████████████████████████████████████████████████████████| 375/375 [00:02<00:00, 162.78it/s]\n",
      "Validation Epoch 20: 100%|█████████████████████████████████████████████████████████████| 54/54 [00:00<00:00, 273.56it/s]\n"
     ]
    },
    {
     "name": "stdout",
     "output_type": "stream",
     "text": [
      "Model 2: Epoch 20/50, Train Loss: 0.2979, Validation Loss: 0.2920\n"
     ]
    },
    {
     "name": "stderr",
     "output_type": "stream",
     "text": [
      "Train Epoch 21: 100%|████████████████████████████████████████████████████████████████| 375/375 [00:02<00:00, 162.97it/s]\n",
      "Validation Epoch 21: 100%|█████████████████████████████████████████████████████████████| 54/54 [00:00<00:00, 269.95it/s]\n"
     ]
    },
    {
     "name": "stdout",
     "output_type": "stream",
     "text": [
      "Model 2: Epoch 21/50, Train Loss: 0.2961, Validation Loss: 0.3020\n"
     ]
    },
    {
     "name": "stderr",
     "output_type": "stream",
     "text": [
      "Train Epoch 22: 100%|████████████████████████████████████████████████████████████████| 375/375 [00:02<00:00, 163.54it/s]\n",
      "Validation Epoch 22: 100%|█████████████████████████████████████████████████████████████| 54/54 [00:00<00:00, 263.15it/s]\n"
     ]
    },
    {
     "name": "stdout",
     "output_type": "stream",
     "text": [
      "Model 2: Epoch 22/50, Train Loss: 0.2961, Validation Loss: 0.2803\n"
     ]
    },
    {
     "name": "stderr",
     "output_type": "stream",
     "text": [
      "Train Epoch 23: 100%|████████████████████████████████████████████████████████████████| 375/375 [00:02<00:00, 162.44it/s]\n",
      "Validation Epoch 23: 100%|█████████████████████████████████████████████████████████████| 54/54 [00:00<00:00, 264.30it/s]\n"
     ]
    },
    {
     "name": "stdout",
     "output_type": "stream",
     "text": [
      "Model 2: Epoch 23/50, Train Loss: 0.2958, Validation Loss: 0.2777\n"
     ]
    },
    {
     "name": "stderr",
     "output_type": "stream",
     "text": [
      "Train Epoch 24: 100%|████████████████████████████████████████████████████████████████| 375/375 [00:02<00:00, 163.49it/s]\n",
      "Validation Epoch 24: 100%|█████████████████████████████████████████████████████████████| 54/54 [00:00<00:00, 283.30it/s]\n"
     ]
    },
    {
     "name": "stdout",
     "output_type": "stream",
     "text": [
      "Model 2: Epoch 24/50, Train Loss: 0.2943, Validation Loss: 0.2737\n"
     ]
    },
    {
     "name": "stderr",
     "output_type": "stream",
     "text": [
      "Train Epoch 25: 100%|████████████████████████████████████████████████████████████████| 375/375 [00:02<00:00, 163.94it/s]\n",
      "Validation Epoch 25: 100%|█████████████████████████████████████████████████████████████| 54/54 [00:00<00:00, 278.80it/s]\n"
     ]
    },
    {
     "name": "stdout",
     "output_type": "stream",
     "text": [
      "Model 2: Epoch 25/50, Train Loss: 0.2943, Validation Loss: 0.2727\n"
     ]
    },
    {
     "name": "stderr",
     "output_type": "stream",
     "text": [
      "Train Epoch 26: 100%|████████████████████████████████████████████████████████████████| 375/375 [00:02<00:00, 163.11it/s]\n",
      "Validation Epoch 26: 100%|█████████████████████████████████████████████████████████████| 54/54 [00:00<00:00, 281.47it/s]\n"
     ]
    },
    {
     "name": "stdout",
     "output_type": "stream",
     "text": [
      "Model 2: Epoch 26/50, Train Loss: 0.2929, Validation Loss: 0.2718\n"
     ]
    },
    {
     "name": "stderr",
     "output_type": "stream",
     "text": [
      "Train Epoch 27: 100%|████████████████████████████████████████████████████████████████| 375/375 [00:02<00:00, 163.76it/s]\n",
      "Validation Epoch 27: 100%|█████████████████████████████████████████████████████████████| 54/54 [00:00<00:00, 280.16it/s]\n"
     ]
    },
    {
     "name": "stdout",
     "output_type": "stream",
     "text": [
      "Model 2: Epoch 27/50, Train Loss: 0.2920, Validation Loss: 0.2782\n"
     ]
    },
    {
     "name": "stderr",
     "output_type": "stream",
     "text": [
      "Train Epoch 28: 100%|████████████████████████████████████████████████████████████████| 375/375 [00:02<00:00, 164.20it/s]\n",
      "Validation Epoch 28: 100%|█████████████████████████████████████████████████████████████| 54/54 [00:00<00:00, 279.81it/s]\n"
     ]
    },
    {
     "name": "stdout",
     "output_type": "stream",
     "text": [
      "Model 2: Epoch 28/50, Train Loss: 0.2909, Validation Loss: 0.2733\n"
     ]
    },
    {
     "name": "stderr",
     "output_type": "stream",
     "text": [
      "Train Epoch 29: 100%|████████████████████████████████████████████████████████████████| 375/375 [00:02<00:00, 164.24it/s]\n",
      "Validation Epoch 29: 100%|█████████████████████████████████████████████████████████████| 54/54 [00:00<00:00, 278.57it/s]\n"
     ]
    },
    {
     "name": "stdout",
     "output_type": "stream",
     "text": [
      "Model 2: Epoch 29/50, Train Loss: 0.2921, Validation Loss: 0.2777\n"
     ]
    },
    {
     "name": "stderr",
     "output_type": "stream",
     "text": [
      "Train Epoch 30: 100%|████████████████████████████████████████████████████████████████| 375/375 [00:02<00:00, 163.67it/s]\n",
      "Validation Epoch 30: 100%|█████████████████████████████████████████████████████████████| 54/54 [00:00<00:00, 277.16it/s]\n"
     ]
    },
    {
     "name": "stdout",
     "output_type": "stream",
     "text": [
      "Model 2: Epoch 30/50, Train Loss: 0.2905, Validation Loss: 0.2816\n"
     ]
    },
    {
     "name": "stderr",
     "output_type": "stream",
     "text": [
      "Train Epoch 31: 100%|████████████████████████████████████████████████████████████████| 375/375 [00:02<00:00, 161.12it/s]\n",
      "Validation Epoch 31: 100%|█████████████████████████████████████████████████████████████| 54/54 [00:00<00:00, 281.02it/s]\n"
     ]
    },
    {
     "name": "stdout",
     "output_type": "stream",
     "text": [
      "Model 2: Epoch 31/50, Train Loss: 0.2919, Validation Loss: 0.2750\n"
     ]
    },
    {
     "name": "stderr",
     "output_type": "stream",
     "text": [
      "Train Epoch 32: 100%|████████████████████████████████████████████████████████████████| 375/375 [00:02<00:00, 164.17it/s]\n",
      "Validation Epoch 32: 100%|█████████████████████████████████████████████████████████████| 54/54 [00:00<00:00, 278.27it/s]\n"
     ]
    },
    {
     "name": "stdout",
     "output_type": "stream",
     "text": [
      "Model 2: Epoch 32/50, Train Loss: 0.2914, Validation Loss: 0.2697\n"
     ]
    },
    {
     "name": "stderr",
     "output_type": "stream",
     "text": [
      "Train Epoch 33: 100%|████████████████████████████████████████████████████████████████| 375/375 [00:02<00:00, 162.19it/s]\n",
      "Validation Epoch 33: 100%|█████████████████████████████████████████████████████████████| 54/54 [00:00<00:00, 280.26it/s]\n"
     ]
    },
    {
     "name": "stdout",
     "output_type": "stream",
     "text": [
      "Model 2: Epoch 33/50, Train Loss: 0.2905, Validation Loss: 0.2798\n"
     ]
    },
    {
     "name": "stderr",
     "output_type": "stream",
     "text": [
      "Train Epoch 34: 100%|████████████████████████████████████████████████████████████████| 375/375 [00:02<00:00, 161.42it/s]\n",
      "Validation Epoch 34: 100%|█████████████████████████████████████████████████████████████| 54/54 [00:00<00:00, 281.80it/s]\n"
     ]
    },
    {
     "name": "stdout",
     "output_type": "stream",
     "text": [
      "Model 2: Epoch 34/50, Train Loss: 0.2886, Validation Loss: 0.2861\n"
     ]
    },
    {
     "name": "stderr",
     "output_type": "stream",
     "text": [
      "Train Epoch 35: 100%|████████████████████████████████████████████████████████████████| 375/375 [00:02<00:00, 164.88it/s]\n",
      "Validation Epoch 35: 100%|█████████████████████████████████████████████████████████████| 54/54 [00:00<00:00, 284.74it/s]\n"
     ]
    },
    {
     "name": "stdout",
     "output_type": "stream",
     "text": [
      "Model 2: Epoch 35/50, Train Loss: 0.2877, Validation Loss: 0.2698\n"
     ]
    },
    {
     "name": "stderr",
     "output_type": "stream",
     "text": [
      "Train Epoch 36: 100%|████████████████████████████████████████████████████████████████| 375/375 [00:02<00:00, 163.93it/s]\n",
      "Validation Epoch 36: 100%|█████████████████████████████████████████████████████████████| 54/54 [00:00<00:00, 283.21it/s]\n"
     ]
    },
    {
     "name": "stdout",
     "output_type": "stream",
     "text": [
      "Model 2: Epoch 36/50, Train Loss: 0.2888, Validation Loss: 0.2703\n"
     ]
    },
    {
     "name": "stderr",
     "output_type": "stream",
     "text": [
      "Train Epoch 37: 100%|████████████████████████████████████████████████████████████████| 375/375 [00:02<00:00, 163.28it/s]\n",
      "Validation Epoch 37: 100%|█████████████████████████████████████████████████████████████| 54/54 [00:00<00:00, 280.75it/s]\n"
     ]
    },
    {
     "name": "stdout",
     "output_type": "stream",
     "text": [
      "Model 2: Epoch 37/50, Train Loss: 0.2879, Validation Loss: 0.2699\n"
     ]
    },
    {
     "name": "stderr",
     "output_type": "stream",
     "text": [
      "Train Epoch 38: 100%|████████████████████████████████████████████████████████████████| 375/375 [00:02<00:00, 163.93it/s]\n",
      "Validation Epoch 38: 100%|█████████████████████████████████████████████████████████████| 54/54 [00:00<00:00, 280.26it/s]\n"
     ]
    },
    {
     "name": "stdout",
     "output_type": "stream",
     "text": [
      "Model 2: Epoch 38/50, Train Loss: 0.2877, Validation Loss: 0.2725\n"
     ]
    },
    {
     "name": "stderr",
     "output_type": "stream",
     "text": [
      "Train Epoch 39: 100%|████████████████████████████████████████████████████████████████| 375/375 [00:02<00:00, 163.72it/s]\n",
      "Validation Epoch 39: 100%|█████████████████████████████████████████████████████████████| 54/54 [00:00<00:00, 285.14it/s]\n"
     ]
    },
    {
     "name": "stdout",
     "output_type": "stream",
     "text": [
      "Model 2: Epoch 39/50, Train Loss: 0.2863, Validation Loss: 0.2751\n"
     ]
    },
    {
     "name": "stderr",
     "output_type": "stream",
     "text": [
      "Train Epoch 40: 100%|████████████████████████████████████████████████████████████████| 375/375 [00:02<00:00, 163.90it/s]\n",
      "Validation Epoch 40: 100%|█████████████████████████████████████████████████████████████| 54/54 [00:00<00:00, 279.51it/s]\n"
     ]
    },
    {
     "name": "stdout",
     "output_type": "stream",
     "text": [
      "Model 2: Epoch 40/50, Train Loss: 0.2872, Validation Loss: 0.2759\n"
     ]
    },
    {
     "name": "stderr",
     "output_type": "stream",
     "text": [
      "Train Epoch 41: 100%|████████████████████████████████████████████████████████████████| 375/375 [00:02<00:00, 163.47it/s]\n",
      "Validation Epoch 41: 100%|█████████████████████████████████████████████████████████████| 54/54 [00:00<00:00, 280.40it/s]\n"
     ]
    },
    {
     "name": "stdout",
     "output_type": "stream",
     "text": [
      "Model 2: Epoch 41/50, Train Loss: 0.2856, Validation Loss: 0.3000\n"
     ]
    },
    {
     "name": "stderr",
     "output_type": "stream",
     "text": [
      "Train Epoch 42: 100%|████████████████████████████████████████████████████████████████| 375/375 [00:02<00:00, 164.15it/s]\n",
      "Validation Epoch 42: 100%|█████████████████████████████████████████████████████████████| 54/54 [00:00<00:00, 280.48it/s]\n"
     ]
    },
    {
     "name": "stdout",
     "output_type": "stream",
     "text": [
      "Model 2: Early stopping!\n",
      "\n",
      "\n",
      "TRAINING MODEL 3\n",
      "\n",
      "\n"
     ]
    },
    {
     "name": "stderr",
     "output_type": "stream",
     "text": [
      "Train Epoch 1: 100%|█████████████████████████████████████████████████████████████████| 375/375 [00:02<00:00, 163.01it/s]\n",
      "Validation Epoch 1: 100%|██████████████████████████████████████████████████████████████| 54/54 [00:00<00:00, 278.93it/s]\n"
     ]
    },
    {
     "name": "stdout",
     "output_type": "stream",
     "text": [
      "Model 3: Epoch 1/50, Train Loss: 0.4207, Validation Loss: 0.3446\n"
     ]
    },
    {
     "name": "stderr",
     "output_type": "stream",
     "text": [
      "Train Epoch 2: 100%|█████████████████████████████████████████████████████████████████| 375/375 [00:02<00:00, 164.16it/s]\n",
      "Validation Epoch 2: 100%|██████████████████████████████████████████████████████████████| 54/54 [00:00<00:00, 282.47it/s]\n"
     ]
    },
    {
     "name": "stdout",
     "output_type": "stream",
     "text": [
      "Model 3: Epoch 2/50, Train Loss: 0.3573, Validation Loss: 0.3198\n"
     ]
    },
    {
     "name": "stderr",
     "output_type": "stream",
     "text": [
      "Train Epoch 3: 100%|█████████████████████████████████████████████████████████████████| 375/375 [00:02<00:00, 164.37it/s]\n",
      "Validation Epoch 3: 100%|██████████████████████████████████████████████████████████████| 54/54 [00:00<00:00, 280.95it/s]\n"
     ]
    },
    {
     "name": "stdout",
     "output_type": "stream",
     "text": [
      "Model 3: Epoch 3/50, Train Loss: 0.3424, Validation Loss: 0.3045\n"
     ]
    },
    {
     "name": "stderr",
     "output_type": "stream",
     "text": [
      "Train Epoch 4: 100%|█████████████████████████████████████████████████████████████████| 375/375 [00:02<00:00, 164.72it/s]\n",
      "Validation Epoch 4: 100%|██████████████████████████████████████████████████████████████| 54/54 [00:00<00:00, 275.07it/s]\n"
     ]
    },
    {
     "name": "stdout",
     "output_type": "stream",
     "text": [
      "Model 3: Epoch 4/50, Train Loss: 0.3323, Validation Loss: 0.3043\n"
     ]
    },
    {
     "name": "stderr",
     "output_type": "stream",
     "text": [
      "Train Epoch 5: 100%|█████████████████████████████████████████████████████████████████| 375/375 [00:02<00:00, 163.71it/s]\n",
      "Validation Epoch 5: 100%|██████████████████████████████████████████████████████████████| 54/54 [00:00<00:00, 283.38it/s]\n"
     ]
    },
    {
     "name": "stdout",
     "output_type": "stream",
     "text": [
      "Model 3: Epoch 5/50, Train Loss: 0.3268, Validation Loss: 0.2960\n"
     ]
    },
    {
     "name": "stderr",
     "output_type": "stream",
     "text": [
      "Train Epoch 6: 100%|█████████████████████████████████████████████████████████████████| 375/375 [00:02<00:00, 162.62it/s]\n",
      "Validation Epoch 6: 100%|██████████████████████████████████████████████████████████████| 54/54 [00:00<00:00, 285.18it/s]\n"
     ]
    },
    {
     "name": "stdout",
     "output_type": "stream",
     "text": [
      "Model 3: Epoch 6/50, Train Loss: 0.3211, Validation Loss: 0.2923\n"
     ]
    },
    {
     "name": "stderr",
     "output_type": "stream",
     "text": [
      "Train Epoch 7: 100%|█████████████████████████████████████████████████████████████████| 375/375 [00:02<00:00, 163.36it/s]\n",
      "Validation Epoch 7: 100%|██████████████████████████████████████████████████████████████| 54/54 [00:00<00:00, 282.46it/s]\n"
     ]
    },
    {
     "name": "stdout",
     "output_type": "stream",
     "text": [
      "Model 3: Epoch 7/50, Train Loss: 0.3176, Validation Loss: 0.2909\n"
     ]
    },
    {
     "name": "stderr",
     "output_type": "stream",
     "text": [
      "Train Epoch 8: 100%|█████████████████████████████████████████████████████████████████| 375/375 [00:02<00:00, 160.63it/s]\n",
      "Validation Epoch 8: 100%|██████████████████████████████████████████████████████████████| 54/54 [00:00<00:00, 281.95it/s]\n"
     ]
    },
    {
     "name": "stdout",
     "output_type": "stream",
     "text": [
      "Model 3: Epoch 8/50, Train Loss: 0.3151, Validation Loss: 0.2895\n"
     ]
    },
    {
     "name": "stderr",
     "output_type": "stream",
     "text": [
      "Train Epoch 9: 100%|█████████████████████████████████████████████████████████████████| 375/375 [00:02<00:00, 162.05it/s]\n",
      "Validation Epoch 9: 100%|██████████████████████████████████████████████████████████████| 54/54 [00:00<00:00, 279.99it/s]\n"
     ]
    },
    {
     "name": "stdout",
     "output_type": "stream",
     "text": [
      "Model 3: Epoch 9/50, Train Loss: 0.3138, Validation Loss: 0.2809\n"
     ]
    },
    {
     "name": "stderr",
     "output_type": "stream",
     "text": [
      "Train Epoch 10: 100%|████████████████████████████████████████████████████████████████| 375/375 [00:02<00:00, 162.72it/s]\n",
      "Validation Epoch 10: 100%|█████████████████████████████████████████████████████████████| 54/54 [00:00<00:00, 281.63it/s]\n"
     ]
    },
    {
     "name": "stdout",
     "output_type": "stream",
     "text": [
      "Model 3: Epoch 10/50, Train Loss: 0.3097, Validation Loss: 0.2895\n"
     ]
    },
    {
     "name": "stderr",
     "output_type": "stream",
     "text": [
      "Train Epoch 11: 100%|████████████████████████████████████████████████████████████████| 375/375 [00:02<00:00, 163.78it/s]\n",
      "Validation Epoch 11: 100%|█████████████████████████████████████████████████████████████| 54/54 [00:00<00:00, 280.70it/s]\n"
     ]
    },
    {
     "name": "stdout",
     "output_type": "stream",
     "text": [
      "Model 3: Epoch 11/50, Train Loss: 0.3088, Validation Loss: 0.3050\n"
     ]
    },
    {
     "name": "stderr",
     "output_type": "stream",
     "text": [
      "Train Epoch 12: 100%|████████████████████████████████████████████████████████████████| 375/375 [00:02<00:00, 163.71it/s]\n",
      "Validation Epoch 12: 100%|█████████████████████████████████████████████████████████████| 54/54 [00:00<00:00, 284.58it/s]\n"
     ]
    },
    {
     "name": "stdout",
     "output_type": "stream",
     "text": [
      "Model 3: Epoch 12/50, Train Loss: 0.3067, Validation Loss: 0.2864\n"
     ]
    },
    {
     "name": "stderr",
     "output_type": "stream",
     "text": [
      "Train Epoch 13: 100%|████████████████████████████████████████████████████████████████| 375/375 [00:02<00:00, 163.47it/s]\n",
      "Validation Epoch 13: 100%|█████████████████████████████████████████████████████████████| 54/54 [00:00<00:00, 280.44it/s]\n"
     ]
    },
    {
     "name": "stdout",
     "output_type": "stream",
     "text": [
      "Model 3: Epoch 13/50, Train Loss: 0.3053, Validation Loss: 0.2837\n"
     ]
    },
    {
     "name": "stderr",
     "output_type": "stream",
     "text": [
      "Train Epoch 14: 100%|████████████████████████████████████████████████████████████████| 375/375 [00:02<00:00, 163.07it/s]\n",
      "Validation Epoch 14: 100%|█████████████████████████████████████████████████████████████| 54/54 [00:00<00:00, 278.42it/s]\n"
     ]
    },
    {
     "name": "stdout",
     "output_type": "stream",
     "text": [
      "Model 3: Epoch 14/50, Train Loss: 0.3052, Validation Loss: 0.2981\n"
     ]
    },
    {
     "name": "stderr",
     "output_type": "stream",
     "text": [
      "Train Epoch 15: 100%|████████████████████████████████████████████████████████████████| 375/375 [00:02<00:00, 163.98it/s]\n",
      "Validation Epoch 15: 100%|█████████████████████████████████████████████████████████████| 54/54 [00:00<00:00, 287.64it/s]\n"
     ]
    },
    {
     "name": "stdout",
     "output_type": "stream",
     "text": [
      "Model 3: Epoch 15/50, Train Loss: 0.3043, Validation Loss: 0.2803\n"
     ]
    },
    {
     "name": "stderr",
     "output_type": "stream",
     "text": [
      "Train Epoch 16: 100%|████████████████████████████████████████████████████████████████| 375/375 [00:02<00:00, 159.55it/s]\n",
      "Validation Epoch 16: 100%|█████████████████████████████████████████████████████████████| 54/54 [00:00<00:00, 280.87it/s]\n"
     ]
    },
    {
     "name": "stdout",
     "output_type": "stream",
     "text": [
      "Model 3: Epoch 16/50, Train Loss: 0.3019, Validation Loss: 0.2710\n"
     ]
    },
    {
     "name": "stderr",
     "output_type": "stream",
     "text": [
      "Train Epoch 17: 100%|████████████████████████████████████████████████████████████████| 375/375 [00:02<00:00, 162.69it/s]\n",
      "Validation Epoch 17: 100%|█████████████████████████████████████████████████████████████| 54/54 [00:00<00:00, 281.81it/s]\n"
     ]
    },
    {
     "name": "stdout",
     "output_type": "stream",
     "text": [
      "Model 3: Epoch 17/50, Train Loss: 0.3025, Validation Loss: 0.3047\n"
     ]
    },
    {
     "name": "stderr",
     "output_type": "stream",
     "text": [
      "Train Epoch 18: 100%|████████████████████████████████████████████████████████████████| 375/375 [00:02<00:00, 162.64it/s]\n",
      "Validation Epoch 18: 100%|█████████████████████████████████████████████████████████████| 54/54 [00:00<00:00, 266.90it/s]\n"
     ]
    },
    {
     "name": "stdout",
     "output_type": "stream",
     "text": [
      "Model 3: Epoch 18/50, Train Loss: 0.3001, Validation Loss: 0.2830\n"
     ]
    },
    {
     "name": "stderr",
     "output_type": "stream",
     "text": [
      "Train Epoch 19: 100%|████████████████████████████████████████████████████████████████| 375/375 [00:02<00:00, 162.67it/s]\n",
      "Validation Epoch 19: 100%|█████████████████████████████████████████████████████████████| 54/54 [00:00<00:00, 280.14it/s]\n"
     ]
    },
    {
     "name": "stdout",
     "output_type": "stream",
     "text": [
      "Model 3: Epoch 19/50, Train Loss: 0.3004, Validation Loss: 0.2947\n"
     ]
    },
    {
     "name": "stderr",
     "output_type": "stream",
     "text": [
      "Train Epoch 20: 100%|████████████████████████████████████████████████████████████████| 375/375 [00:02<00:00, 163.10it/s]\n",
      "Validation Epoch 20: 100%|█████████████████████████████████████████████████████████████| 54/54 [00:00<00:00, 264.77it/s]\n"
     ]
    },
    {
     "name": "stdout",
     "output_type": "stream",
     "text": [
      "Model 3: Epoch 20/50, Train Loss: 0.2988, Validation Loss: 0.2787\n"
     ]
    },
    {
     "name": "stderr",
     "output_type": "stream",
     "text": [
      "Train Epoch 21: 100%|████████████████████████████████████████████████████████████████| 375/375 [00:02<00:00, 163.68it/s]\n",
      "Validation Epoch 21: 100%|█████████████████████████████████████████████████████████████| 54/54 [00:00<00:00, 281.71it/s]\n"
     ]
    },
    {
     "name": "stdout",
     "output_type": "stream",
     "text": [
      "Model 3: Epoch 21/50, Train Loss: 0.2984, Validation Loss: 0.2717\n"
     ]
    },
    {
     "name": "stderr",
     "output_type": "stream",
     "text": [
      "Train Epoch 22: 100%|████████████████████████████████████████████████████████████████| 375/375 [00:02<00:00, 162.93it/s]\n",
      "Validation Epoch 22: 100%|█████████████████████████████████████████████████████████████| 54/54 [00:00<00:00, 275.79it/s]\n"
     ]
    },
    {
     "name": "stdout",
     "output_type": "stream",
     "text": [
      "Model 3: Epoch 22/50, Train Loss: 0.2965, Validation Loss: 0.2729\n"
     ]
    },
    {
     "name": "stderr",
     "output_type": "stream",
     "text": [
      "Train Epoch 23: 100%|████████████████████████████████████████████████████████████████| 375/375 [00:02<00:00, 163.45it/s]\n",
      "Validation Epoch 23: 100%|█████████████████████████████████████████████████████████████| 54/54 [00:00<00:00, 277.32it/s]\n"
     ]
    },
    {
     "name": "stdout",
     "output_type": "stream",
     "text": [
      "Model 3: Epoch 23/50, Train Loss: 0.2948, Validation Loss: 0.2839\n"
     ]
    },
    {
     "name": "stderr",
     "output_type": "stream",
     "text": [
      "Train Epoch 24: 100%|████████████████████████████████████████████████████████████████| 375/375 [00:02<00:00, 164.67it/s]\n",
      "Validation Epoch 24: 100%|█████████████████████████████████████████████████████████████| 54/54 [00:00<00:00, 281.91it/s]\n"
     ]
    },
    {
     "name": "stdout",
     "output_type": "stream",
     "text": [
      "Model 3: Epoch 24/50, Train Loss: 0.2963, Validation Loss: 0.2884\n"
     ]
    },
    {
     "name": "stderr",
     "output_type": "stream",
     "text": [
      "Train Epoch 25: 100%|████████████████████████████████████████████████████████████████| 375/375 [00:02<00:00, 164.03it/s]\n",
      "Validation Epoch 25: 100%|█████████████████████████████████████████████████████████████| 54/54 [00:00<00:00, 283.82it/s]\n"
     ]
    },
    {
     "name": "stdout",
     "output_type": "stream",
     "text": [
      "Model 3: Epoch 25/50, Train Loss: 0.2950, Validation Loss: 0.2730\n"
     ]
    },
    {
     "name": "stderr",
     "output_type": "stream",
     "text": [
      "Train Epoch 26: 100%|████████████████████████████████████████████████████████████████| 375/375 [00:02<00:00, 163.98it/s]\n",
      "Validation Epoch 26: 100%|█████████████████████████████████████████████████████████████| 54/54 [00:00<00:00, 284.23it/s]"
     ]
    },
    {
     "name": "stdout",
     "output_type": "stream",
     "text": [
      "Model 3: Early stopping!\n"
     ]
    },
    {
     "name": "stderr",
     "output_type": "stream",
     "text": [
      "\n"
     ]
    }
   ],
   "source": [
    "for train_iter in range(num_trainings):\n",
    "    print(f\"\\n\\nTRAINING MODEL {train_iter+1}\\n\\n\")\n",
    "        \n",
    "    # Define model save name\n",
    "    model_save_name = f'best_MLP_model_{train_iter+1}.pth'\n",
    "    \n",
    "    # Define a new model for each training iteration\n",
    "    mlp_model = MLPNet(mlp_input_dim, embedding_dim, output_dim, num_nodes, device).to(device)\n",
    "                                                                                      \n",
    "    # Wrap model with DataParallel to utilize all GPU resources\n",
    "    if torch.cuda.device_count() > 1:\n",
    "        mlp_model = nn.DataParallel(mlp_model)\n",
    "    \n",
    "    # Defien loss function and optimizer\n",
    "    criterion = nn.L1Loss()\n",
    "    optimizer = optim.Adam(mlp_model.parameters(), lr=learning_rate)\n",
    "    \n",
    "    best_val_loss = float('inf')\n",
    "    \n",
    "    # Training loop\n",
    "    for epoch in range(num_epochs):\n",
    "        mlp_model.train()\n",
    "        train_loss = 0.0\n",
    "        \n",
    "        for x_batch, y_batch in tqdm(train_loader, desc=f\"Train Epoch {epoch + 1}\"):\n",
    "            x_b, y_b = x_batch.to(device), y_batch.to(device)\n",
    "            optimizer.zero_grad()\n",
    "\n",
    "            # Pad batch with zeros on last batch\n",
    "            A, B, C = x_b.shape\n",
    "            if A != batch_size:\n",
    "                x_b = stb.pad_tensor(x_b, batch_size)\n",
    "                y_b = stb.pad_tensor(y_b, batch_size)\n",
    "                A, B, C = x_b.shape\n",
    "                        \n",
    "            x_b = x_b.reshape(A, B*C)\n",
    "            \n",
    "            output = mlp_model(x_b)\n",
    "            loss = criterion(output, y_b)\n",
    "            loss.backward()\n",
    "            optimizer.step()\n",
    "            train_loss += loss.item() * x_b.size(0)\n",
    "        \n",
    "        train_loss /= len(train_loader.dataset)\n",
    "    \n",
    "        # Validation loop\n",
    "        mlp_model.eval()\n",
    "        val_loss = 0.0\n",
    "        with torch.no_grad():\n",
    "            for x_val_batch, y_val_batch in tqdm(val_loader, desc=f\"Validation Epoch {epoch + 1}\"):\n",
    "                x_b, y_b = x_val_batch.to(device), y_val_batch.to(device)\n",
    "\n",
    "                # Pad batch with zeros on last batch\n",
    "                A, B, C = x_b.shape\n",
    "                if A != batch_size:\n",
    "                    x_b = stb.pad_tensor(x_b, batch_size)\n",
    "                    y_b = stb.pad_tensor(y_b, batch_size)\n",
    "                    A, B, C = x_b.shape\n",
    "                    \n",
    "                x_b = x_b.reshape(A, B*C)\n",
    "                \n",
    "                output = mlp_model(x_b)\n",
    "                loss = criterion(output, y_b)\n",
    "                val_loss += loss.item() * x_b.size(0)\n",
    "        \n",
    "        val_loss /= len(val_loader.dataset)\n",
    "    \n",
    "        # Save the best model\n",
    "        if val_loss < best_val_loss:\n",
    "            best_val_loss = val_loss\n",
    "            trigger_times = 0\n",
    "            torch.save(mlp_model.state_dict(), model_save_name)\n",
    "        else:\n",
    "            trigger_times += 1\n",
    "            if trigger_times >= patience:\n",
    "                print(f'Model {train_iter+1}: Early stopping!')\n",
    "                break\n",
    "    \n",
    "        print(f'Model {train_iter+1}: Epoch {epoch + 1}/{num_epochs}, Train Loss: {train_loss:.4f}, Validation Loss: {val_loss:.4f}')"
   ]
  },
  {
   "cell_type": "markdown",
   "id": "0fd3e842-de27-4fae-9580-d128a34d661a",
   "metadata": {},
   "source": [
    "### Evaluate the trained models\n",
    "We will generate the predicted outputs and store them in a dictionary, allowing us to plot them later"
   ]
  },
  {
   "cell_type": "code",
   "execution_count": 7,
   "id": "cd70fa0c-63b0-4c1d-a5df-d387b08b8b6c",
   "metadata": {},
   "outputs": [
    {
     "name": "stderr",
     "output_type": "stream",
     "text": [
      "Evaluating on Test Data: 100%|███████████████████████████████████████████████████████| 108/108 [00:00<00:00, 748.37it/s]\n"
     ]
    },
    {
     "name": "stdout",
     "output_type": "stream",
     "text": [
      "Model 1: Test Loss: 0.3267\n"
     ]
    },
    {
     "name": "stderr",
     "output_type": "stream",
     "text": [
      "Evaluating on Test Data: 100%|███████████████████████████████████████████████████████| 108/108 [00:00<00:00, 693.30it/s]\n"
     ]
    },
    {
     "name": "stdout",
     "output_type": "stream",
     "text": [
      "Model 2: Test Loss: 0.3369\n"
     ]
    },
    {
     "name": "stderr",
     "output_type": "stream",
     "text": [
      "Evaluating on Test Data: 100%|███████████████████████████████████████████████████████| 108/108 [00:00<00:00, 931.06it/s]"
     ]
    },
    {
     "name": "stdout",
     "output_type": "stream",
     "text": [
      "Model 3: Test Loss: 0.3323\n"
     ]
    },
    {
     "name": "stderr",
     "output_type": "stream",
     "text": [
      "\n"
     ]
    }
   ],
   "source": [
    "model_preds_dict = {}\n",
    "model_actuals_dict = {}\n",
    "for test_iter in range(num_trainings):\n",
    "\n",
    "    # Load model for testing\n",
    "    model_save_name = f'best_MLP_model_{test_iter+1}.pth'\n",
    "    \n",
    "    # Load the trained model's state dictionary\n",
    "    state_dict = torch.load(model_save_name)\n",
    "    \n",
    "    # Remove 'module.' prefix if present\n",
    "    state_dict = stb.remove_module_prefix(state_dict)\n",
    "\n",
    "    # Load model parameters\n",
    "    mlp_model = MLPNet(mlp_input_dim, embedding_dim, output_dim, num_nodes, device).to(device)\n",
    "    mlp_model.load_state_dict(state_dict)\n",
    "    \n",
    "    # Define loss function and optimizer\n",
    "    criterion = nn.L1Loss()\n",
    "    optimizer = optim.Adam(mlp_model.parameters(), lr=learning_rate)\n",
    "    \n",
    "    # Testing loop\n",
    "    mlp_model.eval()\n",
    "    test_loss = 0.0\n",
    "\n",
    "    all_test_preds = []\n",
    "    all_test_actuals = []\n",
    "    with torch.no_grad():\n",
    "        for x_batch, y_batch in tqdm(test_loader, desc=f\"Evaluating on Test Data\"):\n",
    "            x_b, y_b = x_batch.to(device), y_batch.to(device)\n",
    "\n",
    "            # Pad batch_size on last batch so that it is the same as the other batch sizes\n",
    "            A, B, C = x_b.shape\n",
    "            if A != batch_size:\n",
    "                x_b = stb.pad_tensor(x_b, batch_size)\n",
    "                y_b = stb.pad_tensor(y_b, batch_size)\n",
    "                A, B, C = x_b.shape\n",
    "        \n",
    "            x_b = x_b.reshape(A, B*C)\n",
    "            \n",
    "            output = mlp_model(x_b)\n",
    "            loss = criterion(output, y_b)\n",
    "            test_loss += loss.item() * x_b.size(0)\n",
    "            all_test_preds.append(output.cpu())\n",
    "            all_test_actuals.append(y_b.cpu())\n",
    "    \n",
    "    all_test_preds = torch.cat(all_test_preds, dim=0)\n",
    "    all_test_actuals = torch.cat(all_test_actuals, dim=0)\n",
    "    \n",
    "    test_loss /= len(test_loader.dataset)\n",
    "    print(f'Model {test_iter+1}: Test Loss: {test_loss:.4f}')\n",
    "\n",
    "    # Save predictions and actuals in a dictionary for easy access later\n",
    "    model_preds_dict[test_iter+1] = all_test_preds\n",
    "    model_actuals_dict[test_iter+1] = all_test_actuals"
   ]
  },
  {
   "cell_type": "markdown",
   "id": "8ef4d2c5-9886-493a-a728-310dfc1a9bac",
   "metadata": {},
   "source": [
    "### Generate sample plots of the predicted outputs"
   ]
  },
  {
   "cell_type": "code",
   "execution_count": 8,
   "id": "1fab3b42-1d77-4528-b876-c29e9a866d95",
   "metadata": {},
   "outputs": [
    {
     "data": {
      "image/png": "[encoded data removed]",
      "text/plain": [
       "<Figure size 1000x600 with 1 Axes>"
      ]
     },
     "metadata": {},
     "output_type": "display_data"
    }
   ],
   "source": [
    "model_num = 3 # Specify the model you want to plot. This is 1-indexed\n",
    "sample_index = 434  # Specify the sample index you want to plot\n",
    "node_index = 0 # Specify the node index you want to plot\n",
    "model_test_preds = model_preds_dict[model_num]\n",
    "model_test_actuals = model_actuals_dict[model_num]\n",
    "\n",
    "# Call helper function to plot the predicted vs actual output\n",
    "stb.plot_time_series(sample_index, node_index, x_test, model_test_actuals, model_test_preds, num_timesteps, num_nodes, output_dim, mean_ind_dict, std_ind_dict, zscore=False)"
   ]
  },
  {
   "cell_type": "markdown",
   "id": "458bf48f-dc4f-43b7-a7b8-d8d774545903",
   "metadata": {},
   "source": [
    "### Calculate metrics for model evaluation"
   ]
  },
  {
   "cell_type": "code",
   "execution_count": 11,
   "id": "af1b45f1-1f86-4171-a741-d960ad5633eb",
   "metadata": {},
   "outputs": [
    {
     "name": "stdout",
     "output_type": "stream",
     "text": [
      "Average metrics over 3 training samples:\n",
      "Time Prediction 15 mins: Avg MAE: 0.2896, Avg RMSE: 0.6180, Avg MAPE: 1.6571, Std MAE: 0.0045, Std RMSE: 0.0024, Std MAPE: 0.0162\n",
      "Time Prediction 30 mins: Avg MAE: 0.3259, Avg RMSE: 0.7061, Avg MAPE: 1.8606, Std MAE: 0.0044, Std RMSE: 0.0011, Std MAPE: 0.0099\n",
      "Time Prediction 60 mins: Avg MAE: 0.3863, Avg RMSE: 0.8142, Avg MAPE: 1.9723, Std MAE: 0.0038, Std RMSE: 0.0005, Std MAPE: 0.0014\n"
     ]
    }
   ],
   "source": [
    "# Initialize empty dictionaries to hold the sum of metrics and squared sum for std calculation\n",
    "# Index 2 is 15 mins, index 5 is 30 mins, index 11 is 60 mins (each index is a 5 min interval)\n",
    "avg_metrics = {}\n",
    "std_metrics = {}\n",
    "indices = [2, 5, 11]\n",
    "\n",
    "# Initialize the dictionaries to accumulate metrics and squared metrics for each index\n",
    "for idx in indices:\n",
    "    avg_metrics[idx] = {'MAE': 0, 'RMSE': 0, 'MAPE': 0}\n",
    "    std_metrics[idx] = {'MAE': 0, 'RMSE': 0, 'MAPE': 0}\n",
    "\n",
    "# Loop over each training/trial\n",
    "for model_num in range(num_trainings):\n",
    "    model_test_preds = model_preds_dict[model_num + 1]\n",
    "    model_test_actuals = model_actuals_dict[model_num + 1]\n",
    "    \n",
    "    # Get metrics for this trial\n",
    "    metrics = stb.calculate_metrics_per_index(model_test_preds, model_test_actuals, indices)\n",
    "    \n",
    "    # Accumulate the metrics and squared metrics for averaging and std calculation\n",
    "    for idx in metrics:\n",
    "        for metric in metrics[idx]:\n",
    "            avg_metrics[idx][metric] += metrics[idx][metric]\n",
    "            std_metrics[idx][metric] += metrics[idx][metric] ** 2\n",
    "\n",
    "# Calculate the average and std across all trials\n",
    "for idx in avg_metrics:\n",
    "    for metric in avg_metrics[idx]:\n",
    "        avg_metrics[idx][metric] /= num_trainings\n",
    "        std_metrics[idx][metric] = np.sqrt(std_metrics[idx][metric] / num_trainings - avg_metrics[idx][metric] ** 2)\n",
    "\n",
    "# Print the averaged and std metrics for each index\n",
    "print(f\"Average metrics over {num_trainings} training samples:\")\n",
    "for idx in avg_metrics:\n",
    "    print(f\"Time Prediction {(idx + 1) * 5} mins: \"\n",
    "          f\"Avg MAE: {avg_metrics[idx]['MAE']:.4f}, \"\n",
    "          f\"Avg RMSE: {avg_metrics[idx]['RMSE']:.4f}, \"\n",
    "          f\"Avg MAPE: {avg_metrics[idx]['MAPE']:.4f}, \"\n",
    "          f\"Std MAE: {std_metrics[idx]['MAE']:.4f}, \"\n",
    "          f\"Std RMSE: {std_metrics[idx]['RMSE']:.4f}, \"\n",
    "          f\"Std MAPE: {std_metrics[idx]['MAPE']:.4f}\")\n"
   ]
  },
  {
   "cell_type": "markdown",
   "id": "be2a1353-cae0-4bba-a0cc-5eca97bf8b00",
   "metadata": {},
   "source": [
    "### Train a KDE baseline\n",
    "We will train a KDE model multiple times and randomly sample from the probability distribution for the ouptut. We will evaluate the metrics on this model, which should give us a baseline for a random model's behavior."
   ]
  },
  {
   "cell_type": "code",
   "execution_count": 12,
   "id": "ea51d0cd-4911-458a-9ddb-466b6f4e54a9",
   "metadata": {},
   "outputs": [
    {
     "name": "stdout",
     "output_type": "stream",
     "text": [
      "Average over 3 trials:\n",
      "Time Prediction 15 mins: Avg MAE: 0.9753, Avg RMSE: 1.4993, Avg MAPE: 4.1284, Std MAE: 0.0007, Std RMSE: 0.0009, Std MAPE: 0.2011\n",
      "Time Prediction 30 mins: Avg MAE: 0.9753, Avg RMSE: 1.4993, Avg MAPE: 4.1284, Std MAE: 0.0007, Std RMSE: 0.0009, Std MAPE: 0.2011\n",
      "Time Prediction 60 mins: Avg MAE: 0.9753, Avg RMSE: 1.4993, Avg MAPE: 4.1284, Std MAE: 0.0007, Std RMSE: 0.0009, Std MAPE: 0.2011\n"
     ]
    }
   ],
   "source": [
    "# Define the number of trials and relevant indices\n",
    "# Index 2 is 15 mins, index 5 is 30 mins, index 11 is 60 mins (each index is a 5 min interval)\n",
    "num_trials = 3\n",
    "indices = [2, 5, 11]\n",
    "\n",
    "# Initialize lists to store all metrics across trials\n",
    "all_mae, all_rmse, all_mape = [], [], []\n",
    "squared_mae, squared_rmse, squared_mape = [], [], []\n",
    "\n",
    "# Run the experiment multiple times and store the results\n",
    "for trial in range(num_trials):\n",
    "    # Train KDE on flattened x_train\n",
    "    kde = gaussian_kde(x_train.flatten())\n",
    "\n",
    "    # Generate new samples from the KDE\n",
    "    num_samples = y_test.numel()  # Total number of elements in y_test\n",
    "    generated_samples = kde.resample(num_samples).flatten()\n",
    "\n",
    "    # Convert generated samples into a torch tensor with the shape of y_test\n",
    "    random_preds = torch.tensor(generated_samples, dtype=torch.float32).reshape(y_test.shape)\n",
    "\n",
    "    # Calculate metrics for the current trial\n",
    "    metrics = stb.calculate_metrics_per_index(random_preds, y_test, indices)\n",
    "\n",
    "    # Store the metrics for this trial\n",
    "    for idx in metrics:\n",
    "        all_mae.append(metrics[idx]['MAE'])\n",
    "        all_rmse.append(metrics[idx]['RMSE'])\n",
    "        all_mape.append(metrics[idx]['MAPE'])\n",
    "        \n",
    "        # Store squared values for std calculation\n",
    "        squared_mae.append(metrics[idx]['MAE'] ** 2)\n",
    "        squared_rmse.append(metrics[idx]['RMSE'] ** 2)\n",
    "        squared_mape.append(metrics[idx]['MAPE'] ** 2)\n",
    "\n",
    "# Calculate the averages and standard deviations of each metric\n",
    "avg_mae = np.mean(all_mae)\n",
    "avg_rmse = np.mean(all_rmse)\n",
    "avg_mape = np.mean(all_mape)\n",
    "\n",
    "std_mae = np.sqrt(np.mean(squared_mae) - avg_mae ** 2)\n",
    "std_rmse = np.sqrt(np.mean(squared_rmse) - avg_rmse ** 2)\n",
    "std_mape = np.sqrt(np.mean(squared_mape) - avg_mape ** 2)\n",
    "\n",
    "# Print the average and std results\n",
    "print(f\"Average over {num_trials} trials:\")\n",
    "for idx in indices:\n",
    "    print(f\"Time Prediction {(idx + 1) * 5} mins: \"\n",
    "          f\"Avg MAE: {avg_mae:.4f}, \"\n",
    "          f\"Avg RMSE: {avg_rmse:.4f}, \"\n",
    "          f\"Avg MAPE: {avg_mape:.4f}, \"\n",
    "          f\"Std MAE: {std_mae:.4f}, \"\n",
    "          f\"Std RMSE: {std_rmse:.4f}, \"\n",
    "          f\"Std MAPE: {std_mape:.4f}\")"
   ]
  },
  {
   "cell_type": "code",
   "execution_count": null,
   "id": "d69d073d-a9cf-413e-8b3e-409680b55868",
   "metadata": {},
   "outputs": [],
   "source": []
  }
 ],
 "metadata": {
  "kernelspec": {
   "display_name": "Python 3 (ipykernel)",
   "language": "python",
   "name": "python3"
  },
  "language_info": {
   "codemirror_mode": {
    "name": "ipython",
    "version": 3
   },
   "file_extension": ".py",
   "mimetype": "text/x-python",
   "name": "python",
   "nbconvert_exporter": "python",
   "pygments_lexer": "ipython3",
   "version": "3.9.18"
  }
 },
 "nbformat": 4,
 "nbformat_minor": 5
}
