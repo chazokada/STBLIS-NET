{
 "cells": [
  {
   "cell_type": "markdown",
   "id": "3d26eeb8-32d7-45ad-a30f-b19daf5c2ad0",
   "metadata": {},
   "source": [
    "# Baseline Models - METR-LA Dataset\n",
    "Run the cells in this notebook to train and evaluate the baseline MLP and KDE models.\n",
    "First, import the necessary libraries."
   ]
  },
  {
   "cell_type": "code",
   "execution_count": 1,
   "id": "23af0df9-203c-4daf-8dd9-325b7544c551",
   "metadata": {},
   "outputs": [],
   "source": [
    "import pickle\n",
    "import numpy as np\n",
    "import pandas as pd\n",
    "import matplotlib.pyplot as plt\n",
    "import stblis_utils as stb\n",
    "from stblis_classes import MLPNet\n",
    "from scipy.stats import gaussian_kde\n",
    "from tqdm import tqdm\n",
    "import torch\n",
    "import torch.nn as nn\n",
    "import torch.optim as optim\n",
    "import torch.nn.functional as F\n",
    "from torch.utils.data import DataLoader, TensorDataset"
   ]
  },
  {
   "cell_type": "markdown",
   "id": "064fe53e-6fa0-4e3f-a3f2-0e53b8dd48db",
   "metadata": {},
   "source": [
    "### Load the train, test, and val data\n",
    "Shape is (num_samples, num_sensors, num_timesteps)"
   ]
  },
  {
   "cell_type": "code",
   "execution_count": 2,
   "id": "c9168d52-0769-4e39-af23-45a6136cc67e",
   "metadata": {},
   "outputs": [
    {
     "name": "stdout",
     "output_type": "stream",
     "text": [
      "x_train shape: torch.Size([23974, 207, 12])\n",
      "y_train shape: torch.Size([23974, 207, 12])\n",
      "x_test shape: torch.Size([6850, 207, 12])\n",
      "y_test shape: torch.Size([6850, 207, 12])\n",
      "x_val shape: torch.Size([3425, 207, 12])\n",
      "y_val shape: torch.Size([3425, 207, 12])\n"
     ]
    }
   ],
   "source": [
    "# Define the path to the compressed training data file\n",
    "train_file_path = 'data/METR-LA/train.npz'\n",
    "\n",
    "# Load the data for training\n",
    "with np.load(train_file_path) as data:\n",
    "    # Convert to float32 and permute dimensions (0, 2, 1, 3)\n",
    "    x_train = torch.from_numpy(data['x']).permute(0, 2, 1, 3).to(torch.float32)\n",
    "    y_train = torch.from_numpy(data['y']).permute(0, 2, 1, 3).to(torch.float32)  # Apply permute to y_train as well\n",
    "\n",
    "x_train = x_train[..., 0]\n",
    "y_train = y_train[..., 0]\n",
    "print(\"x_train shape:\", x_train.shape)\n",
    "print(\"y_train shape:\", y_train.shape)\n",
    "\n",
    "# Define the path to the compressed test data file\n",
    "test_file_path = 'data/METR-LA/test.npz'\n",
    "\n",
    "# Load the data for testing\n",
    "with np.load(test_file_path) as data:\n",
    "    x_test = torch.from_numpy(data['x']).permute(0, 2, 1, 3).to(torch.float32)  # Permuting dimensions for x_test\n",
    "    y_test = torch.from_numpy(data['y']).permute(0, 2, 1, 3).to(torch.float32)  # Apply permute to y_test as well\n",
    "\n",
    "x_test= x_test[..., 0]\n",
    "y_test = y_test[..., 0]\n",
    "print(\"x_test shape:\", x_test.shape)\n",
    "print(\"y_test shape:\", y_test.shape)\n",
    "\n",
    "# Define the path to the compressed validation data file\n",
    "val_file_path = 'data/METR-LA/val.npz'\n",
    "\n",
    "# Load the data for validation\n",
    "with np.load(val_file_path) as data:\n",
    "    x_val = torch.from_numpy(data['x']).permute(0, 2, 1, 3).to(torch.float32)  # Permuting dimensions for x_val\n",
    "    y_val = torch.from_numpy(data['y']).permute(0, 2, 1, 3).to(torch.float32)  # Apply permute to y_val as well\n",
    "\n",
    "x_val = x_val[..., 0]\n",
    "y_val = y_val[..., 0]\n",
    "print(\"x_val shape:\", x_val.shape)\n",
    "print(\"y_val shape:\", y_val.shape)"
   ]
  },
  {
   "cell_type": "markdown",
   "id": "daf2988a-1058-4ed1-beaf-054973f34ad9",
   "metadata": {},
   "source": [
    "### Load the adjacency matrix and create the time adjacency matrix. Create dictionaries for the mean and standard deviation values of each sensor, which can be used later to plot the original data.\n",
    "Spatial adjacency matrix has shape (num_sensors, num_sensors).\n",
    "\n",
    "Temporal adjacency matrix has shape (num_timesteps, num_timesteps)."
   ]
  },
  {
   "cell_type": "code",
   "execution_count": 3,
   "id": "b92d17d4-a144-4f3d-a3f7-61a608928421",
   "metadata": {},
   "outputs": [
    {
     "name": "stdout",
     "output_type": "stream",
     "text": [
      "Spatial adjacency Matrix Shape: torch.Size([207, 207])\n",
      "Temporal Adjacency Matrix Shape: torch.Size([12, 12])\n"
     ]
    }
   ],
   "source": [
    "# File paths\n",
    "adj_file = 'adj_mx.pkl'\n",
    "data_file = \"data/METR-LA/metr-la.h5\"\n",
    "\n",
    "# Load adjacency matrix data from pickle file\n",
    "with open(adj_file, 'rb') as f:\n",
    "    sensor_ids, sensor_id_to_ind, adj_mx = pickle.load(f, encoding='latin1')\n",
    "\n",
    "# Convert adjacency matrix to a tensor and set its dtype to float32\n",
    "adj_mx = torch.from_numpy(adj_mx).to(torch.float32)\n",
    "print(f\"Spatial adjacency Matrix Shape: {adj_mx.shape}\")\n",
    "\n",
    "# Generate time adjacency matrix\n",
    "tadj_mx = stb.get_time_adj(x_train.shape[2])\n",
    "print(f\"Temporal Adjacency Matrix Shape: {tadj_mx.shape}\")\n",
    "\n",
    "# Load dataset\n",
    "df = pd.read_hdf(data_file)\n",
    "\n",
    "# Compute mean and standard deviation for each sensor, store in dict\n",
    "mean_values = df.mean().to_dict()\n",
    "std_values = df.std().to_dict()\n",
    "\n",
    "# Map mean and std values to the corresponding sensor indices\n",
    "mean_ind_dict = {\n",
    "    sensor_id_to_ind[sensor_id]: mean_values[sensor_id]\n",
    "    for sensor_id in mean_values if sensor_id in sensor_id_to_ind\n",
    "}\n",
    "\n",
    "std_ind_dict = {\n",
    "    sensor_id_to_ind[sensor_id]: std_values[sensor_id]\n",
    "    for sensor_id in std_values if sensor_id in sensor_id_to_ind\n",
    "}"
   ]
  },
  {
   "cell_type": "markdown",
   "id": "e21acad5-d002-4da6-9ce6-fdaf9b31a7f0",
   "metadata": {},
   "source": [
    "### Set model hyperparameters"
   ]
  },
  {
   "cell_type": "code",
   "execution_count": 4,
   "id": "105d0f8e-d024-4521-89e1-9e03dcd29686",
   "metadata": {},
   "outputs": [
    {
     "name": "stdout",
     "output_type": "stream",
     "text": [
      "Device detected: cuda\n"
     ]
    }
   ],
   "source": [
    "# MLP Parameters\n",
    "_, num_nodes, num_timesteps = x_train.shape\n",
    "mlp_input_dim = num_nodes * num_timesteps\n",
    "embedding_dim = int(mlp_input_dim / 4)\n",
    "output_dim = 12\n",
    "\n",
    "# Training parameters\n",
    "batch_size = 64\n",
    "num_epochs = 50\n",
    "patience, trigger_times = 10, 0  # Patience of 10 epochs\n",
    "learning_rate = 0.001\n",
    "num_trainings = 3\n",
    "\n",
    "device = torch.device(\"cuda\" if torch.cuda.is_available() else \"cpu\")\n",
    "print(f\"Device detected: {device}\")"
   ]
  },
  {
   "cell_type": "markdown",
   "id": "33997c3b-bbfd-4875-a8e2-f4d5e7cb7e6f",
   "metadata": {},
   "source": [
    "### Load original data into dataloaders"
   ]
  },
  {
   "cell_type": "code",
   "execution_count": 5,
   "id": "7feef392-1fc8-4211-bf64-404e43ea2b4a",
   "metadata": {},
   "outputs": [],
   "source": [
    "# Create new DataLoaders for precomputed data\n",
    "train_loader = DataLoader(TensorDataset(x_train, y_train), batch_size=batch_size, shuffle=True)\n",
    "val_loader = DataLoader(TensorDataset(x_val, y_val), batch_size=batch_size, shuffle=False)\n",
    "test_loader = DataLoader(TensorDataset(x_test, y_test), batch_size=batch_size, shuffle=False)"
   ]
  },
  {
   "cell_type": "markdown",
   "id": "cd6a1dc3-ed87-4bf7-b8ba-66cedf1a9b3d",
   "metadata": {},
   "source": [
    "### Train the model multiple times"
   ]
  },
  {
   "cell_type": "code",
   "execution_count": 6,
   "id": "2998cb9c-6617-480c-aebe-6ca26c7f547b",
   "metadata": {
    "scrolled": true
   },
   "outputs": [
    {
     "name": "stdout",
     "output_type": "stream",
     "text": [
      "\n",
      "\n",
      "TRAINING MODEL 1\n",
      "\n",
      "\n"
     ]
    },
    {
     "name": "stderr",
     "output_type": "stream",
     "text": [
      "Train Epoch 1: 100%|██████████████████████████████████████████████████████████████████| 375/375 [00:06<00:00, 54.62it/s]\n",
      "Validation Epoch 1: 100%|██████████████████████████████████████████████████████████████| 54/54 [00:00<00:00, 286.63it/s]\n"
     ]
    },
    {
     "name": "stdout",
     "output_type": "stream",
     "text": [
      "Model 1: Epoch 1/50, Train Loss: 0.4277, Validation Loss: 0.3195\n"
     ]
    },
    {
     "name": "stderr",
     "output_type": "stream",
     "text": [
      "Train Epoch 2: 100%|█████████████████████████████████████████████████████████████████| 375/375 [00:02<00:00, 161.60it/s]\n",
      "Validation Epoch 2: 100%|██████████████████████████████████████████████████████████████| 54/54 [00:00<00:00, 283.14it/s]\n"
     ]
    },
    {
     "name": "stdout",
     "output_type": "stream",
     "text": [
      "Model 1: Epoch 2/50, Train Loss: 0.3602, Validation Loss: 0.3140\n"
     ]
    },
    {
     "name": "stderr",
     "output_type": "stream",
     "text": [
      "Train Epoch 3: 100%|█████████████████████████████████████████████████████████████████| 375/375 [00:02<00:00, 161.90it/s]\n",
      "Validation Epoch 3: 100%|██████████████████████████████████████████████████████████████| 54/54 [00:00<00:00, 292.76it/s]\n"
     ]
    },
    {
     "name": "stdout",
     "output_type": "stream",
     "text": [
      "Model 1: Epoch 3/50, Train Loss: 0.3429, Validation Loss: 0.3018\n"
     ]
    },
    {
     "name": "stderr",
     "output_type": "stream",
     "text": [
      "Train Epoch 4: 100%|█████████████████████████████████████████████████████████████████| 375/375 [00:02<00:00, 166.00it/s]\n",
      "Validation Epoch 4: 100%|██████████████████████████████████████████████████████████████| 54/54 [00:00<00:00, 285.00it/s]\n"
     ]
    },
    {
     "name": "stdout",
     "output_type": "stream",
     "text": [
      "Model 1: Epoch 4/50, Train Loss: 0.3324, Validation Loss: 0.2959\n"
     ]
    },
    {
     "name": "stderr",
     "output_type": "stream",
     "text": [
      "Train Epoch 5: 100%|█████████████████████████████████████████████████████████████████| 375/375 [00:02<00:00, 156.58it/s]\n",
      "Validation Epoch 5: 100%|██████████████████████████████████████████████████████████████| 54/54 [00:00<00:00, 298.00it/s]\n"
     ]
    },
    {
     "name": "stdout",
     "output_type": "stream",
     "text": [
      "Model 1: Epoch 5/50, Train Loss: 0.3251, Validation Loss: 0.3013\n"
     ]
    },
    {
     "name": "stderr",
     "output_type": "stream",
     "text": [
      "Train Epoch 6: 100%|█████████████████████████████████████████████████████████████████| 375/375 [00:02<00:00, 164.97it/s]\n",
      "Validation Epoch 6: 100%|██████████████████████████████████████████████████████████████| 54/54 [00:00<00:00, 279.80it/s]\n"
     ]
    },
    {
     "name": "stdout",
     "output_type": "stream",
     "text": [
      "Model 1: Epoch 6/50, Train Loss: 0.3215, Validation Loss: 0.2888\n"
     ]
    },
    {
     "name": "stderr",
     "output_type": "stream",
     "text": [
      "Train Epoch 7: 100%|█████████████████████████████████████████████████████████████████| 375/375 [00:02<00:00, 159.57it/s]\n",
      "Validation Epoch 7: 100%|██████████████████████████████████████████████████████████████| 54/54 [00:00<00:00, 283.16it/s]\n"
     ]
    },
    {
     "name": "stdout",
     "output_type": "stream",
     "text": [
      "Model 1: Epoch 7/50, Train Loss: 0.3183, Validation Loss: 0.2818\n"
     ]
    },
    {
     "name": "stderr",
     "output_type": "stream",
     "text": [
      "Train Epoch 8: 100%|█████████████████████████████████████████████████████████████████| 375/375 [00:02<00:00, 165.39it/s]\n",
      "Validation Epoch 8: 100%|██████████████████████████████████████████████████████████████| 54/54 [00:00<00:00, 271.75it/s]\n"
     ]
    },
    {
     "name": "stdout",
     "output_type": "stream",
     "text": [
      "Model 1: Epoch 8/50, Train Loss: 0.3166, Validation Loss: 0.2962\n"
     ]
    },
    {
     "name": "stderr",
     "output_type": "stream",
     "text": [
      "Train Epoch 9: 100%|█████████████████████████████████████████████████████████████████| 375/375 [00:02<00:00, 165.29it/s]\n",
      "Validation Epoch 9: 100%|██████████████████████████████████████████████████████████████| 54/54 [00:00<00:00, 281.64it/s]\n"
     ]
    },
    {
     "name": "stdout",
     "output_type": "stream",
     "text": [
      "Model 1: Epoch 9/50, Train Loss: 0.3122, Validation Loss: 0.3197\n"
     ]
    },
    {
     "name": "stderr",
     "output_type": "stream",
     "text": [
      "Train Epoch 10: 100%|████████████████████████████████████████████████████████████████| 375/375 [00:02<00:00, 155.89it/s]\n",
      "Validation Epoch 10: 100%|█████████████████████████████████████████████████████████████| 54/54 [00:00<00:00, 275.69it/s]\n"
     ]
    },
    {
     "name": "stdout",
     "output_type": "stream",
     "text": [
      "Model 1: Epoch 10/50, Train Loss: 0.3111, Validation Loss: 0.2838\n"
     ]
    },
    {
     "name": "stderr",
     "output_type": "stream",
     "text": [
      "Train Epoch 11: 100%|████████████████████████████████████████████████████████████████| 375/375 [00:02<00:00, 154.05it/s]\n",
      "Validation Epoch 11: 100%|█████████████████████████████████████████████████████████████| 54/54 [00:00<00:00, 271.41it/s]\n"
     ]
    },
    {
     "name": "stdout",
     "output_type": "stream",
     "text": [
      "Model 1: Epoch 11/50, Train Loss: 0.3101, Validation Loss: 0.2959\n"
     ]
    },
    {
     "name": "stderr",
     "output_type": "stream",
     "text": [
      "Train Epoch 12: 100%|████████████████████████████████████████████████████████████████| 375/375 [00:02<00:00, 160.53it/s]\n",
      "Validation Epoch 12: 100%|█████████████████████████████████████████████████████████████| 54/54 [00:00<00:00, 275.64it/s]\n"
     ]
    },
    {
     "name": "stdout",
     "output_type": "stream",
     "text": [
      "Model 1: Epoch 12/50, Train Loss: 0.3071, Validation Loss: 0.3191\n"
     ]
    },
    {
     "name": "stderr",
     "output_type": "stream",
     "text": [
      "Train Epoch 13: 100%|████████████████████████████████████████████████████████████████| 375/375 [00:02<00:00, 160.15it/s]\n",
      "Validation Epoch 13: 100%|█████████████████████████████████████████████████████████████| 54/54 [00:00<00:00, 274.06it/s]\n"
     ]
    },
    {
     "name": "stdout",
     "output_type": "stream",
     "text": [
      "Model 1: Epoch 13/50, Train Loss: 0.3062, Validation Loss: 0.2772\n"
     ]
    },
    {
     "name": "stderr",
     "output_type": "stream",
     "text": [
      "Train Epoch 14: 100%|████████████████████████████████████████████████████████████████| 375/375 [00:02<00:00, 163.88it/s]\n",
      "Validation Epoch 14: 100%|█████████████████████████████████████████████████████████████| 54/54 [00:00<00:00, 284.53it/s]\n"
     ]
    },
    {
     "name": "stdout",
     "output_type": "stream",
     "text": [
      "Model 1: Epoch 14/50, Train Loss: 0.3034, Validation Loss: 0.2998\n"
     ]
    },
    {
     "name": "stderr",
     "output_type": "stream",
     "text": [
      "Train Epoch 15: 100%|████████████████████████████████████████████████████████████████| 375/375 [00:02<00:00, 166.89it/s]\n",
      "Validation Epoch 15: 100%|█████████████████████████████████████████████████████████████| 54/54 [00:00<00:00, 265.73it/s]\n"
     ]
    },
    {
     "name": "stdout",
     "output_type": "stream",
     "text": [
      "Model 1: Epoch 15/50, Train Loss: 0.3035, Validation Loss: 0.2802\n"
     ]
    },
    {
     "name": "stderr",
     "output_type": "stream",
     "text": [
      "Train Epoch 16: 100%|████████████████████████████████████████████████████████████████| 375/375 [00:02<00:00, 162.18it/s]\n",
      "Validation Epoch 16: 100%|█████████████████████████████████████████████████████████████| 54/54 [00:00<00:00, 274.08it/s]\n"
     ]
    },
    {
     "name": "stdout",
     "output_type": "stream",
     "text": [
      "Model 1: Epoch 16/50, Train Loss: 0.3020, Validation Loss: 0.2799\n"
     ]
    },
    {
     "name": "stderr",
     "output_type": "stream",
     "text": [
      "Train Epoch 17: 100%|████████████████████████████████████████████████████████████████| 375/375 [00:02<00:00, 153.53it/s]\n",
      "Validation Epoch 17: 100%|█████████████████████████████████████████████████████████████| 54/54 [00:00<00:00, 281.36it/s]\n"
     ]
    },
    {
     "name": "stdout",
     "output_type": "stream",
     "text": [
      "Model 1: Epoch 17/50, Train Loss: 0.3004, Validation Loss: 0.2771\n"
     ]
    },
    {
     "name": "stderr",
     "output_type": "stream",
     "text": [
      "Train Epoch 18: 100%|████████████████████████████████████████████████████████████████| 375/375 [00:02<00:00, 160.30it/s]\n",
      "Validation Epoch 18: 100%|█████████████████████████████████████████████████████████████| 54/54 [00:00<00:00, 248.15it/s]\n"
     ]
    },
    {
     "name": "stdout",
     "output_type": "stream",
     "text": [
      "Model 1: Epoch 18/50, Train Loss: 0.2998, Validation Loss: 0.2803\n"
     ]
    },
    {
     "name": "stderr",
     "output_type": "stream",
     "text": [
      "Train Epoch 19: 100%|████████████████████████████████████████████████████████████████| 375/375 [00:02<00:00, 167.02it/s]\n",
      "Validation Epoch 19: 100%|█████████████████████████████████████████████████████████████| 54/54 [00:00<00:00, 269.39it/s]\n"
     ]
    },
    {
     "name": "stdout",
     "output_type": "stream",
     "text": [
      "Model 1: Epoch 19/50, Train Loss: 0.2986, Validation Loss: 0.2792\n"
     ]
    },
    {
     "name": "stderr",
     "output_type": "stream",
     "text": [
      "Train Epoch 20: 100%|████████████████████████████████████████████████████████████████| 375/375 [00:02<00:00, 158.43it/s]\n",
      "Validation Epoch 20: 100%|█████████████████████████████████████████████████████████████| 54/54 [00:00<00:00, 263.65it/s]\n"
     ]
    },
    {
     "name": "stdout",
     "output_type": "stream",
     "text": [
      "Model 1: Epoch 20/50, Train Loss: 0.2985, Validation Loss: 0.3086\n"
     ]
    },
    {
     "name": "stderr",
     "output_type": "stream",
     "text": [
      "Train Epoch 21: 100%|████████████████████████████████████████████████████████████████| 375/375 [00:02<00:00, 162.14it/s]\n",
      "Validation Epoch 21: 100%|█████████████████████████████████████████████████████████████| 54/54 [00:00<00:00, 233.19it/s]\n"
     ]
    },
    {
     "name": "stdout",
     "output_type": "stream",
     "text": [
      "Model 1: Epoch 21/50, Train Loss: 0.2981, Validation Loss: 0.2900\n"
     ]
    },
    {
     "name": "stderr",
     "output_type": "stream",
     "text": [
      "Train Epoch 22: 100%|████████████████████████████████████████████████████████████████| 375/375 [00:02<00:00, 154.85it/s]\n",
      "Validation Epoch 22: 100%|█████████████████████████████████████████████████████████████| 54/54 [00:00<00:00, 272.48it/s]\n"
     ]
    },
    {
     "name": "stdout",
     "output_type": "stream",
     "text": [
      "Model 1: Epoch 22/50, Train Loss: 0.2963, Validation Loss: 0.2739\n"
     ]
    },
    {
     "name": "stderr",
     "output_type": "stream",
     "text": [
      "Train Epoch 23: 100%|████████████████████████████████████████████████████████████████| 375/375 [00:02<00:00, 150.76it/s]\n",
      "Validation Epoch 23: 100%|█████████████████████████████████████████████████████████████| 54/54 [00:00<00:00, 263.88it/s]\n"
     ]
    },
    {
     "name": "stdout",
     "output_type": "stream",
     "text": [
      "Model 1: Epoch 23/50, Train Loss: 0.2963, Validation Loss: 0.2837\n"
     ]
    },
    {
     "name": "stderr",
     "output_type": "stream",
     "text": [
      "Train Epoch 24: 100%|████████████████████████████████████████████████████████████████| 375/375 [00:02<00:00, 159.74it/s]\n",
      "Validation Epoch 24: 100%|█████████████████████████████████████████████████████████████| 54/54 [00:00<00:00, 283.05it/s]\n"
     ]
    },
    {
     "name": "stdout",
     "output_type": "stream",
     "text": [
      "Model 1: Epoch 24/50, Train Loss: 0.2938, Validation Loss: 0.3119\n"
     ]
    },
    {
     "name": "stderr",
     "output_type": "stream",
     "text": [
      "Train Epoch 25: 100%|████████████████████████████████████████████████████████████████| 375/375 [00:02<00:00, 162.18it/s]\n",
      "Validation Epoch 25: 100%|█████████████████████████████████████████████████████████████| 54/54 [00:00<00:00, 274.20it/s]\n"
     ]
    },
    {
     "name": "stdout",
     "output_type": "stream",
     "text": [
      "Model 1: Epoch 25/50, Train Loss: 0.2946, Validation Loss: 0.2820\n"
     ]
    },
    {
     "name": "stderr",
     "output_type": "stream",
     "text": [
      "Train Epoch 26: 100%|████████████████████████████████████████████████████████████████| 375/375 [00:02<00:00, 161.09it/s]\n",
      "Validation Epoch 26: 100%|█████████████████████████████████████████████████████████████| 54/54 [00:00<00:00, 272.49it/s]\n"
     ]
    },
    {
     "name": "stdout",
     "output_type": "stream",
     "text": [
      "Model 1: Epoch 26/50, Train Loss: 0.2922, Validation Loss: 0.2853\n"
     ]
    },
    {
     "name": "stderr",
     "output_type": "stream",
     "text": [
      "Train Epoch 27: 100%|████████████████████████████████████████████████████████████████| 375/375 [00:02<00:00, 167.33it/s]\n",
      "Validation Epoch 27: 100%|█████████████████████████████████████████████████████████████| 54/54 [00:00<00:00, 290.28it/s]\n"
     ]
    },
    {
     "name": "stdout",
     "output_type": "stream",
     "text": [
      "Model 1: Epoch 27/50, Train Loss: 0.2918, Validation Loss: 0.2826\n"
     ]
    },
    {
     "name": "stderr",
     "output_type": "stream",
     "text": [
      "Train Epoch 28: 100%|████████████████████████████████████████████████████████████████| 375/375 [00:02<00:00, 162.04it/s]\n",
      "Validation Epoch 28: 100%|█████████████████████████████████████████████████████████████| 54/54 [00:00<00:00, 223.53it/s]\n"
     ]
    },
    {
     "name": "stdout",
     "output_type": "stream",
     "text": [
      "Model 1: Epoch 28/50, Train Loss: 0.2925, Validation Loss: 0.2826\n"
     ]
    },
    {
     "name": "stderr",
     "output_type": "stream",
     "text": [
      "Train Epoch 29: 100%|████████████████████████████████████████████████████████████████| 375/375 [00:02<00:00, 161.73it/s]\n",
      "Validation Epoch 29: 100%|█████████████████████████████████████████████████████████████| 54/54 [00:00<00:00, 281.62it/s]\n"
     ]
    },
    {
     "name": "stdout",
     "output_type": "stream",
     "text": [
      "Model 1: Epoch 29/50, Train Loss: 0.2901, Validation Loss: 0.2746\n"
     ]
    },
    {
     "name": "stderr",
     "output_type": "stream",
     "text": [
      "Train Epoch 30: 100%|████████████████████████████████████████████████████████████████| 375/375 [00:02<00:00, 160.21it/s]\n",
      "Validation Epoch 30: 100%|█████████████████████████████████████████████████████████████| 54/54 [00:00<00:00, 269.84it/s]\n"
     ]
    },
    {
     "name": "stdout",
     "output_type": "stream",
     "text": [
      "Model 1: Epoch 30/50, Train Loss: 0.2894, Validation Loss: 0.2782\n"
     ]
    },
    {
     "name": "stderr",
     "output_type": "stream",
     "text": [
      "Train Epoch 31: 100%|████████████████████████████████████████████████████████████████| 375/375 [00:02<00:00, 159.17it/s]\n",
      "Validation Epoch 31: 100%|█████████████████████████████████████████████████████████████| 54/54 [00:00<00:00, 218.51it/s]\n"
     ]
    },
    {
     "name": "stdout",
     "output_type": "stream",
     "text": [
      "Model 1: Epoch 31/50, Train Loss: 0.2901, Validation Loss: 0.2911\n"
     ]
    },
    {
     "name": "stderr",
     "output_type": "stream",
     "text": [
      "Train Epoch 32: 100%|████████████████████████████████████████████████████████████████| 375/375 [00:02<00:00, 157.80it/s]\n",
      "Validation Epoch 32: 100%|█████████████████████████████████████████████████████████████| 54/54 [00:00<00:00, 275.14it/s]\n"
     ]
    },
    {
     "name": "stdout",
     "output_type": "stream",
     "text": [
      "Model 1: Epoch 32/50, Train Loss: 0.2900, Validation Loss: 0.2707\n"
     ]
    },
    {
     "name": "stderr",
     "output_type": "stream",
     "text": [
      "Train Epoch 33: 100%|████████████████████████████████████████████████████████████████| 375/375 [00:02<00:00, 164.99it/s]\n",
      "Validation Epoch 33: 100%|█████████████████████████████████████████████████████████████| 54/54 [00:00<00:00, 285.26it/s]\n"
     ]
    },
    {
     "name": "stdout",
     "output_type": "stream",
     "text": [
      "Model 1: Epoch 33/50, Train Loss: 0.2884, Validation Loss: 0.2718\n"
     ]
    },
    {
     "name": "stderr",
     "output_type": "stream",
     "text": [
      "Train Epoch 34: 100%|████████████████████████████████████████████████████████████████| 375/375 [00:02<00:00, 155.40it/s]\n",
      "Validation Epoch 34: 100%|█████████████████████████████████████████████████████████████| 54/54 [00:00<00:00, 270.37it/s]\n"
     ]
    },
    {
     "name": "stdout",
     "output_type": "stream",
     "text": [
      "Model 1: Epoch 34/50, Train Loss: 0.2903, Validation Loss: 0.2740\n"
     ]
    },
    {
     "name": "stderr",
     "output_type": "stream",
     "text": [
      "Train Epoch 35: 100%|████████████████████████████████████████████████████████████████| 375/375 [00:02<00:00, 161.04it/s]\n",
      "Validation Epoch 35: 100%|█████████████████████████████████████████████████████████████| 54/54 [00:00<00:00, 277.05it/s]\n"
     ]
    },
    {
     "name": "stdout",
     "output_type": "stream",
     "text": [
      "Model 1: Epoch 35/50, Train Loss: 0.2889, Validation Loss: 0.2780\n"
     ]
    },
    {
     "name": "stderr",
     "output_type": "stream",
     "text": [
      "Train Epoch 36: 100%|████████████████████████████████████████████████████████████████| 375/375 [00:02<00:00, 163.86it/s]\n",
      "Validation Epoch 36: 100%|█████████████████████████████████████████████████████████████| 54/54 [00:00<00:00, 265.18it/s]\n"
     ]
    },
    {
     "name": "stdout",
     "output_type": "stream",
     "text": [
      "Model 1: Epoch 36/50, Train Loss: 0.2894, Validation Loss: 0.2857\n"
     ]
    },
    {
     "name": "stderr",
     "output_type": "stream",
     "text": [
      "Train Epoch 37: 100%|████████████████████████████████████████████████████████████████| 375/375 [00:02<00:00, 164.30it/s]\n",
      "Validation Epoch 37: 100%|█████████████████████████████████████████████████████████████| 54/54 [00:00<00:00, 268.78it/s]\n"
     ]
    },
    {
     "name": "stdout",
     "output_type": "stream",
     "text": [
      "Model 1: Epoch 37/50, Train Loss: 0.2867, Validation Loss: 0.2771\n"
     ]
    },
    {
     "name": "stderr",
     "output_type": "stream",
     "text": [
      "Train Epoch 38: 100%|████████████████████████████████████████████████████████████████| 375/375 [00:02<00:00, 155.56it/s]\n",
      "Validation Epoch 38: 100%|█████████████████████████████████████████████████████████████| 54/54 [00:00<00:00, 286.36it/s]\n"
     ]
    },
    {
     "name": "stdout",
     "output_type": "stream",
     "text": [
      "Model 1: Epoch 38/50, Train Loss: 0.2855, Validation Loss: 0.2699\n"
     ]
    },
    {
     "name": "stderr",
     "output_type": "stream",
     "text": [
      "Train Epoch 39: 100%|████████████████████████████████████████████████████████████████| 375/375 [00:02<00:00, 156.15it/s]\n",
      "Validation Epoch 39: 100%|█████████████████████████████████████████████████████████████| 54/54 [00:00<00:00, 276.94it/s]\n"
     ]
    },
    {
     "name": "stdout",
     "output_type": "stream",
     "text": [
      "Model 1: Epoch 39/50, Train Loss: 0.2870, Validation Loss: 0.2703\n"
     ]
    },
    {
     "name": "stderr",
     "output_type": "stream",
     "text": [
      "Train Epoch 40: 100%|████████████████████████████████████████████████████████████████| 375/375 [00:02<00:00, 155.50it/s]\n",
      "Validation Epoch 40: 100%|█████████████████████████████████████████████████████████████| 54/54 [00:00<00:00, 225.67it/s]\n"
     ]
    },
    {
     "name": "stdout",
     "output_type": "stream",
     "text": [
      "Model 1: Epoch 40/50, Train Loss: 0.2861, Validation Loss: 0.2766\n"
     ]
    },
    {
     "name": "stderr",
     "output_type": "stream",
     "text": [
      "Train Epoch 41: 100%|████████████████████████████████████████████████████████████████| 375/375 [00:02<00:00, 157.35it/s]\n",
      "Validation Epoch 41: 100%|█████████████████████████████████████████████████████████████| 54/54 [00:00<00:00, 272.95it/s]\n"
     ]
    },
    {
     "name": "stdout",
     "output_type": "stream",
     "text": [
      "Model 1: Epoch 41/50, Train Loss: 0.2845, Validation Loss: 0.2772\n"
     ]
    },
    {
     "name": "stderr",
     "output_type": "stream",
     "text": [
      "Train Epoch 42: 100%|████████████████████████████████████████████████████████████████| 375/375 [00:02<00:00, 159.61it/s]\n",
      "Validation Epoch 42: 100%|█████████████████████████████████████████████████████████████| 54/54 [00:00<00:00, 287.76it/s]\n"
     ]
    },
    {
     "name": "stdout",
     "output_type": "stream",
     "text": [
      "Model 1: Epoch 42/50, Train Loss: 0.2850, Validation Loss: 0.2858\n"
     ]
    },
    {
     "name": "stderr",
     "output_type": "stream",
     "text": [
      "Train Epoch 43: 100%|████████████████████████████████████████████████████████████████| 375/375 [00:02<00:00, 162.69it/s]\n",
      "Validation Epoch 43: 100%|█████████████████████████████████████████████████████████████| 54/54 [00:00<00:00, 292.71it/s]\n"
     ]
    },
    {
     "name": "stdout",
     "output_type": "stream",
     "text": [
      "Model 1: Epoch 43/50, Train Loss: 0.2832, Validation Loss: 0.2969\n"
     ]
    },
    {
     "name": "stderr",
     "output_type": "stream",
     "text": [
      "Train Epoch 44: 100%|████████████████████████████████████████████████████████████████| 375/375 [00:02<00:00, 165.70it/s]\n",
      "Validation Epoch 44: 100%|█████████████████████████████████████████████████████████████| 54/54 [00:00<00:00, 297.45it/s]\n"
     ]
    },
    {
     "name": "stdout",
     "output_type": "stream",
     "text": [
      "Model 1: Epoch 44/50, Train Loss: 0.2845, Validation Loss: 0.2766\n"
     ]
    },
    {
     "name": "stderr",
     "output_type": "stream",
     "text": [
      "Train Epoch 45: 100%|████████████████████████████████████████████████████████████████| 375/375 [00:02<00:00, 161.81it/s]\n",
      "Validation Epoch 45: 100%|█████████████████████████████████████████████████████████████| 54/54 [00:00<00:00, 277.34it/s]\n"
     ]
    },
    {
     "name": "stdout",
     "output_type": "stream",
     "text": [
      "Model 1: Epoch 45/50, Train Loss: 0.2852, Validation Loss: 0.2885\n"
     ]
    },
    {
     "name": "stderr",
     "output_type": "stream",
     "text": [
      "Train Epoch 46: 100%|████████████████████████████████████████████████████████████████| 375/375 [00:02<00:00, 160.41it/s]\n",
      "Validation Epoch 46: 100%|█████████████████████████████████████████████████████████████| 54/54 [00:00<00:00, 274.60it/s]\n"
     ]
    },
    {
     "name": "stdout",
     "output_type": "stream",
     "text": [
      "Model 1: Epoch 46/50, Train Loss: 0.2843, Validation Loss: 0.2920\n"
     ]
    },
    {
     "name": "stderr",
     "output_type": "stream",
     "text": [
      "Train Epoch 47: 100%|████████████████████████████████████████████████████████████████| 375/375 [00:02<00:00, 164.37it/s]\n",
      "Validation Epoch 47: 100%|█████████████████████████████████████████████████████████████| 54/54 [00:00<00:00, 285.60it/s]\n"
     ]
    },
    {
     "name": "stdout",
     "output_type": "stream",
     "text": [
      "Model 1: Epoch 47/50, Train Loss: 0.2842, Validation Loss: 0.2748\n"
     ]
    },
    {
     "name": "stderr",
     "output_type": "stream",
     "text": [
      "Train Epoch 48: 100%|████████████████████████████████████████████████████████████████| 375/375 [00:02<00:00, 158.92it/s]\n",
      "Validation Epoch 48: 100%|█████████████████████████████████████████████████████████████| 54/54 [00:00<00:00, 270.93it/s]\n"
     ]
    },
    {
     "name": "stdout",
     "output_type": "stream",
     "text": [
      "Model 1: Early stopping!\n",
      "\n",
      "\n",
      "TRAINING MODEL 2\n",
      "\n",
      "\n"
     ]
    },
    {
     "name": "stderr",
     "output_type": "stream",
     "text": [
      "Train Epoch 1: 100%|█████████████████████████████████████████████████████████████████| 375/375 [00:02<00:00, 160.07it/s]\n",
      "Validation Epoch 1: 100%|██████████████████████████████████████████████████████████████| 54/54 [00:00<00:00, 276.77it/s]\n"
     ]
    },
    {
     "name": "stdout",
     "output_type": "stream",
     "text": [
      "Model 2: Epoch 1/50, Train Loss: 0.4227, Validation Loss: 0.3832\n"
     ]
    },
    {
     "name": "stderr",
     "output_type": "stream",
     "text": [
      "Train Epoch 2: 100%|█████████████████████████████████████████████████████████████████| 375/375 [00:02<00:00, 159.72it/s]\n",
      "Validation Epoch 2: 100%|██████████████████████████████████████████████████████████████| 54/54 [00:00<00:00, 285.70it/s]\n"
     ]
    },
    {
     "name": "stdout",
     "output_type": "stream",
     "text": [
      "Model 2: Epoch 2/50, Train Loss: 0.3580, Validation Loss: 0.3094\n"
     ]
    },
    {
     "name": "stderr",
     "output_type": "stream",
     "text": [
      "Train Epoch 3: 100%|█████████████████████████████████████████████████████████████████| 375/375 [00:02<00:00, 158.93it/s]\n",
      "Validation Epoch 3: 100%|██████████████████████████████████████████████████████████████| 54/54 [00:00<00:00, 274.96it/s]\n"
     ]
    },
    {
     "name": "stdout",
     "output_type": "stream",
     "text": [
      "Model 2: Epoch 3/50, Train Loss: 0.3411, Validation Loss: 0.2970\n"
     ]
    },
    {
     "name": "stderr",
     "output_type": "stream",
     "text": [
      "Train Epoch 4: 100%|█████████████████████████████████████████████████████████████████| 375/375 [00:02<00:00, 160.26it/s]\n",
      "Validation Epoch 4: 100%|██████████████████████████████████████████████████████████████| 54/54 [00:00<00:00, 266.37it/s]\n"
     ]
    },
    {
     "name": "stdout",
     "output_type": "stream",
     "text": [
      "Model 2: Epoch 4/50, Train Loss: 0.3318, Validation Loss: 0.2970\n"
     ]
    },
    {
     "name": "stderr",
     "output_type": "stream",
     "text": [
      "Train Epoch 5: 100%|█████████████████████████████████████████████████████████████████| 375/375 [00:02<00:00, 163.89it/s]\n",
      "Validation Epoch 5: 100%|██████████████████████████████████████████████████████████████| 54/54 [00:00<00:00, 260.31it/s]\n"
     ]
    },
    {
     "name": "stdout",
     "output_type": "stream",
     "text": [
      "Model 2: Epoch 5/50, Train Loss: 0.3270, Validation Loss: 0.2921\n"
     ]
    },
    {
     "name": "stderr",
     "output_type": "stream",
     "text": [
      "Train Epoch 6: 100%|█████████████████████████████████████████████████████████████████| 375/375 [00:02<00:00, 164.41it/s]\n",
      "Validation Epoch 6: 100%|██████████████████████████████████████████████████████████████| 54/54 [00:00<00:00, 267.87it/s]\n"
     ]
    },
    {
     "name": "stdout",
     "output_type": "stream",
     "text": [
      "Model 2: Epoch 6/50, Train Loss: 0.3221, Validation Loss: 0.3232\n"
     ]
    },
    {
     "name": "stderr",
     "output_type": "stream",
     "text": [
      "Train Epoch 7: 100%|█████████████████████████████████████████████████████████████████| 375/375 [00:02<00:00, 162.98it/s]\n",
      "Validation Epoch 7: 100%|██████████████████████████████████████████████████████████████| 54/54 [00:00<00:00, 278.24it/s]\n"
     ]
    },
    {
     "name": "stdout",
     "output_type": "stream",
     "text": [
      "Model 2: Epoch 7/50, Train Loss: 0.3165, Validation Loss: 0.2908\n"
     ]
    },
    {
     "name": "stderr",
     "output_type": "stream",
     "text": [
      "Train Epoch 8: 100%|█████████████████████████████████████████████████████████████████| 375/375 [00:02<00:00, 157.52it/s]\n",
      "Validation Epoch 8: 100%|██████████████████████████████████████████████████████████████| 54/54 [00:00<00:00, 260.19it/s]\n"
     ]
    },
    {
     "name": "stdout",
     "output_type": "stream",
     "text": [
      "Model 2: Epoch 8/50, Train Loss: 0.3135, Validation Loss: 0.3156\n"
     ]
    },
    {
     "name": "stderr",
     "output_type": "stream",
     "text": [
      "Train Epoch 9: 100%|█████████████████████████████████████████████████████████████████| 375/375 [00:02<00:00, 162.82it/s]\n",
      "Validation Epoch 9: 100%|██████████████████████████████████████████████████████████████| 54/54 [00:00<00:00, 287.87it/s]\n"
     ]
    },
    {
     "name": "stdout",
     "output_type": "stream",
     "text": [
      "Model 2: Epoch 9/50, Train Loss: 0.3108, Validation Loss: 0.2774\n"
     ]
    },
    {
     "name": "stderr",
     "output_type": "stream",
     "text": [
      "Train Epoch 10: 100%|████████████████████████████████████████████████████████████████| 375/375 [00:02<00:00, 160.97it/s]\n",
      "Validation Epoch 10: 100%|█████████████████████████████████████████████████████████████| 54/54 [00:00<00:00, 293.14it/s]\n"
     ]
    },
    {
     "name": "stdout",
     "output_type": "stream",
     "text": [
      "Model 2: Epoch 10/50, Train Loss: 0.3086, Validation Loss: 0.2996\n"
     ]
    },
    {
     "name": "stderr",
     "output_type": "stream",
     "text": [
      "Train Epoch 11: 100%|████████████████████████████████████████████████████████████████| 375/375 [00:02<00:00, 159.26it/s]\n",
      "Validation Epoch 11: 100%|█████████████████████████████████████████████████████████████| 54/54 [00:00<00:00, 271.86it/s]\n"
     ]
    },
    {
     "name": "stdout",
     "output_type": "stream",
     "text": [
      "Model 2: Epoch 11/50, Train Loss: 0.3072, Validation Loss: 0.2833\n"
     ]
    },
    {
     "name": "stderr",
     "output_type": "stream",
     "text": [
      "Train Epoch 12: 100%|████████████████████████████████████████████████████████████████| 375/375 [00:02<00:00, 161.48it/s]\n",
      "Validation Epoch 12: 100%|█████████████████████████████████████████████████████████████| 54/54 [00:00<00:00, 277.06it/s]\n"
     ]
    },
    {
     "name": "stdout",
     "output_type": "stream",
     "text": [
      "Model 2: Epoch 12/50, Train Loss: 0.3075, Validation Loss: 0.2856\n"
     ]
    },
    {
     "name": "stderr",
     "output_type": "stream",
     "text": [
      "Train Epoch 13: 100%|████████████████████████████████████████████████████████████████| 375/375 [00:02<00:00, 163.32it/s]\n",
      "Validation Epoch 13: 100%|█████████████████████████████████████████████████████████████| 54/54 [00:00<00:00, 274.60it/s]\n"
     ]
    },
    {
     "name": "stdout",
     "output_type": "stream",
     "text": [
      "Model 2: Epoch 13/50, Train Loss: 0.3055, Validation Loss: 0.2892\n"
     ]
    },
    {
     "name": "stderr",
     "output_type": "stream",
     "text": [
      "Train Epoch 14: 100%|████████████████████████████████████████████████████████████████| 375/375 [00:02<00:00, 161.57it/s]\n",
      "Validation Epoch 14: 100%|█████████████████████████████████████████████████████████████| 54/54 [00:00<00:00, 268.35it/s]\n"
     ]
    },
    {
     "name": "stdout",
     "output_type": "stream",
     "text": [
      "Model 2: Epoch 14/50, Train Loss: 0.3030, Validation Loss: 0.2868\n"
     ]
    },
    {
     "name": "stderr",
     "output_type": "stream",
     "text": [
      "Train Epoch 15: 100%|████████████████████████████████████████████████████████████████| 375/375 [00:02<00:00, 163.15it/s]\n",
      "Validation Epoch 15: 100%|█████████████████████████████████████████████████████████████| 54/54 [00:00<00:00, 266.26it/s]\n"
     ]
    },
    {
     "name": "stdout",
     "output_type": "stream",
     "text": [
      "Model 2: Epoch 15/50, Train Loss: 0.3040, Validation Loss: 0.2740\n"
     ]
    },
    {
     "name": "stderr",
     "output_type": "stream",
     "text": [
      "Train Epoch 16: 100%|████████████████████████████████████████████████████████████████| 375/375 [00:02<00:00, 159.80it/s]\n",
      "Validation Epoch 16: 100%|█████████████████████████████████████████████████████████████| 54/54 [00:00<00:00, 288.45it/s]\n"
     ]
    },
    {
     "name": "stdout",
     "output_type": "stream",
     "text": [
      "Model 2: Epoch 16/50, Train Loss: 0.3011, Validation Loss: 0.2997\n"
     ]
    },
    {
     "name": "stderr",
     "output_type": "stream",
     "text": [
      "Train Epoch 17: 100%|████████████████████████████████████████████████████████████████| 375/375 [00:02<00:00, 165.50it/s]\n",
      "Validation Epoch 17: 100%|█████████████████████████████████████████████████████████████| 54/54 [00:00<00:00, 285.47it/s]\n"
     ]
    },
    {
     "name": "stdout",
     "output_type": "stream",
     "text": [
      "Model 2: Epoch 17/50, Train Loss: 0.3011, Validation Loss: 0.2773\n"
     ]
    },
    {
     "name": "stderr",
     "output_type": "stream",
     "text": [
      "Train Epoch 18: 100%|████████████████████████████████████████████████████████████████| 375/375 [00:02<00:00, 167.41it/s]\n",
      "Validation Epoch 18: 100%|█████████████████████████████████████████████████████████████| 54/54 [00:00<00:00, 264.30it/s]\n"
     ]
    },
    {
     "name": "stdout",
     "output_type": "stream",
     "text": [
      "Model 2: Epoch 18/50, Train Loss: 0.2988, Validation Loss: 0.2927\n"
     ]
    },
    {
     "name": "stderr",
     "output_type": "stream",
     "text": [
      "Train Epoch 19: 100%|████████████████████████████████████████████████████████████████| 375/375 [00:02<00:00, 163.32it/s]\n",
      "Validation Epoch 19: 100%|█████████████████████████████████████████████████████████████| 54/54 [00:00<00:00, 280.39it/s]\n"
     ]
    },
    {
     "name": "stdout",
     "output_type": "stream",
     "text": [
      "Model 2: Epoch 19/50, Train Loss: 0.2979, Validation Loss: 0.3008\n"
     ]
    },
    {
     "name": "stderr",
     "output_type": "stream",
     "text": [
      "Train Epoch 20: 100%|████████████████████████████████████████████████████████████████| 375/375 [00:02<00:00, 163.78it/s]\n",
      "Validation Epoch 20: 100%|█████████████████████████████████████████████████████████████| 54/54 [00:00<00:00, 283.21it/s]\n"
     ]
    },
    {
     "name": "stdout",
     "output_type": "stream",
     "text": [
      "Model 2: Epoch 20/50, Train Loss: 0.2975, Validation Loss: 0.2711\n"
     ]
    },
    {
     "name": "stderr",
     "output_type": "stream",
     "text": [
      "Train Epoch 21: 100%|████████████████████████████████████████████████████████████████| 375/375 [00:02<00:00, 163.65it/s]\n",
      "Validation Epoch 21: 100%|█████████████████████████████████████████████████████████████| 54/54 [00:00<00:00, 292.14it/s]\n"
     ]
    },
    {
     "name": "stdout",
     "output_type": "stream",
     "text": [
      "Model 2: Epoch 21/50, Train Loss: 0.2965, Validation Loss: 0.2897\n"
     ]
    },
    {
     "name": "stderr",
     "output_type": "stream",
     "text": [
      "Train Epoch 22: 100%|████████████████████████████████████████████████████████████████| 375/375 [00:02<00:00, 161.34it/s]\n",
      "Validation Epoch 22: 100%|█████████████████████████████████████████████████████████████| 54/54 [00:00<00:00, 276.29it/s]\n"
     ]
    },
    {
     "name": "stdout",
     "output_type": "stream",
     "text": [
      "Model 2: Epoch 22/50, Train Loss: 0.2958, Validation Loss: 0.2812\n"
     ]
    },
    {
     "name": "stderr",
     "output_type": "stream",
     "text": [
      "Train Epoch 23: 100%|████████████████████████████████████████████████████████████████| 375/375 [00:02<00:00, 163.97it/s]\n",
      "Validation Epoch 23: 100%|█████████████████████████████████████████████████████████████| 54/54 [00:00<00:00, 271.48it/s]\n"
     ]
    },
    {
     "name": "stdout",
     "output_type": "stream",
     "text": [
      "Model 2: Epoch 23/50, Train Loss: 0.2948, Validation Loss: 0.2750\n"
     ]
    },
    {
     "name": "stderr",
     "output_type": "stream",
     "text": [
      "Train Epoch 24: 100%|████████████████████████████████████████████████████████████████| 375/375 [00:02<00:00, 163.64it/s]\n",
      "Validation Epoch 24: 100%|█████████████████████████████████████████████████████████████| 54/54 [00:00<00:00, 286.83it/s]\n"
     ]
    },
    {
     "name": "stdout",
     "output_type": "stream",
     "text": [
      "Model 2: Epoch 24/50, Train Loss: 0.2925, Validation Loss: 0.2839\n"
     ]
    },
    {
     "name": "stderr",
     "output_type": "stream",
     "text": [
      "Train Epoch 25: 100%|████████████████████████████████████████████████████████████████| 375/375 [00:02<00:00, 164.72it/s]\n",
      "Validation Epoch 25: 100%|█████████████████████████████████████████████████████████████| 54/54 [00:00<00:00, 274.09it/s]\n"
     ]
    },
    {
     "name": "stdout",
     "output_type": "stream",
     "text": [
      "Model 2: Epoch 25/50, Train Loss: 0.2934, Validation Loss: 0.2812\n"
     ]
    },
    {
     "name": "stderr",
     "output_type": "stream",
     "text": [
      "Train Epoch 26: 100%|████████████████████████████████████████████████████████████████| 375/375 [00:02<00:00, 160.47it/s]\n",
      "Validation Epoch 26: 100%|█████████████████████████████████████████████████████████████| 54/54 [00:00<00:00, 268.31it/s]\n"
     ]
    },
    {
     "name": "stdout",
     "output_type": "stream",
     "text": [
      "Model 2: Epoch 26/50, Train Loss: 0.2944, Validation Loss: 0.2776\n"
     ]
    },
    {
     "name": "stderr",
     "output_type": "stream",
     "text": [
      "Train Epoch 27: 100%|████████████████████████████████████████████████████████████████| 375/375 [00:02<00:00, 163.03it/s]\n",
      "Validation Epoch 27: 100%|█████████████████████████████████████████████████████████████| 54/54 [00:00<00:00, 280.14it/s]\n"
     ]
    },
    {
     "name": "stdout",
     "output_type": "stream",
     "text": [
      "Model 2: Epoch 27/50, Train Loss: 0.2911, Validation Loss: 0.2745\n"
     ]
    },
    {
     "name": "stderr",
     "output_type": "stream",
     "text": [
      "Train Epoch 28: 100%|████████████████████████████████████████████████████████████████| 375/375 [00:02<00:00, 163.30it/s]\n",
      "Validation Epoch 28: 100%|█████████████████████████████████████████████████████████████| 54/54 [00:00<00:00, 278.12it/s]\n"
     ]
    },
    {
     "name": "stdout",
     "output_type": "stream",
     "text": [
      "Model 2: Epoch 28/50, Train Loss: 0.2927, Validation Loss: 0.2803\n"
     ]
    },
    {
     "name": "stderr",
     "output_type": "stream",
     "text": [
      "Train Epoch 29: 100%|████████████████████████████████████████████████████████████████| 375/375 [00:02<00:00, 161.76it/s]\n",
      "Validation Epoch 29: 100%|█████████████████████████████████████████████████████████████| 54/54 [00:00<00:00, 274.44it/s]\n"
     ]
    },
    {
     "name": "stdout",
     "output_type": "stream",
     "text": [
      "Model 2: Epoch 29/50, Train Loss: 0.2892, Validation Loss: 0.2748\n"
     ]
    },
    {
     "name": "stderr",
     "output_type": "stream",
     "text": [
      "Train Epoch 30: 100%|████████████████████████████████████████████████████████████████| 375/375 [00:02<00:00, 163.41it/s]\n",
      "Validation Epoch 30: 100%|█████████████████████████████████████████████████████████████| 54/54 [00:00<00:00, 278.41it/s]\n"
     ]
    },
    {
     "name": "stdout",
     "output_type": "stream",
     "text": [
      "Model 2: Early stopping!\n",
      "\n",
      "\n",
      "TRAINING MODEL 3\n",
      "\n",
      "\n"
     ]
    },
    {
     "name": "stderr",
     "output_type": "stream",
     "text": [
      "Train Epoch 1: 100%|█████████████████████████████████████████████████████████████████| 375/375 [00:02<00:00, 161.56it/s]\n",
      "Validation Epoch 1: 100%|██████████████████████████████████████████████████████████████| 54/54 [00:00<00:00, 267.65it/s]\n"
     ]
    },
    {
     "name": "stdout",
     "output_type": "stream",
     "text": [
      "Model 3: Epoch 1/50, Train Loss: 0.4266, Validation Loss: 0.3211\n"
     ]
    },
    {
     "name": "stderr",
     "output_type": "stream",
     "text": [
      "Train Epoch 2: 100%|█████████████████████████████████████████████████████████████████| 375/375 [00:02<00:00, 165.55it/s]\n",
      "Validation Epoch 2: 100%|██████████████████████████████████████████████████████████████| 54/54 [00:00<00:00, 279.66it/s]\n"
     ]
    },
    {
     "name": "stdout",
     "output_type": "stream",
     "text": [
      "Model 3: Epoch 2/50, Train Loss: 0.3573, Validation Loss: 0.3217\n"
     ]
    },
    {
     "name": "stderr",
     "output_type": "stream",
     "text": [
      "Train Epoch 3: 100%|█████████████████████████████████████████████████████████████████| 375/375 [00:02<00:00, 158.23it/s]\n",
      "Validation Epoch 3: 100%|██████████████████████████████████████████████████████████████| 54/54 [00:00<00:00, 281.36it/s]\n"
     ]
    },
    {
     "name": "stdout",
     "output_type": "stream",
     "text": [
      "Model 3: Epoch 3/50, Train Loss: 0.3413, Validation Loss: 0.3100\n"
     ]
    },
    {
     "name": "stderr",
     "output_type": "stream",
     "text": [
      "Train Epoch 4: 100%|█████████████████████████████████████████████████████████████████| 375/375 [00:02<00:00, 163.94it/s]\n",
      "Validation Epoch 4: 100%|██████████████████████████████████████████████████████████████| 54/54 [00:00<00:00, 280.17it/s]\n"
     ]
    },
    {
     "name": "stdout",
     "output_type": "stream",
     "text": [
      "Model 3: Epoch 4/50, Train Loss: 0.3321, Validation Loss: 0.3033\n"
     ]
    },
    {
     "name": "stderr",
     "output_type": "stream",
     "text": [
      "Train Epoch 5: 100%|█████████████████████████████████████████████████████████████████| 375/375 [00:02<00:00, 163.41it/s]\n",
      "Validation Epoch 5: 100%|██████████████████████████████████████████████████████████████| 54/54 [00:00<00:00, 279.59it/s]\n"
     ]
    },
    {
     "name": "stdout",
     "output_type": "stream",
     "text": [
      "Model 3: Epoch 5/50, Train Loss: 0.3250, Validation Loss: 0.2888\n"
     ]
    },
    {
     "name": "stderr",
     "output_type": "stream",
     "text": [
      "Train Epoch 6: 100%|█████████████████████████████████████████████████████████████████| 375/375 [00:02<00:00, 165.62it/s]\n",
      "Validation Epoch 6: 100%|██████████████████████████████████████████████████████████████| 54/54 [00:00<00:00, 274.78it/s]\n"
     ]
    },
    {
     "name": "stdout",
     "output_type": "stream",
     "text": [
      "Model 3: Epoch 6/50, Train Loss: 0.3197, Validation Loss: 0.3159\n"
     ]
    },
    {
     "name": "stderr",
     "output_type": "stream",
     "text": [
      "Train Epoch 7: 100%|█████████████████████████████████████████████████████████████████| 375/375 [00:02<00:00, 164.04it/s]\n",
      "Validation Epoch 7: 100%|██████████████████████████████████████████████████████████████| 54/54 [00:00<00:00, 264.20it/s]\n"
     ]
    },
    {
     "name": "stdout",
     "output_type": "stream",
     "text": [
      "Model 3: Epoch 7/50, Train Loss: 0.3173, Validation Loss: 0.3026\n"
     ]
    },
    {
     "name": "stderr",
     "output_type": "stream",
     "text": [
      "Train Epoch 8: 100%|█████████████████████████████████████████████████████████████████| 375/375 [00:02<00:00, 163.46it/s]\n",
      "Validation Epoch 8: 100%|██████████████████████████████████████████████████████████████| 54/54 [00:00<00:00, 263.98it/s]\n"
     ]
    },
    {
     "name": "stdout",
     "output_type": "stream",
     "text": [
      "Model 3: Epoch 8/50, Train Loss: 0.3138, Validation Loss: 0.2970\n"
     ]
    },
    {
     "name": "stderr",
     "output_type": "stream",
     "text": [
      "Train Epoch 9: 100%|█████████████████████████████████████████████████████████████████| 375/375 [00:02<00:00, 159.57it/s]\n",
      "Validation Epoch 9: 100%|██████████████████████████████████████████████████████████████| 54/54 [00:00<00:00, 277.88it/s]\n"
     ]
    },
    {
     "name": "stdout",
     "output_type": "stream",
     "text": [
      "Model 3: Epoch 9/50, Train Loss: 0.3129, Validation Loss: 0.2818\n"
     ]
    },
    {
     "name": "stderr",
     "output_type": "stream",
     "text": [
      "Train Epoch 10: 100%|████████████████████████████████████████████████████████████████| 375/375 [00:02<00:00, 158.93it/s]\n",
      "Validation Epoch 10: 100%|█████████████████████████████████████████████████████████████| 54/54 [00:00<00:00, 281.62it/s]\n"
     ]
    },
    {
     "name": "stdout",
     "output_type": "stream",
     "text": [
      "Model 3: Epoch 10/50, Train Loss: 0.3112, Validation Loss: 0.3071\n"
     ]
    },
    {
     "name": "stderr",
     "output_type": "stream",
     "text": [
      "Train Epoch 11: 100%|████████████████████████████████████████████████████████████████| 375/375 [00:02<00:00, 161.96it/s]\n",
      "Validation Epoch 11: 100%|█████████████████████████████████████████████████████████████| 54/54 [00:00<00:00, 279.63it/s]\n"
     ]
    },
    {
     "name": "stdout",
     "output_type": "stream",
     "text": [
      "Model 3: Epoch 11/50, Train Loss: 0.3070, Validation Loss: 0.2883\n"
     ]
    },
    {
     "name": "stderr",
     "output_type": "stream",
     "text": [
      "Train Epoch 12: 100%|████████████████████████████████████████████████████████████████| 375/375 [00:02<00:00, 163.89it/s]\n",
      "Validation Epoch 12: 100%|█████████████████████████████████████████████████████████████| 54/54 [00:00<00:00, 278.36it/s]\n"
     ]
    },
    {
     "name": "stdout",
     "output_type": "stream",
     "text": [
      "Model 3: Epoch 12/50, Train Loss: 0.3055, Validation Loss: 0.2819\n"
     ]
    },
    {
     "name": "stderr",
     "output_type": "stream",
     "text": [
      "Train Epoch 13: 100%|████████████████████████████████████████████████████████████████| 375/375 [00:02<00:00, 163.67it/s]\n",
      "Validation Epoch 13: 100%|█████████████████████████████████████████████████████████████| 54/54 [00:00<00:00, 275.66it/s]\n"
     ]
    },
    {
     "name": "stdout",
     "output_type": "stream",
     "text": [
      "Model 3: Epoch 13/50, Train Loss: 0.3048, Validation Loss: 0.2884\n"
     ]
    },
    {
     "name": "stderr",
     "output_type": "stream",
     "text": [
      "Train Epoch 14: 100%|████████████████████████████████████████████████████████████████| 375/375 [00:02<00:00, 164.88it/s]\n",
      "Validation Epoch 14: 100%|█████████████████████████████████████████████████████████████| 54/54 [00:00<00:00, 279.11it/s]\n"
     ]
    },
    {
     "name": "stdout",
     "output_type": "stream",
     "text": [
      "Model 3: Epoch 14/50, Train Loss: 0.3038, Validation Loss: 0.2793\n"
     ]
    },
    {
     "name": "stderr",
     "output_type": "stream",
     "text": [
      "Train Epoch 15: 100%|████████████████████████████████████████████████████████████████| 375/375 [00:02<00:00, 163.78it/s]\n",
      "Validation Epoch 15: 100%|█████████████████████████████████████████████████████████████| 54/54 [00:00<00:00, 276.91it/s]\n"
     ]
    },
    {
     "name": "stdout",
     "output_type": "stream",
     "text": [
      "Model 3: Epoch 15/50, Train Loss: 0.3047, Validation Loss: 0.2815\n"
     ]
    },
    {
     "name": "stderr",
     "output_type": "stream",
     "text": [
      "Train Epoch 16: 100%|████████████████████████████████████████████████████████████████| 375/375 [00:02<00:00, 163.50it/s]\n",
      "Validation Epoch 16: 100%|█████████████████████████████████████████████████████████████| 54/54 [00:00<00:00, 284.92it/s]\n"
     ]
    },
    {
     "name": "stdout",
     "output_type": "stream",
     "text": [
      "Model 3: Epoch 16/50, Train Loss: 0.3025, Validation Loss: 0.2800\n"
     ]
    },
    {
     "name": "stderr",
     "output_type": "stream",
     "text": [
      "Train Epoch 17: 100%|████████████████████████████████████████████████████████████████| 375/375 [00:02<00:00, 162.65it/s]\n",
      "Validation Epoch 17: 100%|█████████████████████████████████████████████████████████████| 54/54 [00:00<00:00, 274.90it/s]\n"
     ]
    },
    {
     "name": "stdout",
     "output_type": "stream",
     "text": [
      "Model 3: Epoch 17/50, Train Loss: 0.2986, Validation Loss: 0.2906\n"
     ]
    },
    {
     "name": "stderr",
     "output_type": "stream",
     "text": [
      "Train Epoch 18: 100%|████████████████████████████████████████████████████████████████| 375/375 [00:02<00:00, 164.06it/s]\n",
      "Validation Epoch 18: 100%|█████████████████████████████████████████████████████████████| 54/54 [00:00<00:00, 283.04it/s]\n"
     ]
    },
    {
     "name": "stdout",
     "output_type": "stream",
     "text": [
      "Model 3: Epoch 18/50, Train Loss: 0.3010, Validation Loss: 0.2759\n"
     ]
    },
    {
     "name": "stderr",
     "output_type": "stream",
     "text": [
      "Train Epoch 19: 100%|████████████████████████████████████████████████████████████████| 375/375 [00:02<00:00, 163.84it/s]\n",
      "Validation Epoch 19: 100%|█████████████████████████████████████████████████████████████| 54/54 [00:00<00:00, 280.49it/s]\n"
     ]
    },
    {
     "name": "stdout",
     "output_type": "stream",
     "text": [
      "Model 3: Epoch 19/50, Train Loss: 0.2995, Validation Loss: 0.2778\n"
     ]
    },
    {
     "name": "stderr",
     "output_type": "stream",
     "text": [
      "Train Epoch 20: 100%|████████████████████████████████████████████████████████████████| 375/375 [00:02<00:00, 163.08it/s]\n",
      "Validation Epoch 20: 100%|█████████████████████████████████████████████████████████████| 54/54 [00:00<00:00, 281.78it/s]\n"
     ]
    },
    {
     "name": "stdout",
     "output_type": "stream",
     "text": [
      "Model 3: Epoch 20/50, Train Loss: 0.2971, Validation Loss: 0.2767\n"
     ]
    },
    {
     "name": "stderr",
     "output_type": "stream",
     "text": [
      "Train Epoch 21: 100%|████████████████████████████████████████████████████████████████| 375/375 [00:02<00:00, 162.81it/s]\n",
      "Validation Epoch 21: 100%|█████████████████████████████████████████████████████████████| 54/54 [00:00<00:00, 281.55it/s]\n"
     ]
    },
    {
     "name": "stdout",
     "output_type": "stream",
     "text": [
      "Model 3: Epoch 21/50, Train Loss: 0.2972, Validation Loss: 0.2916\n"
     ]
    },
    {
     "name": "stderr",
     "output_type": "stream",
     "text": [
      "Train Epoch 22: 100%|████████████████████████████████████████████████████████████████| 375/375 [00:02<00:00, 161.36it/s]\n",
      "Validation Epoch 22: 100%|█████████████████████████████████████████████████████████████| 54/54 [00:00<00:00, 270.15it/s]\n"
     ]
    },
    {
     "name": "stdout",
     "output_type": "stream",
     "text": [
      "Model 3: Epoch 22/50, Train Loss: 0.2962, Validation Loss: 0.2713\n"
     ]
    },
    {
     "name": "stderr",
     "output_type": "stream",
     "text": [
      "Train Epoch 23: 100%|████████████████████████████████████████████████████████████████| 375/375 [00:02<00:00, 164.18it/s]\n",
      "Validation Epoch 23: 100%|█████████████████████████████████████████████████████████████| 54/54 [00:00<00:00, 277.07it/s]\n"
     ]
    },
    {
     "name": "stdout",
     "output_type": "stream",
     "text": [
      "Model 3: Epoch 23/50, Train Loss: 0.2949, Validation Loss: 0.2814\n"
     ]
    },
    {
     "name": "stderr",
     "output_type": "stream",
     "text": [
      "Train Epoch 24: 100%|████████████████████████████████████████████████████████████████| 375/375 [00:02<00:00, 163.52it/s]\n",
      "Validation Epoch 24: 100%|█████████████████████████████████████████████████████████████| 54/54 [00:00<00:00, 278.48it/s]\n"
     ]
    },
    {
     "name": "stdout",
     "output_type": "stream",
     "text": [
      "Model 3: Epoch 24/50, Train Loss: 0.2949, Validation Loss: 0.2736\n"
     ]
    },
    {
     "name": "stderr",
     "output_type": "stream",
     "text": [
      "Train Epoch 25: 100%|████████████████████████████████████████████████████████████████| 375/375 [00:02<00:00, 164.91it/s]\n",
      "Validation Epoch 25: 100%|█████████████████████████████████████████████████████████████| 54/54 [00:00<00:00, 287.72it/s]\n"
     ]
    },
    {
     "name": "stdout",
     "output_type": "stream",
     "text": [
      "Model 3: Epoch 25/50, Train Loss: 0.2920, Validation Loss: 0.2727\n"
     ]
    },
    {
     "name": "stderr",
     "output_type": "stream",
     "text": [
      "Train Epoch 26: 100%|████████████████████████████████████████████████████████████████| 375/375 [00:02<00:00, 160.87it/s]\n",
      "Validation Epoch 26: 100%|█████████████████████████████████████████████████████████████| 54/54 [00:00<00:00, 280.24it/s]\n"
     ]
    },
    {
     "name": "stdout",
     "output_type": "stream",
     "text": [
      "Model 3: Epoch 26/50, Train Loss: 0.2942, Validation Loss: 0.2767\n"
     ]
    },
    {
     "name": "stderr",
     "output_type": "stream",
     "text": [
      "Train Epoch 27: 100%|████████████████████████████████████████████████████████████████| 375/375 [00:02<00:00, 159.10it/s]\n",
      "Validation Epoch 27: 100%|█████████████████████████████████████████████████████████████| 54/54 [00:00<00:00, 268.35it/s]\n"
     ]
    },
    {
     "name": "stdout",
     "output_type": "stream",
     "text": [
      "Model 3: Epoch 27/50, Train Loss: 0.2929, Validation Loss: 0.2792\n"
     ]
    },
    {
     "name": "stderr",
     "output_type": "stream",
     "text": [
      "Train Epoch 28: 100%|████████████████████████████████████████████████████████████████| 375/375 [00:02<00:00, 161.69it/s]\n",
      "Validation Epoch 28: 100%|█████████████████████████████████████████████████████████████| 54/54 [00:00<00:00, 264.27it/s]\n"
     ]
    },
    {
     "name": "stdout",
     "output_type": "stream",
     "text": [
      "Model 3: Epoch 28/50, Train Loss: 0.2914, Validation Loss: 0.2765\n"
     ]
    },
    {
     "name": "stderr",
     "output_type": "stream",
     "text": [
      "Train Epoch 29: 100%|████████████████████████████████████████████████████████████████| 375/375 [00:02<00:00, 161.89it/s]\n",
      "Validation Epoch 29: 100%|█████████████████████████████████████████████████████████████| 54/54 [00:00<00:00, 267.93it/s]\n"
     ]
    },
    {
     "name": "stdout",
     "output_type": "stream",
     "text": [
      "Model 3: Epoch 29/50, Train Loss: 0.2894, Validation Loss: 0.2736\n"
     ]
    },
    {
     "name": "stderr",
     "output_type": "stream",
     "text": [
      "Train Epoch 30: 100%|████████████████████████████████████████████████████████████████| 375/375 [00:02<00:00, 159.60it/s]\n",
      "Validation Epoch 30: 100%|█████████████████████████████████████████████████████████████| 54/54 [00:00<00:00, 214.06it/s]\n"
     ]
    },
    {
     "name": "stdout",
     "output_type": "stream",
     "text": [
      "Model 3: Epoch 30/50, Train Loss: 0.2899, Validation Loss: 0.2728\n"
     ]
    },
    {
     "name": "stderr",
     "output_type": "stream",
     "text": [
      "Train Epoch 31: 100%|████████████████████████████████████████████████████████████████| 375/375 [00:02<00:00, 163.54it/s]\n",
      "Validation Epoch 31: 100%|█████████████████████████████████████████████████████████████| 54/54 [00:00<00:00, 268.71it/s]\n"
     ]
    },
    {
     "name": "stdout",
     "output_type": "stream",
     "text": [
      "Model 3: Epoch 31/50, Train Loss: 0.2909, Validation Loss: 0.2764\n"
     ]
    },
    {
     "name": "stderr",
     "output_type": "stream",
     "text": [
      "Train Epoch 32: 100%|████████████████████████████████████████████████████████████████| 375/375 [00:02<00:00, 163.25it/s]\n",
      "Validation Epoch 32: 100%|█████████████████████████████████████████████████████████████| 54/54 [00:00<00:00, 281.51it/s]"
     ]
    },
    {
     "name": "stdout",
     "output_type": "stream",
     "text": [
      "Model 3: Early stopping!\n"
     ]
    },
    {
     "name": "stderr",
     "output_type": "stream",
     "text": [
      "\n"
     ]
    }
   ],
   "source": [
    "for train_iter in range(num_trainings):\n",
    "    print(f\"\\n\\nTRAINING MODEL {train_iter+1}\\n\\n\")\n",
    "        \n",
    "    # Define model save name\n",
    "    model_save_name = f'best_MLP_model_{train_iter+1}.pth'\n",
    "    \n",
    "    # Define a new model for each training iteration\n",
    "    mlp_model = MLPNet(mlp_input_dim, embedding_dim, output_dim, num_nodes, device).to(device)\n",
    "                                                                                      \n",
    "    # Wrap model with DataParallel to utilize all GPU resources\n",
    "    if torch.cuda.device_count() > 1:\n",
    "        mlp_model = nn.DataParallel(mlp_model)\n",
    "    \n",
    "    # Defien loss function and optimizer\n",
    "    criterion = nn.L1Loss()\n",
    "    optimizer = optim.Adam(mlp_model.parameters(), lr=learning_rate)\n",
    "    \n",
    "    best_val_loss = float('inf')\n",
    "    \n",
    "    # Training loop\n",
    "    for epoch in range(num_epochs):\n",
    "        mlp_model.train()\n",
    "        train_loss = 0.0\n",
    "        \n",
    "        for x_batch, y_batch in tqdm(train_loader, desc=f\"Train Epoch {epoch + 1}\"):\n",
    "            x_b, y_b = x_batch.to(device), y_batch.to(device)\n",
    "            optimizer.zero_grad()\n",
    "\n",
    "            # Pad batch with zeros on last batch\n",
    "            A, B, C = x_b.shape\n",
    "            if A != batch_size:\n",
    "                x_b = stb.pad_tensor(x_b, batch_size)\n",
    "                y_b = stb.pad_tensor(y_b, batch_size)\n",
    "                A, B, C = x_b.shape\n",
    "                        \n",
    "            x_b = x_b.reshape(A, B*C)\n",
    "            \n",
    "            output = mlp_model(x_b)\n",
    "            loss = criterion(output, y_b)\n",
    "            loss.backward()\n",
    "            optimizer.step()\n",
    "            train_loss += loss.item() * x_b.size(0)\n",
    "        \n",
    "        train_loss /= len(train_loader.dataset)\n",
    "    \n",
    "        # Validation loop\n",
    "        mlp_model.eval()\n",
    "        val_loss = 0.0\n",
    "        with torch.no_grad():\n",
    "            for x_val_batch, y_val_batch in tqdm(val_loader, desc=f\"Validation Epoch {epoch + 1}\"):\n",
    "                x_b, y_b = x_val_batch.to(device), y_val_batch.to(device)\n",
    "\n",
    "                # Pad batch with zeros on last batch\n",
    "                A, B, C = x_b.shape\n",
    "                if A != batch_size:\n",
    "                    x_b = stb.pad_tensor(x_b, batch_size)\n",
    "                    y_b = stb.pad_tensor(y_b, batch_size)\n",
    "                    A, B, C = x_b.shape\n",
    "                    \n",
    "                x_b = x_b.reshape(A, B*C)\n",
    "                \n",
    "                output = mlp_model(x_b)\n",
    "                loss = criterion(output, y_b)\n",
    "                val_loss += loss.item() * x_b.size(0)\n",
    "        \n",
    "        val_loss /= len(val_loader.dataset)\n",
    "    \n",
    "        # Save the best model\n",
    "        if val_loss < best_val_loss:\n",
    "            best_val_loss = val_loss\n",
    "            trigger_times = 0\n",
    "            torch.save(mlp_model.state_dict(), model_save_name)\n",
    "        else:\n",
    "            trigger_times += 1\n",
    "            if trigger_times >= patience:\n",
    "                print(f'Model {train_iter+1}: Early stopping!')\n",
    "                break\n",
    "    \n",
    "        print(f'Model {train_iter+1}: Epoch {epoch + 1}/{num_epochs}, Train Loss: {train_loss:.4f}, Validation Loss: {val_loss:.4f}')"
   ]
  },
  {
   "cell_type": "markdown",
   "id": "0fd3e842-de27-4fae-9580-d128a34d661a",
   "metadata": {},
   "source": [
    "### Evaluate the trained models\n",
    "We will generate the predicted outputs and store them in a dictionary, allowing us to plot them later"
   ]
  },
  {
   "cell_type": "code",
   "execution_count": 6,
   "id": "cd70fa0c-63b0-4c1d-a5df-d387b08b8b6c",
   "metadata": {},
   "outputs": [
    {
     "name": "stderr",
     "output_type": "stream",
     "text": [
      "Evaluating on Test Data: 100%|███████████████████████████████████████████████████████| 108/108 [00:00<00:00, 142.41it/s]\n"
     ]
    },
    {
     "name": "stdout",
     "output_type": "stream",
     "text": [
      "Model 1: Test Loss: 0.3319\n"
     ]
    },
    {
     "name": "stderr",
     "output_type": "stream",
     "text": [
      "Evaluating on Test Data: 100%|███████████████████████████████████████████████████████| 108/108 [00:00<00:00, 922.83it/s]\n"
     ]
    },
    {
     "name": "stdout",
     "output_type": "stream",
     "text": [
      "Model 2: Test Loss: 0.3325\n"
     ]
    },
    {
     "name": "stderr",
     "output_type": "stream",
     "text": [
      "Evaluating on Test Data: 100%|███████████████████████████████████████████████████████| 108/108 [00:00<00:00, 759.86it/s]\n"
     ]
    },
    {
     "name": "stdout",
     "output_type": "stream",
     "text": [
      "Model 3: Test Loss: 0.3321\n"
     ]
    }
   ],
   "source": [
    "model_preds_dict = {}\n",
    "model_actuals_dict = {}\n",
    "for test_iter in range(num_trainings):\n",
    "\n",
    "    # Load model for testing\n",
    "    model_save_name = f'best_MLP_model_{test_iter+1}.pth'\n",
    "    \n",
    "    # Load the trained model's state dictionary\n",
    "    state_dict = torch.load(model_save_name)\n",
    "    \n",
    "    # Remove 'module.' prefix if present\n",
    "    state_dict = stb.remove_module_prefix(state_dict)\n",
    "\n",
    "    # Load model parameters\n",
    "    mlp_model = MLPNet(mlp_input_dim, embedding_dim, output_dim, num_nodes, device).to(device)\n",
    "    mlp_model.load_state_dict(state_dict)\n",
    "    \n",
    "    # Define loss function and optimizer\n",
    "    criterion = nn.L1Loss()\n",
    "    optimizer = optim.Adam(mlp_model.parameters(), lr=learning_rate)\n",
    "    \n",
    "    # Testing loop\n",
    "    mlp_model.eval()\n",
    "    test_loss = 0.0\n",
    "\n",
    "    all_test_preds = []\n",
    "    all_test_actuals = []\n",
    "    with torch.no_grad():\n",
    "        for x_batch, y_batch in tqdm(test_loader, desc=f\"Evaluating on Test Data\"):\n",
    "            x_b, y_b = x_batch.to(device), y_batch.to(device)\n",
    "\n",
    "            # Pad batch_size on last batch so that it is the same as the other batch sizes\n",
    "            A, B, C = x_b.shape\n",
    "            if A != batch_size:\n",
    "                x_b = stb.pad_tensor(x_b, batch_size)\n",
    "                y_b = stb.pad_tensor(y_b, batch_size)\n",
    "                A, B, C = x_b.shape\n",
    "        \n",
    "            x_b = x_b.reshape(A, B*C)\n",
    "            \n",
    "            output = mlp_model(x_b)\n",
    "            loss = criterion(output, y_b)\n",
    "            test_loss += loss.item() * x_b.size(0)\n",
    "            all_test_preds.append(output.cpu())\n",
    "            all_test_actuals.append(y_b.cpu())\n",
    "    \n",
    "    all_test_preds = torch.cat(all_test_preds, dim=0)\n",
    "    all_test_actuals = torch.cat(all_test_actuals, dim=0)\n",
    "    \n",
    "    test_loss /= len(test_loader.dataset)\n",
    "    print(f'Model {test_iter+1}: Test Loss: {test_loss:.4f}')\n",
    "\n",
    "    # Save predictions and actuals in a dictionary for easy access later\n",
    "    model_preds_dict[test_iter+1] = all_test_preds\n",
    "    model_actuals_dict[test_iter+1] = all_test_actuals"
   ]
  },
  {
   "cell_type": "markdown",
   "id": "8ef4d2c5-9886-493a-a728-310dfc1a9bac",
   "metadata": {},
   "source": [
    "### Generate sample plots of the predicted outputs"
   ]
  },
  {
   "cell_type": "code",
   "execution_count": 9,
   "id": "1fab3b42-1d77-4528-b876-c29e9a866d95",
   "metadata": {},
   "outputs": [
    {
     "data": {
      "image/png": "[encoded data removed]",
      "text/plain": [
       "<Figure size 1000x300 with 1 Axes>"
      ]
     },
     "metadata": {},
     "output_type": "display_data"
    }
   ],
   "source": [
    "model_num = 3 # Specify the model you want to plot. This is 1-indexed\n",
    "sample_index = 439  # Specify the sample index you want to plot\n",
    "node_index = 0 # Specify the node index you want to plot\n",
    "model_test_preds = model_preds_dict[model_num]\n",
    "model_test_actuals = model_actuals_dict[model_num]\n",
    "\n",
    "# Call helper function to plot the predicted vs actual output\n",
    "stb.plot_time_series(sample_index, node_index, x_test, model_test_actuals, model_test_preds, num_timesteps, num_nodes, output_dim, mean_ind_dict, std_ind_dict, zscore=False)"
   ]
  },
  {
   "cell_type": "markdown",
   "id": "458bf48f-dc4f-43b7-a7b8-d8d774545903",
   "metadata": {},
   "source": [
    "### Calculate metrics for model evaluation"
   ]
  },
  {
   "cell_type": "code",
   "execution_count": 8,
   "id": "af1b45f1-1f86-4171-a741-d960ad5633eb",
   "metadata": {},
   "outputs": [
    {
     "name": "stdout",
     "output_type": "stream",
     "text": [
      "Average metrics over 3 training samples:\n",
      "Time Prediction 15 mins: Avg MAE: 0.2903, Avg RMSE: 0.6159, Avg MAPE: 1.6440, Std MAE: 0.0030, Std RMSE: 0.0065, Std MAPE: 0.0026\n",
      "Time Prediction 30 mins: Avg MAE: 0.3259, Avg RMSE: 0.7025, Avg MAPE: 1.8234, Std MAE: 0.0002, Std RMSE: 0.0047, Std MAPE: 0.0026\n",
      "Time Prediction 60 mins: Avg MAE: 0.3857, Avg RMSE: 0.8110, Avg MAPE: 1.9294, Std MAE: 0.0019, Std RMSE: 0.0027, Std MAPE: 0.0267\n"
     ]
    }
   ],
   "source": [
    "# Initialize empty dictionaries to hold the sum of metrics and squared sum for std calculation\n",
    "# Index 2 is 15 mins, index 5 is 30 mins, index 11 is 60 mins (each index is a 5 min interval)\n",
    "avg_metrics = {}\n",
    "std_metrics = {}\n",
    "indices = [2, 5, 11]\n",
    "\n",
    "# Initialize the dictionaries to accumulate metrics and squared metrics for each index\n",
    "for idx in indices:\n",
    "    avg_metrics[idx] = {'MAE': 0, 'RMSE': 0, 'MAPE': 0}\n",
    "    std_metrics[idx] = {'MAE': 0, 'RMSE': 0, 'MAPE': 0}\n",
    "\n",
    "# Loop over each training/trial\n",
    "for model_num in range(num_trainings):\n",
    "    model_test_preds = model_preds_dict[model_num + 1]\n",
    "    model_test_actuals = model_actuals_dict[model_num + 1]\n",
    "    \n",
    "    # Get metrics for this trial\n",
    "    metrics = stb.calculate_metrics_per_index(model_test_preds, model_test_actuals, indices)\n",
    "    \n",
    "    # Accumulate the metrics and squared metrics for averaging and std calculation\n",
    "    for idx in metrics:\n",
    "        for metric in metrics[idx]:\n",
    "            avg_metrics[idx][metric] += metrics[idx][metric]\n",
    "            std_metrics[idx][metric] += metrics[idx][metric] ** 2\n",
    "\n",
    "# Calculate the average and std across all trials\n",
    "for idx in avg_metrics:\n",
    "    for metric in avg_metrics[idx]:\n",
    "        avg_metrics[idx][metric] /= num_trainings\n",
    "        std_metrics[idx][metric] = np.sqrt(std_metrics[idx][metric] / num_trainings - avg_metrics[idx][metric] ** 2)\n",
    "\n",
    "# Print the averaged and std metrics for each index\n",
    "print(f\"Average metrics over {num_trainings} training samples:\")\n",
    "for idx in avg_metrics:\n",
    "    print(f\"Time Prediction {(idx + 1) * 5} mins: \"\n",
    "          f\"Avg MAE: {avg_metrics[idx]['MAE']:.4f}, \"\n",
    "          f\"Avg RMSE: {avg_metrics[idx]['RMSE']:.4f}, \"\n",
    "          f\"Avg MAPE: {avg_metrics[idx]['MAPE']:.4f}, \"\n",
    "          f\"Std MAE: {std_metrics[idx]['MAE']:.4f}, \"\n",
    "          f\"Std RMSE: {std_metrics[idx]['RMSE']:.4f}, \"\n",
    "          f\"Std MAPE: {std_metrics[idx]['MAPE']:.4f}\")\n"
   ]
  },
  {
   "cell_type": "markdown",
   "id": "be2a1353-cae0-4bba-a0cc-5eca97bf8b00",
   "metadata": {},
   "source": [
    "### Train a KDE baseline\n",
    "We will train a KDE model multiple times and randomly sample from the probability distribution for the ouptut. We will evaluate the metrics on this model, which should give us a baseline for a random model's behavior."
   ]
  },
  {
   "cell_type": "code",
   "execution_count": 10,
   "id": "ea51d0cd-4911-458a-9ddb-466b6f4e54a9",
   "metadata": {},
   "outputs": [
    {
     "name": "stdout",
     "output_type": "stream",
     "text": [
      "Average over 3 trials:\n",
      "Time Prediction 15 mins: Avg MAE: 0.9750, Avg RMSE: 1.4990, Avg MAPE: 4.1143, Std MAE: 0.0007, Std RMSE: 0.0007, Std MAPE: 0.1241\n",
      "Time Prediction 30 mins: Avg MAE: 0.9750, Avg RMSE: 1.4990, Avg MAPE: 4.1143, Std MAE: 0.0007, Std RMSE: 0.0007, Std MAPE: 0.1241\n",
      "Time Prediction 60 mins: Avg MAE: 0.9750, Avg RMSE: 1.4990, Avg MAPE: 4.1143, Std MAE: 0.0007, Std RMSE: 0.0007, Std MAPE: 0.1241\n"
     ]
    }
   ],
   "source": [
    "# Define the number of trials and relevant indices\n",
    "# Index 2 is 15 mins, index 5 is 30 mins, index 11 is 60 mins (each index is a 5 min interval)\n",
    "num_trials = 3\n",
    "indices = [2, 5, 11]\n",
    "\n",
    "# Initialize lists to store all metrics across trials\n",
    "all_mae, all_rmse, all_mape = [], [], []\n",
    "squared_mae, squared_rmse, squared_mape = [], [], []\n",
    "\n",
    "# Run the experiment multiple times and store the results\n",
    "for trial in range(num_trials):\n",
    "    # Train KDE on flattened x_train\n",
    "    kde = gaussian_kde(x_train.flatten())\n",
    "\n",
    "    # Generate new samples from the KDE\n",
    "    num_samples = y_test.numel()  # Total number of elements in y_test\n",
    "    generated_samples = kde.resample(num_samples).flatten()\n",
    "\n",
    "    # Convert generated samples into a torch tensor with the shape of y_test\n",
    "    random_preds = torch.tensor(generated_samples, dtype=torch.float32).reshape(y_test.shape)\n",
    "\n",
    "    # Calculate metrics for the current trial\n",
    "    metrics = stb.calculate_metrics_per_index(random_preds, y_test, indices)\n",
    "\n",
    "    # Store the metrics for this trial\n",
    "    for idx in metrics:\n",
    "        all_mae.append(metrics[idx]['MAE'])\n",
    "        all_rmse.append(metrics[idx]['RMSE'])\n",
    "        all_mape.append(metrics[idx]['MAPE'])\n",
    "        \n",
    "        # Store squared values for std calculation\n",
    "        squared_mae.append(metrics[idx]['MAE'] ** 2)\n",
    "        squared_rmse.append(metrics[idx]['RMSE'] ** 2)\n",
    "        squared_mape.append(metrics[idx]['MAPE'] ** 2)\n",
    "\n",
    "# Calculate the averages and standard deviations of each metric\n",
    "avg_mae = np.mean(all_mae)\n",
    "avg_rmse = np.mean(all_rmse)\n",
    "avg_mape = np.mean(all_mape)\n",
    "\n",
    "std_mae = np.sqrt(np.mean(squared_mae) - avg_mae ** 2)\n",
    "std_rmse = np.sqrt(np.mean(squared_rmse) - avg_rmse ** 2)\n",
    "std_mape = np.sqrt(np.mean(squared_mape) - avg_mape ** 2)\n",
    "\n",
    "# Print the average and std results\n",
    "print(f\"Average over {num_trials} trials:\")\n",
    "for idx in indices:\n",
    "    print(f\"Time Prediction {(idx + 1) * 5} mins: \"\n",
    "          f\"Avg MAE: {avg_mae:.4f}, \"\n",
    "          f\"Avg RMSE: {avg_rmse:.4f}, \"\n",
    "          f\"Avg MAPE: {avg_mape:.4f}, \"\n",
    "          f\"Std MAE: {std_mae:.4f}, \"\n",
    "          f\"Std RMSE: {std_rmse:.4f}, \"\n",
    "          f\"Std MAPE: {std_mape:.4f}\")"
   ]
  },
  {
   "cell_type": "code",
   "execution_count": null,
   "id": "d69d073d-a9cf-413e-8b3e-409680b55868",
   "metadata": {},
   "outputs": [],
   "source": []
  }
 ],
 "metadata": {
  "kernelspec": {
   "display_name": "Python 3 (ipykernel)",
   "language": "python",
   "name": "python3"
  },
  "language_info": {
   "codemirror_mode": {
    "name": "ipython",
    "version": 3
   },
   "file_extension": ".py",
   "mimetype": "text/x-python",
   "name": "python",
   "nbconvert_exporter": "python",
   "pygments_lexer": "ipython3",
   "version": "3.9.18"
  }
 },
 "nbformat": 4,
 "nbformat_minor": 5
}
